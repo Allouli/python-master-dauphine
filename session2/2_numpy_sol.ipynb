{
 "cells": [
  {
   "cell_type": "markdown",
   "metadata": {},
   "source": [
    "# Numpy et matplotlib\n",
    "\n",
    "Dans cette section, nous allons découvrir deux modules indispensables à la programmation scientifique: [Numpy](http://www.numpy.org/) et [Matplotlib](http://matplotlib.org/).\n",
    "\n",
    "Cette section est adaptée d'un cours de Slim Essid et Alexandre Gramfort, qui était lui-même adapté du travail de J.R. Johansson (robert@riken.jp) http://dml.riken.jp/~rob/. Elle s'inspire aussi de la leçon du [Numpy avancé](https://paris-swc.github.io/advanced-numpy-lesson/) de Softwate Carpentry."
   ]
  },
  {
   "cell_type": "markdown",
   "metadata": {},
   "source": [
    "## Introduction\n",
    "\n",
    " "
   ]
  },
  {
   "cell_type": "markdown",
   "metadata": {},
   "source": [
    "* `numpy` est un module utilisé dans presque tous les projets de calcul numérique sous Python\n",
    "   * Il fournit des structures de données performantes pour la manipulation de vecteurs, matrices et tenseurs plus généraux\n",
    "   * `numpy` est écrit en C et en Fortran d'où ses performances élevées lorsque les calculs sont vectorisés (formulés comme des opérations sur des vecteurs/matrices)"
   ]
  },
  {
   "cell_type": "markdown",
   "metadata": {},
   "source": [
    " * `matplotlib` est un module performant pour la génération de graphiques en 2D et 3D\n",
    "   * syntaxe très proche de celle de Matlab\n",
    "   * supporte texte et étiquettes en $\\LaTeX$\n",
    "   * sortie de qualité dans divers formats (PNG, PDF, SV, EPS...)\n",
    "   * interface graphique interactive pour explorer les figures"
   ]
  },
  {
   "cell_type": "markdown",
   "metadata": {},
   "source": [
    "Pour utiliser `numpy` et `matplotlib` il faut commencer par les importer :"
   ]
  },
  {
   "cell_type": "code",
   "execution_count": 1,
   "metadata": {},
   "outputs": [],
   "source": [
    "import numpy as np\n",
    "import matplotlib.pyplot as plt"
   ]
  },
  {
   "cell_type": "code",
   "execution_count": 2,
   "metadata": {},
   "outputs": [],
   "source": [
    "%matplotlib notebook"
   ]
  },
  {
   "cell_type": "markdown",
   "metadata": {},
   "source": [
    "On peut aussi faire cela (mais ce n'est pas conseillé):"
   ]
  },
  {
   "cell_type": "code",
   "execution_count": 3,
   "metadata": {},
   "outputs": [],
   "source": [
    "from numpy import *\n",
    "from matplotlib.pyplot import *"
   ]
  },
  {
   "cell_type": "markdown",
   "metadata": {},
   "source": [
    "## *Arrays* `numpy`\n",
    "\n",
    "Dans la terminologie `numpy`, vecteurs, matrices et autres tenseurs sont appelés *arrays*.\n"
   ]
  },
  {
   "cell_type": "markdown",
   "metadata": {},
   "source": [
    "## Création d'*arrays* `numpy` \n",
    "\n",
    "Plusieurs possibilités:\n",
    "\n",
    " * à partir de listes ou tuples\n",
    " * en utilisant des fonctions dédiées, telles que `arange`, `linspace`, etc.\n",
    " * par chargement à partir de fichiers\n",
    "\n",
    "### A partir de listes\n",
    "\n",
    "Au moyen de la fonction `numpy.array` :\n"
   ]
  },
  {
   "cell_type": "code",
   "execution_count": 3,
   "metadata": {},
   "outputs": [
    {
     "name": "stdout",
     "output_type": "stream",
     "text": [
      "[1 3 2 4]\n",
      "<class 'numpy.ndarray'>\n"
     ]
    }
   ],
   "source": [
    "# un vecteur: l'argument de la fonction est une liste Python\n",
    "v = np.array([1, 3, 2, 4])\n",
    "print(v)\n",
    "print(type(v))"
   ]
  },
  {
   "cell_type": "markdown",
   "metadata": {},
   "source": [
    "On peut alors visualiser ces données :"
   ]
  },
  {
   "cell_type": "code",
   "execution_count": 4,
   "metadata": {},
   "outputs": [
    {
     "data": {
      "application/javascript": [
       "/* Put everything inside the global mpl namespace */\n",
       "window.mpl = {};\n",
       "\n",
       "\n",
       "mpl.get_websocket_type = function() {\n",
       "    if (typeof(WebSocket) !== 'undefined') {\n",
       "        return WebSocket;\n",
       "    } else if (typeof(MozWebSocket) !== 'undefined') {\n",
       "        return MozWebSocket;\n",
       "    } else {\n",
       "        alert('Your browser does not have WebSocket support.' +\n",
       "              'Please try Chrome, Safari or Firefox ≥ 6. ' +\n",
       "              'Firefox 4 and 5 are also supported but you ' +\n",
       "              'have to enable WebSockets in about:config.');\n",
       "    };\n",
       "}\n",
       "\n",
       "mpl.figure = function(figure_id, websocket, ondownload, parent_element) {\n",
       "    this.id = figure_id;\n",
       "\n",
       "    this.ws = websocket;\n",
       "\n",
       "    this.supports_binary = (this.ws.binaryType != undefined);\n",
       "\n",
       "    if (!this.supports_binary) {\n",
       "        var warnings = document.getElementById(\"mpl-warnings\");\n",
       "        if (warnings) {\n",
       "            warnings.style.display = 'block';\n",
       "            warnings.textContent = (\n",
       "                \"This browser does not support binary websocket messages. \" +\n",
       "                    \"Performance may be slow.\");\n",
       "        }\n",
       "    }\n",
       "\n",
       "    this.imageObj = new Image();\n",
       "\n",
       "    this.context = undefined;\n",
       "    this.message = undefined;\n",
       "    this.canvas = undefined;\n",
       "    this.rubberband_canvas = undefined;\n",
       "    this.rubberband_context = undefined;\n",
       "    this.format_dropdown = undefined;\n",
       "\n",
       "    this.image_mode = 'full';\n",
       "\n",
       "    this.root = $('<div/>');\n",
       "    this._root_extra_style(this.root)\n",
       "    this.root.attr('style', 'display: inline-block');\n",
       "\n",
       "    $(parent_element).append(this.root);\n",
       "\n",
       "    this._init_header(this);\n",
       "    this._init_canvas(this);\n",
       "    this._init_toolbar(this);\n",
       "\n",
       "    var fig = this;\n",
       "\n",
       "    this.waiting = false;\n",
       "\n",
       "    this.ws.onopen =  function () {\n",
       "            fig.send_message(\"supports_binary\", {value: fig.supports_binary});\n",
       "            fig.send_message(\"send_image_mode\", {});\n",
       "            if (mpl.ratio != 1) {\n",
       "                fig.send_message(\"set_dpi_ratio\", {'dpi_ratio': mpl.ratio});\n",
       "            }\n",
       "            fig.send_message(\"refresh\", {});\n",
       "        }\n",
       "\n",
       "    this.imageObj.onload = function() {\n",
       "            if (fig.image_mode == 'full') {\n",
       "                // Full images could contain transparency (where diff images\n",
       "                // almost always do), so we need to clear the canvas so that\n",
       "                // there is no ghosting.\n",
       "                fig.context.clearRect(0, 0, fig.canvas.width, fig.canvas.height);\n",
       "            }\n",
       "            fig.context.drawImage(fig.imageObj, 0, 0);\n",
       "        };\n",
       "\n",
       "    this.imageObj.onunload = function() {\n",
       "        this.ws.close();\n",
       "    }\n",
       "\n",
       "    this.ws.onmessage = this._make_on_message_function(this);\n",
       "\n",
       "    this.ondownload = ondownload;\n",
       "}\n",
       "\n",
       "mpl.figure.prototype._init_header = function() {\n",
       "    var titlebar = $(\n",
       "        '<div class=\"ui-dialog-titlebar ui-widget-header ui-corner-all ' +\n",
       "        'ui-helper-clearfix\"/>');\n",
       "    var titletext = $(\n",
       "        '<div class=\"ui-dialog-title\" style=\"width: 100%; ' +\n",
       "        'text-align: center; padding: 3px;\"/>');\n",
       "    titlebar.append(titletext)\n",
       "    this.root.append(titlebar);\n",
       "    this.header = titletext[0];\n",
       "}\n",
       "\n",
       "\n",
       "\n",
       "mpl.figure.prototype._canvas_extra_style = function(canvas_div) {\n",
       "\n",
       "}\n",
       "\n",
       "\n",
       "mpl.figure.prototype._root_extra_style = function(canvas_div) {\n",
       "\n",
       "}\n",
       "\n",
       "mpl.figure.prototype._init_canvas = function() {\n",
       "    var fig = this;\n",
       "\n",
       "    var canvas_div = $('<div/>');\n",
       "\n",
       "    canvas_div.attr('style', 'position: relative; clear: both; outline: 0');\n",
       "\n",
       "    function canvas_keyboard_event(event) {\n",
       "        return fig.key_event(event, event['data']);\n",
       "    }\n",
       "\n",
       "    canvas_div.keydown('key_press', canvas_keyboard_event);\n",
       "    canvas_div.keyup('key_release', canvas_keyboard_event);\n",
       "    this.canvas_div = canvas_div\n",
       "    this._canvas_extra_style(canvas_div)\n",
       "    this.root.append(canvas_div);\n",
       "\n",
       "    var canvas = $('<canvas/>');\n",
       "    canvas.addClass('mpl-canvas');\n",
       "    canvas.attr('style', \"left: 0; top: 0; z-index: 0; outline: 0\")\n",
       "\n",
       "    this.canvas = canvas[0];\n",
       "    this.context = canvas[0].getContext(\"2d\");\n",
       "\n",
       "    var backingStore = this.context.backingStorePixelRatio ||\n",
       "\tthis.context.webkitBackingStorePixelRatio ||\n",
       "\tthis.context.mozBackingStorePixelRatio ||\n",
       "\tthis.context.msBackingStorePixelRatio ||\n",
       "\tthis.context.oBackingStorePixelRatio ||\n",
       "\tthis.context.backingStorePixelRatio || 1;\n",
       "\n",
       "    mpl.ratio = (window.devicePixelRatio || 1) / backingStore;\n",
       "\n",
       "    var rubberband = $('<canvas/>');\n",
       "    rubberband.attr('style', \"position: absolute; left: 0; top: 0; z-index: 1;\")\n",
       "\n",
       "    var pass_mouse_events = true;\n",
       "\n",
       "    canvas_div.resizable({\n",
       "        start: function(event, ui) {\n",
       "            pass_mouse_events = false;\n",
       "        },\n",
       "        resize: function(event, ui) {\n",
       "            fig.request_resize(ui.size.width, ui.size.height);\n",
       "        },\n",
       "        stop: function(event, ui) {\n",
       "            pass_mouse_events = true;\n",
       "            fig.request_resize(ui.size.width, ui.size.height);\n",
       "        },\n",
       "    });\n",
       "\n",
       "    function mouse_event_fn(event) {\n",
       "        if (pass_mouse_events)\n",
       "            return fig.mouse_event(event, event['data']);\n",
       "    }\n",
       "\n",
       "    rubberband.mousedown('button_press', mouse_event_fn);\n",
       "    rubberband.mouseup('button_release', mouse_event_fn);\n",
       "    // Throttle sequential mouse events to 1 every 20ms.\n",
       "    rubberband.mousemove('motion_notify', mouse_event_fn);\n",
       "\n",
       "    rubberband.mouseenter('figure_enter', mouse_event_fn);\n",
       "    rubberband.mouseleave('figure_leave', mouse_event_fn);\n",
       "\n",
       "    canvas_div.on(\"wheel\", function (event) {\n",
       "        event = event.originalEvent;\n",
       "        event['data'] = 'scroll'\n",
       "        if (event.deltaY < 0) {\n",
       "            event.step = 1;\n",
       "        } else {\n",
       "            event.step = -1;\n",
       "        }\n",
       "        mouse_event_fn(event);\n",
       "    });\n",
       "\n",
       "    canvas_div.append(canvas);\n",
       "    canvas_div.append(rubberband);\n",
       "\n",
       "    this.rubberband = rubberband;\n",
       "    this.rubberband_canvas = rubberband[0];\n",
       "    this.rubberband_context = rubberband[0].getContext(\"2d\");\n",
       "    this.rubberband_context.strokeStyle = \"#000000\";\n",
       "\n",
       "    this._resize_canvas = function(width, height) {\n",
       "        // Keep the size of the canvas, canvas container, and rubber band\n",
       "        // canvas in synch.\n",
       "        canvas_div.css('width', width)\n",
       "        canvas_div.css('height', height)\n",
       "\n",
       "        canvas.attr('width', width * mpl.ratio);\n",
       "        canvas.attr('height', height * mpl.ratio);\n",
       "        canvas.attr('style', 'width: ' + width + 'px; height: ' + height + 'px;');\n",
       "\n",
       "        rubberband.attr('width', width);\n",
       "        rubberband.attr('height', height);\n",
       "    }\n",
       "\n",
       "    // Set the figure to an initial 600x600px, this will subsequently be updated\n",
       "    // upon first draw.\n",
       "    this._resize_canvas(600, 600);\n",
       "\n",
       "    // Disable right mouse context menu.\n",
       "    $(this.rubberband_canvas).bind(\"contextmenu\",function(e){\n",
       "        return false;\n",
       "    });\n",
       "\n",
       "    function set_focus () {\n",
       "        canvas.focus();\n",
       "        canvas_div.focus();\n",
       "    }\n",
       "\n",
       "    window.setTimeout(set_focus, 100);\n",
       "}\n",
       "\n",
       "mpl.figure.prototype._init_toolbar = function() {\n",
       "    var fig = this;\n",
       "\n",
       "    var nav_element = $('<div/>')\n",
       "    nav_element.attr('style', 'width: 100%');\n",
       "    this.root.append(nav_element);\n",
       "\n",
       "    // Define a callback function for later on.\n",
       "    function toolbar_event(event) {\n",
       "        return fig.toolbar_button_onclick(event['data']);\n",
       "    }\n",
       "    function toolbar_mouse_event(event) {\n",
       "        return fig.toolbar_button_onmouseover(event['data']);\n",
       "    }\n",
       "\n",
       "    for(var toolbar_ind in mpl.toolbar_items) {\n",
       "        var name = mpl.toolbar_items[toolbar_ind][0];\n",
       "        var tooltip = mpl.toolbar_items[toolbar_ind][1];\n",
       "        var image = mpl.toolbar_items[toolbar_ind][2];\n",
       "        var method_name = mpl.toolbar_items[toolbar_ind][3];\n",
       "\n",
       "        if (!name) {\n",
       "            // put a spacer in here.\n",
       "            continue;\n",
       "        }\n",
       "        var button = $('<button/>');\n",
       "        button.addClass('ui-button ui-widget ui-state-default ui-corner-all ' +\n",
       "                        'ui-button-icon-only');\n",
       "        button.attr('role', 'button');\n",
       "        button.attr('aria-disabled', 'false');\n",
       "        button.click(method_name, toolbar_event);\n",
       "        button.mouseover(tooltip, toolbar_mouse_event);\n",
       "\n",
       "        var icon_img = $('<span/>');\n",
       "        icon_img.addClass('ui-button-icon-primary ui-icon');\n",
       "        icon_img.addClass(image);\n",
       "        icon_img.addClass('ui-corner-all');\n",
       "\n",
       "        var tooltip_span = $('<span/>');\n",
       "        tooltip_span.addClass('ui-button-text');\n",
       "        tooltip_span.html(tooltip);\n",
       "\n",
       "        button.append(icon_img);\n",
       "        button.append(tooltip_span);\n",
       "\n",
       "        nav_element.append(button);\n",
       "    }\n",
       "\n",
       "    var fmt_picker_span = $('<span/>');\n",
       "\n",
       "    var fmt_picker = $('<select/>');\n",
       "    fmt_picker.addClass('mpl-toolbar-option ui-widget ui-widget-content');\n",
       "    fmt_picker_span.append(fmt_picker);\n",
       "    nav_element.append(fmt_picker_span);\n",
       "    this.format_dropdown = fmt_picker[0];\n",
       "\n",
       "    for (var ind in mpl.extensions) {\n",
       "        var fmt = mpl.extensions[ind];\n",
       "        var option = $(\n",
       "            '<option/>', {selected: fmt === mpl.default_extension}).html(fmt);\n",
       "        fmt_picker.append(option)\n",
       "    }\n",
       "\n",
       "    // Add hover states to the ui-buttons\n",
       "    $( \".ui-button\" ).hover(\n",
       "        function() { $(this).addClass(\"ui-state-hover\");},\n",
       "        function() { $(this).removeClass(\"ui-state-hover\");}\n",
       "    );\n",
       "\n",
       "    var status_bar = $('<span class=\"mpl-message\"/>');\n",
       "    nav_element.append(status_bar);\n",
       "    this.message = status_bar[0];\n",
       "}\n",
       "\n",
       "mpl.figure.prototype.request_resize = function(x_pixels, y_pixels) {\n",
       "    // Request matplotlib to resize the figure. Matplotlib will then trigger a resize in the client,\n",
       "    // which will in turn request a refresh of the image.\n",
       "    this.send_message('resize', {'width': x_pixels, 'height': y_pixels});\n",
       "}\n",
       "\n",
       "mpl.figure.prototype.send_message = function(type, properties) {\n",
       "    properties['type'] = type;\n",
       "    properties['figure_id'] = this.id;\n",
       "    this.ws.send(JSON.stringify(properties));\n",
       "}\n",
       "\n",
       "mpl.figure.prototype.send_draw_message = function() {\n",
       "    if (!this.waiting) {\n",
       "        this.waiting = true;\n",
       "        this.ws.send(JSON.stringify({type: \"draw\", figure_id: this.id}));\n",
       "    }\n",
       "}\n",
       "\n",
       "\n",
       "mpl.figure.prototype.handle_save = function(fig, msg) {\n",
       "    var format_dropdown = fig.format_dropdown;\n",
       "    var format = format_dropdown.options[format_dropdown.selectedIndex].value;\n",
       "    fig.ondownload(fig, format);\n",
       "}\n",
       "\n",
       "\n",
       "mpl.figure.prototype.handle_resize = function(fig, msg) {\n",
       "    var size = msg['size'];\n",
       "    if (size[0] != fig.canvas.width || size[1] != fig.canvas.height) {\n",
       "        fig._resize_canvas(size[0], size[1]);\n",
       "        fig.send_message(\"refresh\", {});\n",
       "    };\n",
       "}\n",
       "\n",
       "mpl.figure.prototype.handle_rubberband = function(fig, msg) {\n",
       "    var x0 = msg['x0'] / mpl.ratio;\n",
       "    var y0 = (fig.canvas.height - msg['y0']) / mpl.ratio;\n",
       "    var x1 = msg['x1'] / mpl.ratio;\n",
       "    var y1 = (fig.canvas.height - msg['y1']) / mpl.ratio;\n",
       "    x0 = Math.floor(x0) + 0.5;\n",
       "    y0 = Math.floor(y0) + 0.5;\n",
       "    x1 = Math.floor(x1) + 0.5;\n",
       "    y1 = Math.floor(y1) + 0.5;\n",
       "    var min_x = Math.min(x0, x1);\n",
       "    var min_y = Math.min(y0, y1);\n",
       "    var width = Math.abs(x1 - x0);\n",
       "    var height = Math.abs(y1 - y0);\n",
       "\n",
       "    fig.rubberband_context.clearRect(\n",
       "        0, 0, fig.canvas.width, fig.canvas.height);\n",
       "\n",
       "    fig.rubberband_context.strokeRect(min_x, min_y, width, height);\n",
       "}\n",
       "\n",
       "mpl.figure.prototype.handle_figure_label = function(fig, msg) {\n",
       "    // Updates the figure title.\n",
       "    fig.header.textContent = msg['label'];\n",
       "}\n",
       "\n",
       "mpl.figure.prototype.handle_cursor = function(fig, msg) {\n",
       "    var cursor = msg['cursor'];\n",
       "    switch(cursor)\n",
       "    {\n",
       "    case 0:\n",
       "        cursor = 'pointer';\n",
       "        break;\n",
       "    case 1:\n",
       "        cursor = 'default';\n",
       "        break;\n",
       "    case 2:\n",
       "        cursor = 'crosshair';\n",
       "        break;\n",
       "    case 3:\n",
       "        cursor = 'move';\n",
       "        break;\n",
       "    }\n",
       "    fig.rubberband_canvas.style.cursor = cursor;\n",
       "}\n",
       "\n",
       "mpl.figure.prototype.handle_message = function(fig, msg) {\n",
       "    fig.message.textContent = msg['message'];\n",
       "}\n",
       "\n",
       "mpl.figure.prototype.handle_draw = function(fig, msg) {\n",
       "    // Request the server to send over a new figure.\n",
       "    fig.send_draw_message();\n",
       "}\n",
       "\n",
       "mpl.figure.prototype.handle_image_mode = function(fig, msg) {\n",
       "    fig.image_mode = msg['mode'];\n",
       "}\n",
       "\n",
       "mpl.figure.prototype.updated_canvas_event = function() {\n",
       "    // Called whenever the canvas gets updated.\n",
       "    this.send_message(\"ack\", {});\n",
       "}\n",
       "\n",
       "// A function to construct a web socket function for onmessage handling.\n",
       "// Called in the figure constructor.\n",
       "mpl.figure.prototype._make_on_message_function = function(fig) {\n",
       "    return function socket_on_message(evt) {\n",
       "        if (evt.data instanceof Blob) {\n",
       "            /* FIXME: We get \"Resource interpreted as Image but\n",
       "             * transferred with MIME type text/plain:\" errors on\n",
       "             * Chrome.  But how to set the MIME type?  It doesn't seem\n",
       "             * to be part of the websocket stream */\n",
       "            evt.data.type = \"image/png\";\n",
       "\n",
       "            /* Free the memory for the previous frames */\n",
       "            if (fig.imageObj.src) {\n",
       "                (window.URL || window.webkitURL).revokeObjectURL(\n",
       "                    fig.imageObj.src);\n",
       "            }\n",
       "\n",
       "            fig.imageObj.src = (window.URL || window.webkitURL).createObjectURL(\n",
       "                evt.data);\n",
       "            fig.updated_canvas_event();\n",
       "            fig.waiting = false;\n",
       "            return;\n",
       "        }\n",
       "        else if (typeof evt.data === 'string' && evt.data.slice(0, 21) == \"data:image/png;base64\") {\n",
       "            fig.imageObj.src = evt.data;\n",
       "            fig.updated_canvas_event();\n",
       "            fig.waiting = false;\n",
       "            return;\n",
       "        }\n",
       "\n",
       "        var msg = JSON.parse(evt.data);\n",
       "        var msg_type = msg['type'];\n",
       "\n",
       "        // Call the  \"handle_{type}\" callback, which takes\n",
       "        // the figure and JSON message as its only arguments.\n",
       "        try {\n",
       "            var callback = fig[\"handle_\" + msg_type];\n",
       "        } catch (e) {\n",
       "            console.log(\"No handler for the '\" + msg_type + \"' message type: \", msg);\n",
       "            return;\n",
       "        }\n",
       "\n",
       "        if (callback) {\n",
       "            try {\n",
       "                // console.log(\"Handling '\" + msg_type + \"' message: \", msg);\n",
       "                callback(fig, msg);\n",
       "            } catch (e) {\n",
       "                console.log(\"Exception inside the 'handler_\" + msg_type + \"' callback:\", e, e.stack, msg);\n",
       "            }\n",
       "        }\n",
       "    };\n",
       "}\n",
       "\n",
       "// from http://stackoverflow.com/questions/1114465/getting-mouse-location-in-canvas\n",
       "mpl.findpos = function(e) {\n",
       "    //this section is from http://www.quirksmode.org/js/events_properties.html\n",
       "    var targ;\n",
       "    if (!e)\n",
       "        e = window.event;\n",
       "    if (e.target)\n",
       "        targ = e.target;\n",
       "    else if (e.srcElement)\n",
       "        targ = e.srcElement;\n",
       "    if (targ.nodeType == 3) // defeat Safari bug\n",
       "        targ = targ.parentNode;\n",
       "\n",
       "    // jQuery normalizes the pageX and pageY\n",
       "    // pageX,Y are the mouse positions relative to the document\n",
       "    // offset() returns the position of the element relative to the document\n",
       "    var x = e.pageX - $(targ).offset().left;\n",
       "    var y = e.pageY - $(targ).offset().top;\n",
       "\n",
       "    return {\"x\": x, \"y\": y};\n",
       "};\n",
       "\n",
       "/*\n",
       " * return a copy of an object with only non-object keys\n",
       " * we need this to avoid circular references\n",
       " * http://stackoverflow.com/a/24161582/3208463\n",
       " */\n",
       "function simpleKeys (original) {\n",
       "  return Object.keys(original).reduce(function (obj, key) {\n",
       "    if (typeof original[key] !== 'object')\n",
       "        obj[key] = original[key]\n",
       "    return obj;\n",
       "  }, {});\n",
       "}\n",
       "\n",
       "mpl.figure.prototype.mouse_event = function(event, name) {\n",
       "    var canvas_pos = mpl.findpos(event)\n",
       "\n",
       "    if (name === 'button_press')\n",
       "    {\n",
       "        this.canvas.focus();\n",
       "        this.canvas_div.focus();\n",
       "    }\n",
       "\n",
       "    var x = canvas_pos.x * mpl.ratio;\n",
       "    var y = canvas_pos.y * mpl.ratio;\n",
       "\n",
       "    this.send_message(name, {x: x, y: y, button: event.button,\n",
       "                             step: event.step,\n",
       "                             guiEvent: simpleKeys(event)});\n",
       "\n",
       "    /* This prevents the web browser from automatically changing to\n",
       "     * the text insertion cursor when the button is pressed.  We want\n",
       "     * to control all of the cursor setting manually through the\n",
       "     * 'cursor' event from matplotlib */\n",
       "    event.preventDefault();\n",
       "    return false;\n",
       "}\n",
       "\n",
       "mpl.figure.prototype._key_event_extra = function(event, name) {\n",
       "    // Handle any extra behaviour associated with a key event\n",
       "}\n",
       "\n",
       "mpl.figure.prototype.key_event = function(event, name) {\n",
       "\n",
       "    // Prevent repeat events\n",
       "    if (name == 'key_press')\n",
       "    {\n",
       "        if (event.which === this._key)\n",
       "            return;\n",
       "        else\n",
       "            this._key = event.which;\n",
       "    }\n",
       "    if (name == 'key_release')\n",
       "        this._key = null;\n",
       "\n",
       "    var value = '';\n",
       "    if (event.ctrlKey && event.which != 17)\n",
       "        value += \"ctrl+\";\n",
       "    if (event.altKey && event.which != 18)\n",
       "        value += \"alt+\";\n",
       "    if (event.shiftKey && event.which != 16)\n",
       "        value += \"shift+\";\n",
       "\n",
       "    value += 'k';\n",
       "    value += event.which.toString();\n",
       "\n",
       "    this._key_event_extra(event, name);\n",
       "\n",
       "    this.send_message(name, {key: value,\n",
       "                             guiEvent: simpleKeys(event)});\n",
       "    return false;\n",
       "}\n",
       "\n",
       "mpl.figure.prototype.toolbar_button_onclick = function(name) {\n",
       "    if (name == 'download') {\n",
       "        this.handle_save(this, null);\n",
       "    } else {\n",
       "        this.send_message(\"toolbar_button\", {name: name});\n",
       "    }\n",
       "};\n",
       "\n",
       "mpl.figure.prototype.toolbar_button_onmouseover = function(tooltip) {\n",
       "    this.message.textContent = tooltip;\n",
       "};\n",
       "mpl.toolbar_items = [[\"Home\", \"Reset original view\", \"fa fa-home icon-home\", \"home\"], [\"Back\", \"Back to  previous view\", \"fa fa-arrow-left icon-arrow-left\", \"back\"], [\"Forward\", \"Forward to next view\", \"fa fa-arrow-right icon-arrow-right\", \"forward\"], [\"\", \"\", \"\", \"\"], [\"Pan\", \"Pan axes with left mouse, zoom with right\", \"fa fa-arrows icon-move\", \"pan\"], [\"Zoom\", \"Zoom to rectangle\", \"fa fa-square-o icon-check-empty\", \"zoom\"], [\"\", \"\", \"\", \"\"], [\"Download\", \"Download plot\", \"fa fa-floppy-o icon-save\", \"download\"]];\n",
       "\n",
       "mpl.extensions = [\"eps\", \"pdf\", \"png\", \"ps\", \"raw\", \"svg\"];\n",
       "\n",
       "mpl.default_extension = \"png\";var comm_websocket_adapter = function(comm) {\n",
       "    // Create a \"websocket\"-like object which calls the given IPython comm\n",
       "    // object with the appropriate methods. Currently this is a non binary\n",
       "    // socket, so there is still some room for performance tuning.\n",
       "    var ws = {};\n",
       "\n",
       "    ws.close = function() {\n",
       "        comm.close()\n",
       "    };\n",
       "    ws.send = function(m) {\n",
       "        //console.log('sending', m);\n",
       "        comm.send(m);\n",
       "    };\n",
       "    // Register the callback with on_msg.\n",
       "    comm.on_msg(function(msg) {\n",
       "        //console.log('receiving', msg['content']['data'], msg);\n",
       "        // Pass the mpl event to the overriden (by mpl) onmessage function.\n",
       "        ws.onmessage(msg['content']['data'])\n",
       "    });\n",
       "    return ws;\n",
       "}\n",
       "\n",
       "mpl.mpl_figure_comm = function(comm, msg) {\n",
       "    // This is the function which gets called when the mpl process\n",
       "    // starts-up an IPython Comm through the \"matplotlib\" channel.\n",
       "\n",
       "    var id = msg.content.data.id;\n",
       "    // Get hold of the div created by the display call when the Comm\n",
       "    // socket was opened in Python.\n",
       "    var element = $(\"#\" + id);\n",
       "    var ws_proxy = comm_websocket_adapter(comm)\n",
       "\n",
       "    function ondownload(figure, format) {\n",
       "        window.open(figure.imageObj.src);\n",
       "    }\n",
       "\n",
       "    var fig = new mpl.figure(id, ws_proxy,\n",
       "                           ondownload,\n",
       "                           element.get(0));\n",
       "\n",
       "    // Call onopen now - mpl needs it, as it is assuming we've passed it a real\n",
       "    // web socket which is closed, not our websocket->open comm proxy.\n",
       "    ws_proxy.onopen();\n",
       "\n",
       "    fig.parent_element = element.get(0);\n",
       "    fig.cell_info = mpl.find_output_cell(\"<div id='\" + id + \"'></div>\");\n",
       "    if (!fig.cell_info) {\n",
       "        console.error(\"Failed to find cell for figure\", id, fig);\n",
       "        return;\n",
       "    }\n",
       "\n",
       "    var output_index = fig.cell_info[2]\n",
       "    var cell = fig.cell_info[0];\n",
       "\n",
       "};\n",
       "\n",
       "mpl.figure.prototype.handle_close = function(fig, msg) {\n",
       "    var width = fig.canvas.width/mpl.ratio\n",
       "    fig.root.unbind('remove')\n",
       "\n",
       "    // Update the output cell to use the data from the current canvas.\n",
       "    fig.push_to_output();\n",
       "    var dataURL = fig.canvas.toDataURL();\n",
       "    // Re-enable the keyboard manager in IPython - without this line, in FF,\n",
       "    // the notebook keyboard shortcuts fail.\n",
       "    IPython.keyboard_manager.enable()\n",
       "    $(fig.parent_element).html('<img src=\"' + dataURL + '\" width=\"' + width + '\">');\n",
       "    fig.close_ws(fig, msg);\n",
       "}\n",
       "\n",
       "mpl.figure.prototype.close_ws = function(fig, msg){\n",
       "    fig.send_message('closing', msg);\n",
       "    // fig.ws.close()\n",
       "}\n",
       "\n",
       "mpl.figure.prototype.push_to_output = function(remove_interactive) {\n",
       "    // Turn the data on the canvas into data in the output cell.\n",
       "    var width = this.canvas.width/mpl.ratio\n",
       "    var dataURL = this.canvas.toDataURL();\n",
       "    this.cell_info[1]['text/html'] = '<img src=\"' + dataURL + '\" width=\"' + width + '\">';\n",
       "}\n",
       "\n",
       "mpl.figure.prototype.updated_canvas_event = function() {\n",
       "    // Tell IPython that the notebook contents must change.\n",
       "    IPython.notebook.set_dirty(true);\n",
       "    this.send_message(\"ack\", {});\n",
       "    var fig = this;\n",
       "    // Wait a second, then push the new image to the DOM so\n",
       "    // that it is saved nicely (might be nice to debounce this).\n",
       "    setTimeout(function () { fig.push_to_output() }, 1000);\n",
       "}\n",
       "\n",
       "mpl.figure.prototype._init_toolbar = function() {\n",
       "    var fig = this;\n",
       "\n",
       "    var nav_element = $('<div/>')\n",
       "    nav_element.attr('style', 'width: 100%');\n",
       "    this.root.append(nav_element);\n",
       "\n",
       "    // Define a callback function for later on.\n",
       "    function toolbar_event(event) {\n",
       "        return fig.toolbar_button_onclick(event['data']);\n",
       "    }\n",
       "    function toolbar_mouse_event(event) {\n",
       "        return fig.toolbar_button_onmouseover(event['data']);\n",
       "    }\n",
       "\n",
       "    for(var toolbar_ind in mpl.toolbar_items){\n",
       "        var name = mpl.toolbar_items[toolbar_ind][0];\n",
       "        var tooltip = mpl.toolbar_items[toolbar_ind][1];\n",
       "        var image = mpl.toolbar_items[toolbar_ind][2];\n",
       "        var method_name = mpl.toolbar_items[toolbar_ind][3];\n",
       "\n",
       "        if (!name) { continue; };\n",
       "\n",
       "        var button = $('<button class=\"btn btn-default\" href=\"#\" title=\"' + name + '\"><i class=\"fa ' + image + ' fa-lg\"></i></button>');\n",
       "        button.click(method_name, toolbar_event);\n",
       "        button.mouseover(tooltip, toolbar_mouse_event);\n",
       "        nav_element.append(button);\n",
       "    }\n",
       "\n",
       "    // Add the status bar.\n",
       "    var status_bar = $('<span class=\"mpl-message\" style=\"text-align:right; float: right;\"/>');\n",
       "    nav_element.append(status_bar);\n",
       "    this.message = status_bar[0];\n",
       "\n",
       "    // Add the close button to the window.\n",
       "    var buttongrp = $('<div class=\"btn-group inline pull-right\"></div>');\n",
       "    var button = $('<button class=\"btn btn-mini btn-primary\" href=\"#\" title=\"Stop Interaction\"><i class=\"fa fa-power-off icon-remove icon-large\"></i></button>');\n",
       "    button.click(function (evt) { fig.handle_close(fig, {}); } );\n",
       "    button.mouseover('Stop Interaction', toolbar_mouse_event);\n",
       "    buttongrp.append(button);\n",
       "    var titlebar = this.root.find($('.ui-dialog-titlebar'));\n",
       "    titlebar.prepend(buttongrp);\n",
       "}\n",
       "\n",
       "mpl.figure.prototype._root_extra_style = function(el){\n",
       "    var fig = this\n",
       "    el.on(\"remove\", function(){\n",
       "\tfig.close_ws(fig, {});\n",
       "    });\n",
       "}\n",
       "\n",
       "mpl.figure.prototype._canvas_extra_style = function(el){\n",
       "    // this is important to make the div 'focusable\n",
       "    el.attr('tabindex', 0)\n",
       "    // reach out to IPython and tell the keyboard manager to turn it's self\n",
       "    // off when our div gets focus\n",
       "\n",
       "    // location in version 3\n",
       "    if (IPython.notebook.keyboard_manager) {\n",
       "        IPython.notebook.keyboard_manager.register_events(el);\n",
       "    }\n",
       "    else {\n",
       "        // location in version 2\n",
       "        IPython.keyboard_manager.register_events(el);\n",
       "    }\n",
       "\n",
       "}\n",
       "\n",
       "mpl.figure.prototype._key_event_extra = function(event, name) {\n",
       "    var manager = IPython.notebook.keyboard_manager;\n",
       "    if (!manager)\n",
       "        manager = IPython.keyboard_manager;\n",
       "\n",
       "    // Check for shift+enter\n",
       "    if (event.shiftKey && event.which == 13) {\n",
       "        this.canvas_div.blur();\n",
       "        // select the cell after this one\n",
       "        var index = IPython.notebook.find_cell_index(this.cell_info[0]);\n",
       "        IPython.notebook.select(index + 1);\n",
       "    }\n",
       "}\n",
       "\n",
       "mpl.figure.prototype.handle_save = function(fig, msg) {\n",
       "    fig.ondownload(fig, null);\n",
       "}\n",
       "\n",
       "\n",
       "mpl.find_output_cell = function(html_output) {\n",
       "    // Return the cell and output element which can be found *uniquely* in the notebook.\n",
       "    // Note - this is a bit hacky, but it is done because the \"notebook_saving.Notebook\"\n",
       "    // IPython event is triggered only after the cells have been serialised, which for\n",
       "    // our purposes (turning an active figure into a static one), is too late.\n",
       "    var cells = IPython.notebook.get_cells();\n",
       "    var ncells = cells.length;\n",
       "    for (var i=0; i<ncells; i++) {\n",
       "        var cell = cells[i];\n",
       "        if (cell.cell_type === 'code'){\n",
       "            for (var j=0; j<cell.output_area.outputs.length; j++) {\n",
       "                var data = cell.output_area.outputs[j];\n",
       "                if (data.data) {\n",
       "                    // IPython >= 3 moved mimebundle to data attribute of output\n",
       "                    data = data.data;\n",
       "                }\n",
       "                if (data['text/html'] == html_output) {\n",
       "                    return [cell, data, j];\n",
       "                }\n",
       "            }\n",
       "        }\n",
       "    }\n",
       "}\n",
       "\n",
       "// Register the function which deals with the matplotlib target/channel.\n",
       "// The kernel may be null if the page has been refreshed.\n",
       "if (IPython.notebook.kernel != null) {\n",
       "    IPython.notebook.kernel.comm_manager.register_target('matplotlib', mpl.mpl_figure_comm);\n",
       "}\n"
      ],
      "text/plain": [
       "<IPython.core.display.Javascript object>"
      ]
     },
     "metadata": {},
     "output_type": "display_data"
    },
    {
     "data": {
      "text/html": [
       "<img src=\"data:image/png;base64,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\" width=\"640\">"
      ],
      "text/plain": [
       "<IPython.core.display.HTML object>"
      ]
     },
     "metadata": {},
     "output_type": "display_data"
    }
   ],
   "source": [
    "v = np.array([1, 3, 2, 4])\n",
    "x = np.array([0, 1, 2, 3])\n",
    "\n",
    "plt.figure()\n",
    "plt.plot(x,v, 'rv--', label='v(x)')\n",
    "plt.legend(loc='lower right')\n",
    "plt.xlabel('x')\n",
    "plt.ylabel('v')\n",
    "plt.title('Mon titre')\n",
    "plt.xlim([-1, 4])\n",
    "plt.ylim([0, 5])\n",
    "# plt.show()\n",
    "plt.savefig('toto.png')"
   ]
  },
  {
   "cell_type": "markdown",
   "metadata": {},
   "source": [
    "On peut omettre `plt.show()`, lorsque la méthode `plt.ion()` a été appelée ; c'est le cas dans Spyder et pylab"
   ]
  },
  {
   "cell_type": "markdown",
   "metadata": {},
   "source": [
    "Pour définir une matrice (array de dimension 2 pour numpy):\n"
   ]
  },
  {
   "cell_type": "code",
   "execution_count": 8,
   "metadata": {},
   "outputs": [
    {
     "name": "stdout",
     "output_type": "stream",
     "text": [
      "[[1 2]\n",
      " [3 4]]\n"
     ]
    }
   ],
   "source": [
    "# une matrice: l'argument est une liste emboitée\n",
    "M = np.array([[1, 2], [3, 4]])\n",
    "print(M)"
   ]
  },
  {
   "cell_type": "code",
   "execution_count": 7,
   "metadata": {},
   "outputs": [
    {
     "data": {
      "text/plain": [
       "1"
      ]
     },
     "execution_count": 7,
     "metadata": {},
     "output_type": "execute_result"
    }
   ],
   "source": [
    "M[0, 0]"
   ]
  },
  {
   "cell_type": "markdown",
   "metadata": {},
   "source": [
    "Les objets `v` et `M` sont tous deux du type `ndarray` (fourni par `numpy`)"
   ]
  },
  {
   "cell_type": "code",
   "execution_count": 8,
   "metadata": {},
   "outputs": [
    {
     "data": {
      "text/plain": [
       "(numpy.ndarray, numpy.ndarray)"
      ]
     },
     "execution_count": 8,
     "metadata": {},
     "output_type": "execute_result"
    }
   ],
   "source": [
    "type(v), type(M)"
   ]
  },
  {
   "cell_type": "markdown",
   "metadata": {},
   "source": [
    "`v` et `M` ne diffèrent que par leur taille, que l'on peut obtenir via la propriété `shape` :"
   ]
  },
  {
   "cell_type": "code",
   "execution_count": 9,
   "metadata": {},
   "outputs": [
    {
     "data": {
      "text/plain": [
       "(4,)"
      ]
     },
     "execution_count": 9,
     "metadata": {},
     "output_type": "execute_result"
    }
   ],
   "source": [
    "v.shape"
   ]
  },
  {
   "cell_type": "code",
   "execution_count": 10,
   "metadata": {},
   "outputs": [
    {
     "data": {
      "text/plain": [
       "(2, 2)"
      ]
     },
     "execution_count": 10,
     "metadata": {},
     "output_type": "execute_result"
    }
   ],
   "source": [
    "M.shape"
   ]
  },
  {
   "cell_type": "markdown",
   "metadata": {},
   "source": [
    "Pour obtenir le nombre d'éléments d'un *array* :"
   ]
  },
  {
   "cell_type": "code",
   "execution_count": 11,
   "metadata": {},
   "outputs": [
    {
     "data": {
      "text/plain": [
       "4"
      ]
     },
     "execution_count": 11,
     "metadata": {},
     "output_type": "execute_result"
    }
   ],
   "source": [
    "v.size"
   ]
  },
  {
   "cell_type": "code",
   "execution_count": 12,
   "metadata": {},
   "outputs": [
    {
     "data": {
      "text/plain": [
       "4"
      ]
     },
     "execution_count": 12,
     "metadata": {},
     "output_type": "execute_result"
    }
   ],
   "source": [
    "M.size"
   ]
  },
  {
   "cell_type": "markdown",
   "metadata": {},
   "source": [
    "Les *arrays* ont un type qu'on obtient via `dtype`:"
   ]
  },
  {
   "cell_type": "code",
   "execution_count": 13,
   "metadata": {},
   "outputs": [
    {
     "name": "stdout",
     "output_type": "stream",
     "text": [
      "[[1 2]\n",
      " [3 4]]\n",
      "int64\n"
     ]
    }
   ],
   "source": [
    "print(M)\n",
    "print(M.dtype)"
   ]
  },
  {
   "cell_type": "markdown",
   "metadata": {},
   "source": [
    "Les types doivent être respectés lors d'assignations à des *arrays*"
   ]
  },
  {
   "cell_type": "code",
   "execution_count": 14,
   "metadata": {},
   "outputs": [
    {
     "ename": "ValueError",
     "evalue": "invalid literal for long() with base 10: 'hello'",
     "output_type": "error",
     "traceback": [
      "\u001b[0;31m---------------------------------------------------------------------------\u001b[0m",
      "\u001b[0;31mValueError\u001b[0m                                Traceback (most recent call last)",
      "\u001b[0;32m<ipython-input-14-ca39caffd164>\u001b[0m in \u001b[0;36m<module>\u001b[0;34m()\u001b[0m\n\u001b[0;32m----> 1\u001b[0;31m \u001b[0mM\u001b[0m\u001b[0;34m[\u001b[0m\u001b[0;36m0\u001b[0m\u001b[0;34m,\u001b[0m \u001b[0;36m0\u001b[0m\u001b[0;34m]\u001b[0m \u001b[0;34m=\u001b[0m \u001b[0;34m\"hello\"\u001b[0m\u001b[0;34m\u001b[0m\u001b[0m\n\u001b[0m",
      "\u001b[0;31mValueError\u001b[0m: invalid literal for long() with base 10: 'hello'"
     ]
    }
   ],
   "source": [
    "M[0, 0] = \"hello\""
   ]
  },
  {
   "cell_type": "markdown",
   "metadata": {},
   "source": [
    "### Attention !"
   ]
  },
  {
   "cell_type": "code",
   "execution_count": 15,
   "metadata": {},
   "outputs": [
    {
     "name": "stdout",
     "output_type": "stream",
     "text": [
      "[3 2 3]\n"
     ]
    },
    {
     "data": {
      "text/plain": [
       "dtype('int64')"
      ]
     },
     "execution_count": 15,
     "metadata": {},
     "output_type": "execute_result"
    }
   ],
   "source": [
    "a = np.array([1, 2, 3])\n",
    "a[0] = 3.2\n",
    "print(a)\n",
    "a.dtype"
   ]
  },
  {
   "cell_type": "markdown",
   "metadata": {},
   "source": [
    "On peut définir le type de manière explicite en utilisant le mot clé `dtype` en argument: "
   ]
  },
  {
   "cell_type": "code",
   "execution_count": 9,
   "metadata": {},
   "outputs": [
    {
     "name": "stdout",
     "output_type": "stream",
     "text": [
      "[ 0.5  1.   1. ]\n"
     ]
    }
   ],
   "source": [
    "a = np.array([1, 2, 3], dtype=np.int64)\n",
    "b = np.array([2, 2, 3], dtype=np.int64)\n",
    "b = b.astype(float)\n",
    "print(a / b)"
   ]
  },
  {
   "cell_type": "code",
   "execution_count": 17,
   "metadata": {},
   "outputs": [
    {
     "data": {
      "text/plain": [
       "array([[ 1.+0.j,  2.+0.j],\n",
       "       [ 3.+0.j,  4.+0.j]])"
      ]
     },
     "execution_count": 17,
     "metadata": {},
     "output_type": "execute_result"
    }
   ],
   "source": [
    "M = np.array([[1, 2], [3, 4]], dtype=complex)\n",
    "M"
   ]
  },
  {
   "cell_type": "markdown",
   "metadata": {},
   "source": [
    " * Autres types possibles avec `dtype` : `int`, `float`, `complex`, `bool`, `object`, etc.\n",
    "\n",
    " * On peut aussi spécifier la précision en bits: `int64`, `int16`, `float128`, `complex128`."
   ]
  },
  {
   "cell_type": "markdown",
   "metadata": {},
   "source": [
    "### EXERCICE\n",
    "\n",
    "* Créer un simple tableau à 2 dimensions (contenant les éléments que vous voulez).  \n",
    "* Utiliser les fonctions `len()`, `np.shape()` sur votre tableau. Comment sont elles reliées? comment est ce relié à l'attribut `ndim`?"
   ]
  },
  {
   "cell_type": "code",
   "execution_count": 18,
   "metadata": {},
   "outputs": [],
   "source": [
    "A = np.array([[2, 3, 4, 5], [3, 5, 6, 6], [2, 4, 5, 9]])"
   ]
  },
  {
   "cell_type": "code",
   "execution_count": 19,
   "metadata": {},
   "outputs": [
    {
     "name": "stdout",
     "output_type": "stream",
     "text": [
      "3\n",
      "(3, 4)\n",
      "2\n",
      "int64\n"
     ]
    }
   ],
   "source": [
    "print(len(A))\n",
    "print(A.shape)\n",
    "print(A.ndim)\n",
    "print(A.dtype)"
   ]
  },
  {
   "cell_type": "markdown",
   "metadata": {},
   "source": [
    "### Utilisation de fonction de génération d'*arrays*"
   ]
  },
  {
   "cell_type": "markdown",
   "metadata": {},
   "source": [
    "#### arange"
   ]
  },
  {
   "cell_type": "code",
   "execution_count": 20,
   "metadata": {},
   "outputs": [
    {
     "data": {
      "text/plain": [
       "array([0, 2, 4, 6, 8])"
      ]
     },
     "execution_count": 20,
     "metadata": {},
     "output_type": "execute_result"
    }
   ],
   "source": [
    "# create a range\n",
    "x = np.arange(0, 10, 2) # arguments: start, stop, step\n",
    "x"
   ]
  },
  {
   "cell_type": "code",
   "execution_count": 21,
   "metadata": {},
   "outputs": [
    {
     "data": {
      "text/plain": [
       "array([ -1.00000000e+00,  -9.00000000e-01,  -8.00000000e-01,\n",
       "        -7.00000000e-01,  -6.00000000e-01,  -5.00000000e-01,\n",
       "        -4.00000000e-01,  -3.00000000e-01,  -2.00000000e-01,\n",
       "        -1.00000000e-01,  -2.22044605e-16,   1.00000000e-01,\n",
       "         2.00000000e-01,   3.00000000e-01,   4.00000000e-01,\n",
       "         5.00000000e-01,   6.00000000e-01,   7.00000000e-01,\n",
       "         8.00000000e-01,   9.00000000e-01])"
      ]
     },
     "execution_count": 21,
     "metadata": {},
     "output_type": "execute_result"
    }
   ],
   "source": [
    "x = np.arange(-1, 1, 0.1)\n",
    "x"
   ]
  },
  {
   "cell_type": "markdown",
   "metadata": {},
   "source": [
    "#### linspace"
   ]
  },
  {
   "cell_type": "code",
   "execution_count": 22,
   "metadata": {},
   "outputs": [
    {
     "data": {
      "text/plain": [
       "array([  0.        ,   0.41666667,   0.83333333,   1.25      ,\n",
       "         1.66666667,   2.08333333,   2.5       ,   2.91666667,\n",
       "         3.33333333,   3.75      ,   4.16666667,   4.58333333,\n",
       "         5.        ,   5.41666667,   5.83333333,   6.25      ,\n",
       "         6.66666667,   7.08333333,   7.5       ,   7.91666667,\n",
       "         8.33333333,   8.75      ,   9.16666667,   9.58333333,  10.        ])"
      ]
     },
     "execution_count": 22,
     "metadata": {},
     "output_type": "execute_result"
    }
   ],
   "source": [
    "# avec linspace, le début et la fin SONT inclus\n",
    "np.linspace(0, 10, 25)"
   ]
  },
  {
   "cell_type": "code",
   "execution_count": 23,
   "metadata": {},
   "outputs": [
    {
     "data": {
      "text/plain": [
       "array([  0.,   1.,   2.,   3.,   4.,   5.,   6.,   7.,   8.,   9.,  10.])"
      ]
     },
     "execution_count": 23,
     "metadata": {},
     "output_type": "execute_result"
    }
   ],
   "source": [
    "np.linspace(0, 10, 11)"
   ]
  },
  {
   "cell_type": "code",
   "execution_count": 24,
   "metadata": {},
   "outputs": [
    {
     "data": {
      "text/plain": [
       "[<matplotlib.lines.Line2D at 0x7fcba4ccf7d0>]"
      ]
     },
     "execution_count": 24,
     "metadata": {},
     "output_type": "execute_result"
    },
    {
     "data": {
      "image/png": "[encoded data removed]",
      "text/plain": [
       "<matplotlib.figure.Figure at 0x7fcba4d74a50>"
      ]
     },
     "metadata": {},
     "output_type": "display_data"
    }
   ],
   "source": [
    "xx = np.linspace(-10, 10, 100)\n",
    "plt.plot(xx, np.sin(xx))"
   ]
  },
  {
   "cell_type": "markdown",
   "metadata": {},
   "source": [
    "#### Données aléatoires\n",
    "\n",
    "Le module numpy.random peut être utilisé pour les données aléatoires."
   ]
  },
  {
   "cell_type": "markdown",
   "metadata": {},
   "source": [
    "Tirage uniforme dans [0, 1]"
   ]
  },
  {
   "cell_type": "code",
   "execution_count": 27,
   "metadata": {},
   "outputs": [
    {
     "data": {
      "text/plain": [
       "array([[ 0.63240554,  0.3647385 ,  0.75110645,  0.00231932,  0.03433674],\n",
       "       [ 0.9886849 ,  0.68643617,  0.94102738,  0.93197679,  0.4420178 ],\n",
       "       [ 0.94908858,  0.37199717,  0.01181209,  0.07262914,  0.01399884],\n",
       "       [ 0.62131553,  0.18852194,  0.88404436,  0.86107931,  0.7013115 ],\n",
       "       [ 0.79865199,  0.1620585 ,  0.90430306,  0.11433657,  0.85577848]])"
      ]
     },
     "execution_count": 27,
     "metadata": {},
     "output_type": "execute_result"
    }
   ],
   "source": [
    "np.random.rand(5, 5)  "
   ]
  },
  {
   "cell_type": "markdown",
   "metadata": {},
   "source": [
    "Tirage suivant une loi normale standard"
   ]
  },
  {
   "cell_type": "code",
   "execution_count": 28,
   "metadata": {},
   "outputs": [
    {
     "data": {
      "text/plain": [
       "array([[ 0.92888783,  1.0304577 , -1.16431491, -0.04669933, -0.38078249],\n",
       "       [ 0.55034022, -1.35508458,  0.59333405,  1.89872729,  0.03129873],\n",
       "       [ 0.1313723 , -1.38708298, -0.22298886, -0.86344356,  0.58986267],\n",
       "       [-0.67185757,  0.61634075,  0.30791581, -0.7470249 , -0.04666827],\n",
       "       [-0.79571638,  1.89607563, -1.73119961,  3.15087355,  1.37435913]])"
      ]
     },
     "execution_count": 28,
     "metadata": {},
     "output_type": "execute_result"
    }
   ],
   "source": [
    "np.random.randn(5, 5)"
   ]
  },
  {
   "cell_type": "markdown",
   "metadata": {},
   "source": [
    "Affichage de l'histogramme des tirages"
   ]
  },
  {
   "cell_type": "code",
   "execution_count": 29,
   "metadata": {},
   "outputs": [
    {
     "data": {
      "image/png": "[encoded data removed]",
      "text/plain": [
       "<matplotlib.figure.Figure at 0x7fcba4d74650>"
      ]
     },
     "metadata": {},
     "output_type": "display_data"
    }
   ],
   "source": [
    "a = np.random.randn(10000)\n",
    "hh = plt.hist(a, 40)"
   ]
  },
  {
   "cell_type": "markdown",
   "metadata": {},
   "source": [
    "#### diag"
   ]
  },
  {
   "cell_type": "code",
   "execution_count": 30,
   "metadata": {},
   "outputs": [
    {
     "data": {
      "text/plain": [
       "array([[1, 0, 0],\n",
       "       [0, 2, 0],\n",
       "       [0, 0, 3]])"
      ]
     },
     "execution_count": 30,
     "metadata": {},
     "output_type": "execute_result"
    }
   ],
   "source": [
    "# une matrice diagonale\n",
    "np.diag([1, 2, 3])"
   ]
  },
  {
   "cell_type": "code",
   "execution_count": 31,
   "metadata": {},
   "outputs": [
    {
     "data": {
      "text/plain": [
       "array([[0, 1, 0, 0],\n",
       "       [0, 0, 2, 0],\n",
       "       [0, 0, 0, 3],\n",
       "       [0, 0, 0, 0]])"
      ]
     },
     "execution_count": 31,
     "metadata": {},
     "output_type": "execute_result"
    }
   ],
   "source": [
    "# diagonale avec décalage par rapport à la diagonale principale\n",
    "np.diag([1, 2, 3], k=1)"
   ]
  },
  {
   "cell_type": "markdown",
   "metadata": {},
   "source": [
    "#### zeros et ones"
   ]
  },
  {
   "cell_type": "code",
   "execution_count": 32,
   "metadata": {},
   "outputs": [
    {
     "data": {
      "text/plain": [
       "array([0, 0, 0])"
      ]
     },
     "execution_count": 32,
     "metadata": {},
     "output_type": "execute_result"
    }
   ],
   "source": [
    "np.zeros((3,), dtype=int)  "
   ]
  },
  {
   "cell_type": "code",
   "execution_count": 33,
   "metadata": {},
   "outputs": [
    {
     "data": {
      "text/plain": [
       "array([[ 0.,  0.,  0.],\n",
       "       [ 0.,  0.,  0.],\n",
       "       [ 0.,  0.,  0.]])"
      ]
     },
     "execution_count": 33,
     "metadata": {},
     "output_type": "execute_result"
    }
   ],
   "source": [
    "np.zeros((3, 3))"
   ]
  },
  {
   "cell_type": "code",
   "execution_count": 34,
   "metadata": {},
   "outputs": [
    {
     "data": {
      "text/plain": [
       "array([[ 1.,  1.,  1.],\n",
       "       [ 1.,  1.,  1.],\n",
       "       [ 1.,  1.,  1.]])"
      ]
     },
     "execution_count": 34,
     "metadata": {},
     "output_type": "execute_result"
    }
   ],
   "source": [
    "np.ones((3, 3))"
   ]
  },
  {
   "cell_type": "code",
   "execution_count": 35,
   "metadata": {},
   "outputs": [
    {
     "name": "stdout",
     "output_type": "stream",
     "text": [
      "[0 0 0]\n",
      "[[0 0 0]]\n",
      "[[0]\n",
      " [0]\n",
      " [0]]\n"
     ]
    }
   ],
   "source": [
    "print(np.zeros((3,), dtype=int))\n",
    "print(np.zeros((1, 3), dtype=int))\n",
    "print(np.zeros((3, 1), dtype=int))"
   ]
  },
  {
   "cell_type": "markdown",
   "metadata": {},
   "source": [
    "##  Fichiers d'E/S"
   ]
  },
  {
   "cell_type": "markdown",
   "metadata": {},
   "source": [
    "### Fichiers séparés par des virgules (CSV)\n",
    "\n",
    "Un format fichier classique est le format CSV (comma-separated values), ou bien TSV (tab-separated values). Pour lire de tels fichiers, on peut utiliser `numpy.genfromtxt`. Par exemple:"
   ]
  },
  {
   "cell_type": "code",
   "execution_count": 6,
   "metadata": {},
   "outputs": [
    {
     "name": "stdout",
     "output_type": "stream",
     "text": [
      "1, 2, 3, 4\r\n",
      "5, 6, 7, 8\r\n",
      "9, 10, 11, 12\r\n"
     ]
    }
   ],
   "source": [
    "!cat 2_numpy_data.csv"
   ]
  },
  {
   "cell_type": "code",
   "execution_count": 7,
   "metadata": {},
   "outputs": [
    {
     "data": {
      "text/plain": [
       "array([[  1.,   2.,   3.,   4.],\n",
       "       [  5.,   6.,   7.,   8.],\n",
       "       [  9.,  10.,  11.,  12.]])"
      ]
     },
     "execution_count": 7,
     "metadata": {},
     "output_type": "execute_result"
    }
   ],
   "source": [
    "data = np.genfromtxt('2_numpy_data.csv', delimiter=',')\n",
    "data"
   ]
  },
  {
   "cell_type": "code",
   "execution_count": 8,
   "metadata": {},
   "outputs": [
    {
     "data": {
      "text/plain": [
       "(3, 4)"
      ]
     },
     "execution_count": 8,
     "metadata": {},
     "output_type": "execute_result"
    }
   ],
   "source": [
    "data.shape"
   ]
  },
  {
   "cell_type": "markdown",
   "metadata": {},
   "source": [
    "On peut aussi utiliser une fonction très pratique de [pandas](http://pandas.pydata.org): `pandas.read_csv`. Les données sont alors un [pandas Dataframe](http://pandas.pydata.org/pandas-docs/stable/api.html#dataframe) que l'on peut convertir en numpy array."
   ]
  },
  {
   "cell_type": "code",
   "execution_count": 9,
   "metadata": {},
   "outputs": [],
   "source": [
    "import pandas as pd\n",
    "df = pd.read_csv('2_numpy_data.csv')"
   ]
  },
  {
   "cell_type": "code",
   "execution_count": 10,
   "metadata": {},
   "outputs": [
    {
     "data": {
      "text/plain": [
       "pandas.core.frame.DataFrame"
      ]
     },
     "execution_count": 10,
     "metadata": {},
     "output_type": "execute_result"
    }
   ],
   "source": [
    "type(df)"
   ]
  },
  {
   "cell_type": "code",
   "execution_count": 11,
   "metadata": {},
   "outputs": [
    {
     "data": {
      "text/plain": [
       "numpy.ndarray"
      ]
     },
     "execution_count": 11,
     "metadata": {},
     "output_type": "execute_result"
    }
   ],
   "source": [
    "dn = np.array(df)\n",
    "type(dn)"
   ]
  },
  {
   "cell_type": "code",
   "execution_count": 12,
   "metadata": {},
   "outputs": [
    {
     "data": {
      "text/plain": [
       "array([[ 5,  6,  7,  8],\n",
       "       [ 9, 10, 11, 12]])"
      ]
     },
     "execution_count": 12,
     "metadata": {},
     "output_type": "execute_result"
    }
   ],
   "source": [
    "dn"
   ]
  },
  {
   "cell_type": "code",
   "execution_count": 16,
   "metadata": {},
   "outputs": [
    {
     "data": {
      "text/plain": [
       "array([[ 1,  2,  3,  4],\n",
       "       [ 5,  6,  7,  8],\n",
       "       [ 9, 10, 11, 12]])"
      ]
     },
     "execution_count": 16,
     "metadata": {},
     "output_type": "execute_result"
    }
   ],
   "source": [
    "np.array(pd.read_csv('2_numpy_data.csv', header=None))"
   ]
  },
  {
   "cell_type": "markdown",
   "metadata": {},
   "source": [
    "A l'aide de `numpy.savetxt` on peut enregistrer un *array* `numpy` dans un fichier txt:"
   ]
  },
  {
   "cell_type": "code",
   "execution_count": 18,
   "metadata": {},
   "outputs": [
    {
     "data": {
      "text/plain": [
       "array([[ 0.95248246,  0.43043072,  0.42783399],\n",
       "       [ 0.6829193 ,  0.05673911,  0.16351933],\n",
       "       [ 0.61657214,  0.39316933,  0.42156213]])"
      ]
     },
     "execution_count": 18,
     "metadata": {},
     "output_type": "execute_result"
    }
   ],
   "source": [
    "M = np.random.rand(3,3)\n",
    "M"
   ]
  },
  {
   "cell_type": "code",
   "execution_count": 19,
   "metadata": {},
   "outputs": [],
   "source": [
    "np.savetxt(\"random-matrix.txt\", M)"
   ]
  },
  {
   "cell_type": "code",
   "execution_count": 20,
   "metadata": {},
   "outputs": [
    {
     "name": "stdout",
     "output_type": "stream",
     "text": [
      "9.524824625139430845e-01 4.304307182098253692e-01 4.278339933587403943e-01\r\n",
      "6.829193011322566287e-01 5.673911158502997765e-02 1.635193304655619961e-01\r\n",
      "6.165721357513282985e-01 3.931693349526247383e-01 4.215621333713155394e-01\r\n"
     ]
    }
   ],
   "source": [
    "!cat random-matrix.txt\n",
    "#!type random-matrix.txt"
   ]
  },
  {
   "cell_type": "code",
   "execution_count": 21,
   "metadata": {},
   "outputs": [
    {
     "name": "stdout",
     "output_type": "stream",
     "text": [
      "0.95248,0.43043,0.42783\r\n",
      "0.68292,0.05674,0.16352\r\n",
      "0.61657,0.39317,0.42156\r\n"
     ]
    }
   ],
   "source": [
    "np.savetxt(\"random-matrix.csv\", M, fmt='%.5f', delimiter=',') # fmt spécifie le format\n",
    "\n",
    "!cat random-matrix.csv\n",
    "#!type random-matrix.csv"
   ]
  },
  {
   "cell_type": "markdown",
   "metadata": {},
   "source": [
    "Ici aussi, on peut utiliser une fonction très pratique de pandas: `to_csv`, mais il faudrait convertir le tableau en pandas DataFrame."
   ]
  },
  {
   "cell_type": "code",
   "execution_count": 22,
   "metadata": {},
   "outputs": [],
   "source": [
    "df = pd.DataFrame(M)"
   ]
  },
  {
   "cell_type": "code",
   "execution_count": 23,
   "metadata": {},
   "outputs": [
    {
     "data": {
      "text/html": [
       "<div>\n",
       "<table border=\"1\" class=\"dataframe\">\n",
       "  <thead>\n",
       "    <tr style=\"text-align: right;\">\n",
       "      <th></th>\n",
       "      <th>0</th>\n",
       "      <th>1</th>\n",
       "      <th>2</th>\n",
       "    </tr>\n",
       "  </thead>\n",
       "  <tbody>\n",
       "    <tr>\n",
       "      <th>0</th>\n",
       "      <td>0.952482</td>\n",
       "      <td>0.430431</td>\n",
       "      <td>0.427834</td>\n",
       "    </tr>\n",
       "    <tr>\n",
       "      <th>1</th>\n",
       "      <td>0.682919</td>\n",
       "      <td>0.056739</td>\n",
       "      <td>0.163519</td>\n",
       "    </tr>\n",
       "    <tr>\n",
       "      <th>2</th>\n",
       "      <td>0.616572</td>\n",
       "      <td>0.393169</td>\n",
       "      <td>0.421562</td>\n",
       "    </tr>\n",
       "  </tbody>\n",
       "</table>\n",
       "</div>"
      ],
      "text/plain": [
       "          0         1         2\n",
       "0  0.952482  0.430431  0.427834\n",
       "1  0.682919  0.056739  0.163519\n",
       "2  0.616572  0.393169  0.421562"
      ]
     },
     "execution_count": 23,
     "metadata": {},
     "output_type": "execute_result"
    }
   ],
   "source": [
    "df"
   ]
  },
  {
   "cell_type": "code",
   "execution_count": 24,
   "metadata": {},
   "outputs": [],
   "source": [
    "df.to_csv(\"random_matrix_pd.csv\", index=False, header=False, float_format='%.5f')"
   ]
  },
  {
   "cell_type": "code",
   "execution_count": 25,
   "metadata": {},
   "outputs": [
    {
     "name": "stdout",
     "output_type": "stream",
     "text": [
      "0.95248,0.43043,0.42783\r\n",
      "0.68292,0.05674,0.16352\r\n",
      "0.61657,0.39317,0.42156\r\n"
     ]
    }
   ],
   "source": [
    "!cat random_matrix_pd.csv"
   ]
  },
  {
   "cell_type": "markdown",
   "metadata": {},
   "source": [
    "## Manipulation d'*arrays*"
   ]
  },
  {
   "cell_type": "markdown",
   "metadata": {},
   "source": [
    "### Indexation"
   ]
  },
  {
   "cell_type": "code",
   "execution_count": 51,
   "metadata": {},
   "outputs": [
    {
     "name": "stdout",
     "output_type": "stream",
     "text": [
      "[0 1 2 3 4 5 6 7 8 9]\n",
      "[[ 0.84545627  0.96535677  0.67241722  0.45286897]\n",
      " [ 0.85997758  0.99879739  0.77908149  0.85394982]\n",
      " [ 0.41792985  0.19131733  0.80087151  0.68905348]]\n"
     ]
    }
   ],
   "source": [
    "v = np.arange(10)\n",
    "print(v)\n",
    "M = np.random.rand(3, 4)\n",
    "print(M)"
   ]
  },
  {
   "cell_type": "markdown",
   "metadata": {},
   "source": [
    "v est un vecteur, il n'a qu'une dimension -> un seul indice"
   ]
  },
  {
   "cell_type": "code",
   "execution_count": 52,
   "metadata": {},
   "outputs": [
    {
     "data": {
      "text/plain": [
       "0"
      ]
     },
     "execution_count": 52,
     "metadata": {},
     "output_type": "execute_result"
    }
   ],
   "source": [
    "v[0]"
   ]
  },
  {
   "cell_type": "markdown",
   "metadata": {},
   "source": [
    "M est une matrice, ou un array à 2 dimensions -> deux indices "
   ]
  },
  {
   "cell_type": "code",
   "execution_count": 53,
   "metadata": {},
   "outputs": [
    {
     "data": {
      "text/plain": [
       "0.9987973880375437"
      ]
     },
     "execution_count": 53,
     "metadata": {},
     "output_type": "execute_result"
    }
   ],
   "source": [
    "M[1, 1]"
   ]
  },
  {
   "cell_type": "markdown",
   "metadata": {},
   "source": [
    "Contenu complet :"
   ]
  },
  {
   "cell_type": "code",
   "execution_count": 54,
   "metadata": {},
   "outputs": [
    {
     "data": {
      "text/plain": [
       "array([[ 0.84545627,  0.96535677,  0.67241722,  0.45286897],\n",
       "       [ 0.85997758,  0.99879739,  0.77908149,  0.85394982],\n",
       "       [ 0.41792985,  0.19131733,  0.80087151,  0.68905348]])"
      ]
     },
     "execution_count": 54,
     "metadata": {},
     "output_type": "execute_result"
    }
   ],
   "source": [
    "M"
   ]
  },
  {
   "cell_type": "markdown",
   "metadata": {},
   "source": [
    "La deuxième ligne :"
   ]
  },
  {
   "cell_type": "code",
   "execution_count": 55,
   "metadata": {},
   "outputs": [
    {
     "data": {
      "text/plain": [
       "array([ 0.85997758,  0.99879739,  0.77908149,  0.85394982])"
      ]
     },
     "execution_count": 55,
     "metadata": {},
     "output_type": "execute_result"
    }
   ],
   "source": [
    "M[1]"
   ]
  },
  {
   "cell_type": "markdown",
   "metadata": {},
   "source": [
    "On peut aussi utiliser `:` "
   ]
  },
  {
   "cell_type": "code",
   "execution_count": 56,
   "metadata": {},
   "outputs": [
    {
     "data": {
      "text/plain": [
       "array([ 0.85997758,  0.99879739,  0.77908149,  0.85394982])"
      ]
     },
     "execution_count": 56,
     "metadata": {},
     "output_type": "execute_result"
    }
   ],
   "source": [
    "M[1, :] # 2 ème ligne (indice 1)"
   ]
  },
  {
   "cell_type": "code",
   "execution_count": 57,
   "metadata": {},
   "outputs": [
    {
     "data": {
      "text/plain": [
       "array([ 0.96535677,  0.99879739,  0.19131733])"
      ]
     },
     "execution_count": 57,
     "metadata": {},
     "output_type": "execute_result"
    }
   ],
   "source": [
    "M[:, 1] # 2 ème colonne (indice 1)"
   ]
  },
  {
   "cell_type": "code",
   "execution_count": 58,
   "metadata": {},
   "outputs": [
    {
     "name": "stdout",
     "output_type": "stream",
     "text": [
      "(3, 4)\n",
      "((4,), (3,))\n"
     ]
    }
   ],
   "source": [
    "print(M.shape)\n",
    "print(M[1, :].shape, M[:, 1].shape)"
   ]
  },
  {
   "cell_type": "markdown",
   "metadata": {},
   "source": [
    "On peut assigner des nouvelles valeurs à certaines cellules :"
   ]
  },
  {
   "cell_type": "code",
   "execution_count": 59,
   "metadata": {},
   "outputs": [],
   "source": [
    "M[0, 0] = 1"
   ]
  },
  {
   "cell_type": "code",
   "execution_count": 60,
   "metadata": {},
   "outputs": [
    {
     "data": {
      "text/plain": [
       "array([[ 1.        ,  0.96535677,  0.67241722,  0.45286897],\n",
       "       [ 0.85997758,  0.99879739,  0.77908149,  0.85394982],\n",
       "       [ 0.41792985,  0.19131733,  0.80087151,  0.68905348]])"
      ]
     },
     "execution_count": 60,
     "metadata": {},
     "output_type": "execute_result"
    }
   ],
   "source": [
    "M"
   ]
  },
  {
   "cell_type": "code",
   "execution_count": 61,
   "metadata": {},
   "outputs": [],
   "source": [
    "# on peut aussi assigner des lignes ou des colonnes\n",
    "M[1, :] = -1\n",
    "# M[1,:] = [1, 2, 3]"
   ]
  },
  {
   "cell_type": "code",
   "execution_count": 62,
   "metadata": {},
   "outputs": [
    {
     "data": {
      "text/plain": [
       "array([[ 1.        ,  0.96535677,  0.67241722,  0.45286897],\n",
       "       [-1.        , -1.        , -1.        , -1.        ],\n",
       "       [ 0.41792985,  0.19131733,  0.80087151,  0.68905348]])"
      ]
     },
     "execution_count": 62,
     "metadata": {},
     "output_type": "execute_result"
    }
   ],
   "source": [
    "M"
   ]
  },
  {
   "cell_type": "markdown",
   "metadata": {},
   "source": [
    "## *Slicing* ou accès par tranches\n",
    "\n",
    "*Slicing* fait référence à la syntaxe `M[start:stop:step]` pour extraire une partie d'un *array*:"
   ]
  },
  {
   "cell_type": "code",
   "execution_count": 63,
   "metadata": {},
   "outputs": [
    {
     "data": {
      "text/plain": [
       "array([1, 2, 3, 4, 5])"
      ]
     },
     "execution_count": 63,
     "metadata": {},
     "output_type": "execute_result"
    }
   ],
   "source": [
    "A = np.array([1, 2, 3, 4, 5])\n",
    "A"
   ]
  },
  {
   "cell_type": "code",
   "execution_count": 64,
   "metadata": {},
   "outputs": [
    {
     "data": {
      "text/plain": [
       "array([2, 3])"
      ]
     },
     "execution_count": 64,
     "metadata": {},
     "output_type": "execute_result"
    }
   ],
   "source": [
    "A[1:3]"
   ]
  },
  {
   "cell_type": "markdown",
   "metadata": {},
   "source": [
    "Les tranches sont modifiables :"
   ]
  },
  {
   "cell_type": "code",
   "execution_count": 65,
   "metadata": {},
   "outputs": [
    {
     "data": {
      "text/plain": [
       "array([ 1, -2, -3,  4,  5])"
      ]
     },
     "execution_count": 65,
     "metadata": {},
     "output_type": "execute_result"
    }
   ],
   "source": [
    "A[1:3] = [-2, -3]\n",
    "A"
   ]
  },
  {
   "cell_type": "markdown",
   "metadata": {},
   "source": [
    "On peut omettre n'importe lequel des argument dans `M[start:stop:step]`:"
   ]
  },
  {
   "cell_type": "code",
   "execution_count": 66,
   "metadata": {},
   "outputs": [
    {
     "data": {
      "text/plain": [
       "array([ 1, -2, -3,  4,  5])"
      ]
     },
     "execution_count": 66,
     "metadata": {},
     "output_type": "execute_result"
    }
   ],
   "source": [
    "A[::] # indices de début, fin, et pas avec leurs valeurs par défaut"
   ]
  },
  {
   "cell_type": "code",
   "execution_count": 67,
   "metadata": {},
   "outputs": [
    {
     "data": {
      "text/plain": [
       "array([ 1, -3,  5])"
      ]
     },
     "execution_count": 67,
     "metadata": {},
     "output_type": "execute_result"
    }
   ],
   "source": [
    "A[::2] # pas = 2, indices de début et de fin par défaut"
   ]
  },
  {
   "cell_type": "code",
   "execution_count": 68,
   "metadata": {},
   "outputs": [
    {
     "data": {
      "text/plain": [
       "array([ 1, -2, -3])"
      ]
     },
     "execution_count": 68,
     "metadata": {},
     "output_type": "execute_result"
    }
   ],
   "source": [
    "A[:3] # les trois premiers éléments"
   ]
  },
  {
   "cell_type": "code",
   "execution_count": 69,
   "metadata": {},
   "outputs": [
    {
     "data": {
      "text/plain": [
       "array([4, 5])"
      ]
     },
     "execution_count": 69,
     "metadata": {},
     "output_type": "execute_result"
    }
   ],
   "source": [
    "A[3:] # à partir de l'indice 3"
   ]
  },
  {
   "cell_type": "code",
   "execution_count": 10,
   "metadata": {},
   "outputs": [
    {
     "name": "stdout",
     "output_type": "stream",
     "text": [
      "[[ 0  1  2]\n",
      " [ 3  4  5]\n",
      " [ 6  7  8]\n",
      " [ 9 10 11]]\n"
     ]
    }
   ],
   "source": [
    "M = np.arange(12).reshape(4, 3)\n",
    "print(M)"
   ]
  },
  {
   "cell_type": "markdown",
   "metadata": {},
   "source": [
    "On peut utiliser des indices négatifs :"
   ]
  },
  {
   "cell_type": "code",
   "execution_count": 71,
   "metadata": {},
   "outputs": [],
   "source": [
    "A = np.array([1, 2, 3, 4, 5])"
   ]
  },
  {
   "cell_type": "code",
   "execution_count": 72,
   "metadata": {},
   "outputs": [
    {
     "data": {
      "text/plain": [
       "5"
      ]
     },
     "execution_count": 72,
     "metadata": {},
     "output_type": "execute_result"
    }
   ],
   "source": [
    "A[-1] # le dernier élément"
   ]
  },
  {
   "cell_type": "code",
   "execution_count": 73,
   "metadata": {},
   "outputs": [
    {
     "data": {
      "text/plain": [
       "array([3, 4, 5])"
      ]
     },
     "execution_count": 73,
     "metadata": {},
     "output_type": "execute_result"
    }
   ],
   "source": [
    "A[-3:] # les 3 derniers éléments"
   ]
  },
  {
   "cell_type": "markdown",
   "metadata": {},
   "source": [
    "Le *slicing* fonctionne de façon similaire pour les *array* multi-dimensionnels"
   ]
  },
  {
   "cell_type": "code",
   "execution_count": 74,
   "metadata": {},
   "outputs": [
    {
     "data": {
      "text/plain": [
       "array([[ 0,  1,  2,  3,  4],\n",
       "       [10, 11, 12, 13, 14],\n",
       "       [20, 21, 22, 23, 24],\n",
       "       [30, 31, 32, 33, 34],\n",
       "       [40, 41, 42, 43, 44]])"
      ]
     },
     "execution_count": 74,
     "metadata": {},
     "output_type": "execute_result"
    }
   ],
   "source": [
    "A = np.array([[n + m * 10 for n in range(5)] for m in range(5)])\n",
    "\n",
    "A"
   ]
  },
  {
   "cell_type": "code",
   "execution_count": 75,
   "metadata": {},
   "outputs": [
    {
     "data": {
      "text/plain": [
       "array([[11, 12, 13],\n",
       "       [21, 22, 23],\n",
       "       [31, 32, 33]])"
      ]
     },
     "execution_count": 75,
     "metadata": {},
     "output_type": "execute_result"
    }
   ],
   "source": [
    "A[1:4, 1:4]  # sous-tableau"
   ]
  },
  {
   "cell_type": "code",
   "execution_count": 76,
   "metadata": {},
   "outputs": [
    {
     "data": {
      "text/plain": [
       "array([[ 0,  2,  4],\n",
       "       [20, 22, 24],\n",
       "       [40, 42, 44]])"
      ]
     },
     "execution_count": 76,
     "metadata": {},
     "output_type": "execute_result"
    }
   ],
   "source": [
    "# sauts\n",
    "A[::2, ::2]"
   ]
  },
  {
   "cell_type": "code",
   "execution_count": 77,
   "metadata": {},
   "outputs": [
    {
     "data": {
      "text/plain": [
       "array([[ 0,  1,  2,  3,  4],\n",
       "       [10, 11, 12, 13, 14],\n",
       "       [20, 21, 22, 23, 24],\n",
       "       [30, 31, 32, 33, 34],\n",
       "       [40, 41, 42, 43, 44]])"
      ]
     },
     "execution_count": 77,
     "metadata": {},
     "output_type": "execute_result"
    }
   ],
   "source": [
    "A"
   ]
  },
  {
   "cell_type": "code",
   "execution_count": 78,
   "metadata": {},
   "outputs": [
    {
     "data": {
      "text/plain": [
       "array([[ 0,  1,  2,  3,  4],\n",
       "       [10, 11, 12, 13, 14],\n",
       "       [30, 31, 32, 33, 34]])"
      ]
     },
     "execution_count": 78,
     "metadata": {},
     "output_type": "execute_result"
    }
   ],
   "source": [
    "A[[0, 1, 3]]"
   ]
  },
  {
   "cell_type": "markdown",
   "metadata": {},
   "source": [
    "### EXERCICE: le plateau d'échec\n",
    "\n",
    "Créez un tableau de zéros et le remplir pour obtenir un motif de plateau d'échec de dimension 8x8.\n",
    "<img src=\"checkerboard.svg\" width=300, height=300>"
   ]
  },
  {
   "cell_type": "code",
   "execution_count": 79,
   "metadata": {},
   "outputs": [
    {
     "data": {
      "text/plain": [
       "array([[ 1.,  0.,  1.,  0.,  1.,  0.,  1.,  0.],\n",
       "       [ 0.,  1.,  0.,  1.,  0.,  1.,  0.,  1.],\n",
       "       [ 1.,  0.,  1.,  0.,  1.,  0.,  1.,  0.],\n",
       "       [ 0.,  1.,  0.,  1.,  0.,  1.,  0.,  1.],\n",
       "       [ 1.,  0.,  1.,  0.,  1.,  0.,  1.,  0.],\n",
       "       [ 0.,  1.,  0.,  1.,  0.,  1.,  0.,  1.],\n",
       "       [ 1.,  0.,  1.,  0.,  1.,  0.,  1.,  0.],\n",
       "       [ 0.,  1.,  0.,  1.,  0.,  1.,  0.,  1.]])"
      ]
     },
     "execution_count": 79,
     "metadata": {},
     "output_type": "execute_result"
    }
   ],
   "source": [
    "E = np.zeros((8, 8))\n",
    "E[0::2, 0::2] = 1\n",
    "E[1::2, 1::2] = 1\n",
    "E"
   ]
  },
  {
   "cell_type": "code",
   "execution_count": 80,
   "metadata": {},
   "outputs": [
    {
     "data": {
      "text/plain": [
       "array([[1, 0, 1, 0, 1, 0, 1, 0],\n",
       "       [0, 1, 0, 1, 0, 1, 0, 1],\n",
       "       [1, 0, 1, 0, 1, 0, 1, 0],\n",
       "       [0, 1, 0, 1, 0, 1, 0, 1],\n",
       "       [1, 0, 1, 0, 1, 0, 1, 0],\n",
       "       [0, 1, 0, 1, 0, 1, 0, 1],\n",
       "       [1, 0, 1, 0, 1, 0, 1, 0],\n",
       "       [0, 1, 0, 1, 0, 1, 0, 1]])"
      ]
     },
     "execution_count": 80,
     "metadata": {},
     "output_type": "execute_result"
    }
   ],
   "source": [
    "E = np.tile([[1, 0], [0, 1]], (4, 4))\n",
    "E"
   ]
  },
  {
   "cell_type": "code",
   "execution_count": 81,
   "metadata": {
    "collapsed": true
   },
   "outputs": [],
   "source": [
    "np.tile?"
   ]
  },
  {
   "cell_type": "markdown",
   "metadata": {},
   "source": [
    "### Indexation avancée (*fancy indexing*)\n",
    "\n",
    "Lorsque qu'on utilise des listes ou des *array* pour définir des tranches : "
   ]
  },
  {
   "cell_type": "code",
   "execution_count": 27,
   "metadata": {},
   "outputs": [
    {
     "name": "stdout",
     "output_type": "stream",
     "text": [
      "[[ 0  1  2  3  4]\n",
      " [10 11 12 13 14]\n",
      " [20 21 22 23 24]\n",
      " [30 31 32 33 34]\n",
      " [40 41 42 43 44]]\n",
      "[[10 11 12 13 14]\n",
      " [20 21 22 23 24]\n",
      " [30 31 32 33 34]]\n"
     ]
    }
   ],
   "source": [
    "A = np.array([[n + m * 10 for n in range(5)] for m in range(5)])\n",
    "row_indices = [1, 2, 3]\n",
    "print(A)\n",
    "print(A[row_indices])"
   ]
  },
  {
   "cell_type": "code",
   "execution_count": 28,
   "metadata": {},
   "outputs": [
    {
     "name": "stdout",
     "output_type": "stream",
     "text": [
      "[[10 11 12 13 14]\n",
      " [20 21 22 23 24]]\n",
      "[[ 0  1  2  3  4]\n",
      " [10 11 12 13 14]\n",
      " [20 21 22 23 24]\n",
      " [30 31 32 33 34]\n",
      " [40 41 42 43 44]]\n"
     ]
    }
   ],
   "source": [
    "print(A[[1, 2]])\n",
    "A[[1, 2]][:, [3, 4]] = 0  # ATTENTION !\n",
    "print(A)"
   ]
  },
  {
   "cell_type": "code",
   "execution_count": 84,
   "metadata": {},
   "outputs": [
    {
     "name": "stdout",
     "output_type": "stream",
     "text": [
      "[[ 0  1  2  3  4]\n",
      " [10 11 12  0  0]\n",
      " [20 21 22  0  0]\n",
      " [30 31 32 33 34]\n",
      " [40 41 42 43 44]]\n"
     ]
    }
   ],
   "source": [
    "A[np.ix_([1, 2], [3, 4])] = 0\n",
    "print(A)"
   ]
  },
  {
   "cell_type": "markdown",
   "metadata": {},
   "source": [
    "On peut aussi utiliser des masques binaires :"
   ]
  },
  {
   "cell_type": "code",
   "execution_count": 85,
   "metadata": {},
   "outputs": [
    {
     "data": {
      "text/plain": [
       "array([0, 1, 2, 3, 4])"
      ]
     },
     "execution_count": 85,
     "metadata": {},
     "output_type": "execute_result"
    }
   ],
   "source": [
    "B = np.arange(5)\n",
    "B"
   ]
  },
  {
   "cell_type": "code",
   "execution_count": 86,
   "metadata": {},
   "outputs": [
    {
     "name": "stdout",
     "output_type": "stream",
     "text": [
      "[0 2]\n",
      "[0 2]\n"
     ]
    }
   ],
   "source": [
    "row_mask = np.array([True, False, True, False, False])\n",
    "print(B[row_mask])\n",
    "print(B[[0, 2]])"
   ]
  },
  {
   "cell_type": "code",
   "execution_count": 87,
   "metadata": {},
   "outputs": [
    {
     "data": {
      "text/plain": [
       "array([0, 2])"
      ]
     },
     "execution_count": 87,
     "metadata": {},
     "output_type": "execute_result"
    }
   ],
   "source": [
    "# de façon équivalente\n",
    "row_mask = np.array([1, 0, 1, 0, 0], dtype=bool)\n",
    "B[row_mask]"
   ]
  },
  {
   "cell_type": "code",
   "execution_count": 88,
   "metadata": {},
   "outputs": [
    {
     "name": "stdout",
     "output_type": "stream",
     "text": [
      "[ True  True False False False]\n",
      "[0 1]\n"
     ]
    }
   ],
   "source": [
    "# ou encore\n",
    "a = np.array([1, 2, 3, 4, 5])\n",
    "print(a < 3)\n",
    "print(B[a < 3])"
   ]
  },
  {
   "cell_type": "code",
   "execution_count": 89,
   "metadata": {},
   "outputs": [
    {
     "name": "stdout",
     "output_type": "stream",
     "text": [
      "[[ 0  1  2  3  4]\n",
      " [10 11 12  0  0]\n",
      " [20 21 22  0  0]\n",
      " [30 31 32 33 34]\n",
      " [40 41 42 43 44]]\n",
      "[[ 0  1]\n",
      " [10 11]\n",
      " [20 21]\n",
      " [30 31]\n",
      " [40 41]]\n"
     ]
    }
   ],
   "source": [
    "print(A)\n",
    "print(A[:, a < 3])"
   ]
  },
  {
   "cell_type": "markdown",
   "metadata": {},
   "source": [
    "### EXERCICE\n",
    "\n",
    "En utilisant l'indexation avancée, sélectionnez au hasard avec répétition 10 éléments d'un tableau contenant 100 éléments tirés au hasard. \n",
    "(Astuce: np.random.randint(max_int, size=n) génère n nombres au hasard de 0 à max_int)"
   ]
  },
  {
   "cell_type": "code",
   "execution_count": 90,
   "metadata": {},
   "outputs": [
    {
     "name": "stdout",
     "output_type": "stream",
     "text": [
      "[13 49 32 96 94 91 57 81 18 68]\n"
     ]
    },
    {
     "data": {
      "text/plain": [
       "array([ 0.43158864,  0.29168867,  0.02041883,  0.82911931,  0.07722761,\n",
       "        0.61429739,  0.83639657,  0.15610273,  0.96411602,  0.05654221])"
      ]
     },
     "execution_count": 90,
     "metadata": {},
     "output_type": "execute_result"
    }
   ],
   "source": [
    "r = np.random.rand(100)\n",
    "ind = np.random.randint(100, size=10)\n",
    "print(ind)\n",
    "r[ind]"
   ]
  },
  {
   "cell_type": "markdown",
   "metadata": {},
   "source": [
    "## Extraction de données à partir d'*arrays* et création d'*arrays*"
   ]
  },
  {
   "cell_type": "markdown",
   "metadata": {},
   "source": [
    "#### where\n",
    "\n",
    "Un masque binaire peut être converti en indices de positions avec `where`"
   ]
  },
  {
   "cell_type": "code",
   "execution_count": 29,
   "metadata": {},
   "outputs": [
    {
     "name": "stdout",
     "output_type": "stream",
     "text": [
      "[ 0.   0.5  1.   1.5  2.   2.5  3.   3.5  4.   4.5  5.   5.5  6.   6.5  7.\n",
      "  7.5  8.   8.5  9.   9.5]\n",
      "[False False False False False False False False False False False  True\n",
      "  True  True  True False False False False False]\n"
     ]
    },
    {
     "data": {
      "text/plain": [
       "(array([11, 12, 13, 14]),)"
      ]
     },
     "execution_count": 29,
     "metadata": {},
     "output_type": "execute_result"
    }
   ],
   "source": [
    "x = np.arange(0, 10, 0.5)\n",
    "print(x)\n",
    "mask = (x > 5) * (x < 7.5)\n",
    "print(mask)\n",
    "indices = np.where(mask)\n",
    "indices"
   ]
  },
  {
   "cell_type": "code",
   "execution_count": 92,
   "metadata": {},
   "outputs": [
    {
     "data": {
      "text/plain": [
       "array([ 5.5,  6. ,  6.5,  7. ])"
      ]
     },
     "execution_count": 92,
     "metadata": {},
     "output_type": "execute_result"
    }
   ],
   "source": [
    "x[indices] # équivalent à x[mask]"
   ]
  },
  {
   "cell_type": "markdown",
   "metadata": {},
   "source": [
    "#### diag\n",
    "\n",
    "Extraire la diagonale ou une sous-diagonale d'un *array* :"
   ]
  },
  {
   "cell_type": "code",
   "execution_count": 30,
   "metadata": {},
   "outputs": [
    {
     "name": "stdout",
     "output_type": "stream",
     "text": [
      "[[ 0  1  2  3  4]\n",
      " [10 11 12 13 14]\n",
      " [20 21 22 23 24]\n",
      " [30 31 32 33 34]\n",
      " [40 41 42 43 44]]\n"
     ]
    },
    {
     "data": {
      "text/plain": [
       "array([ 0, 11, 22, 33, 44])"
      ]
     },
     "execution_count": 30,
     "metadata": {},
     "output_type": "execute_result"
    }
   ],
   "source": [
    "print(A)\n",
    "np.diag(A)"
   ]
  },
  {
   "cell_type": "code",
   "execution_count": 31,
   "metadata": {},
   "outputs": [
    {
     "data": {
      "text/plain": [
       "array([10, 21, 32, 43])"
      ]
     },
     "execution_count": 31,
     "metadata": {},
     "output_type": "execute_result"
    }
   ],
   "source": [
    "np.diag(A, -1)"
   ]
  },
  {
   "cell_type": "markdown",
   "metadata": {},
   "source": [
    "## Algèbre linéaire\n",
    "\n",
    "La performance des programmes écrit en Python/Numpy dépend de la capacité à vectoriser les calculs (les écrire comme des opérations sur des vecteurs/matrices) en évitant au maximum les boucles `for/while`\n"
   ]
  },
  {
   "cell_type": "markdown",
   "metadata": {},
   "source": [
    "### Opérations scalaires\n",
    "\n",
    "On peut effectuer les opérations arithmétiques habituelles pour multiplier, additionner, soustraire et diviser des *arrays* avec/par des scalaires :"
   ]
  },
  {
   "cell_type": "code",
   "execution_count": 32,
   "metadata": {},
   "outputs": [
    {
     "name": "stdout",
     "output_type": "stream",
     "text": [
      "[0 1 2 3 4]\n"
     ]
    }
   ],
   "source": [
    "v1 = np.arange(5)\n",
    "print(v1)"
   ]
  },
  {
   "cell_type": "code",
   "execution_count": 33,
   "metadata": {},
   "outputs": [
    {
     "data": {
      "text/plain": [
       "array([0, 2, 4, 6, 8])"
      ]
     },
     "execution_count": 33,
     "metadata": {},
     "output_type": "execute_result"
    }
   ],
   "source": [
    "v1 * 2"
   ]
  },
  {
   "cell_type": "code",
   "execution_count": 34,
   "metadata": {},
   "outputs": [
    {
     "data": {
      "text/plain": [
       "array([2, 3, 4, 5, 6])"
      ]
     },
     "execution_count": 34,
     "metadata": {},
     "output_type": "execute_result"
    }
   ],
   "source": [
    "v1 + 2"
   ]
  },
  {
   "cell_type": "code",
   "execution_count": 36,
   "metadata": {},
   "outputs": [
    {
     "data": {
      "application/javascript": [
       "/* Put everything inside the global mpl namespace */\n",
       "window.mpl = {};\n",
       "\n",
       "\n",
       "mpl.get_websocket_type = function() {\n",
       "    if (typeof(WebSocket) !== 'undefined') {\n",
       "        return WebSocket;\n",
       "    } else if (typeof(MozWebSocket) !== 'undefined') {\n",
       "        return MozWebSocket;\n",
       "    } else {\n",
       "        alert('Your browser does not have WebSocket support.' +\n",
       "              'Please try Chrome, Safari or Firefox ≥ 6. ' +\n",
       "              'Firefox 4 and 5 are also supported but you ' +\n",
       "              'have to enable WebSockets in about:config.');\n",
       "    };\n",
       "}\n",
       "\n",
       "mpl.figure = function(figure_id, websocket, ondownload, parent_element) {\n",
       "    this.id = figure_id;\n",
       "\n",
       "    this.ws = websocket;\n",
       "\n",
       "    this.supports_binary = (this.ws.binaryType != undefined);\n",
       "\n",
       "    if (!this.supports_binary) {\n",
       "        var warnings = document.getElementById(\"mpl-warnings\");\n",
       "        if (warnings) {\n",
       "            warnings.style.display = 'block';\n",
       "            warnings.textContent = (\n",
       "                \"This browser does not support binary websocket messages. \" +\n",
       "                    \"Performance may be slow.\");\n",
       "        }\n",
       "    }\n",
       "\n",
       "    this.imageObj = new Image();\n",
       "\n",
       "    this.context = undefined;\n",
       "    this.message = undefined;\n",
       "    this.canvas = undefined;\n",
       "    this.rubberband_canvas = undefined;\n",
       "    this.rubberband_context = undefined;\n",
       "    this.format_dropdown = undefined;\n",
       "\n",
       "    this.image_mode = 'full';\n",
       "\n",
       "    this.root = $('<div/>');\n",
       "    this._root_extra_style(this.root)\n",
       "    this.root.attr('style', 'display: inline-block');\n",
       "\n",
       "    $(parent_element).append(this.root);\n",
       "\n",
       "    this._init_header(this);\n",
       "    this._init_canvas(this);\n",
       "    this._init_toolbar(this);\n",
       "\n",
       "    var fig = this;\n",
       "\n",
       "    this.waiting = false;\n",
       "\n",
       "    this.ws.onopen =  function () {\n",
       "            fig.send_message(\"supports_binary\", {value: fig.supports_binary});\n",
       "            fig.send_message(\"send_image_mode\", {});\n",
       "            if (mpl.ratio != 1) {\n",
       "                fig.send_message(\"set_dpi_ratio\", {'dpi_ratio': mpl.ratio});\n",
       "            }\n",
       "            fig.send_message(\"refresh\", {});\n",
       "        }\n",
       "\n",
       "    this.imageObj.onload = function() {\n",
       "            if (fig.image_mode == 'full') {\n",
       "                // Full images could contain transparency (where diff images\n",
       "                // almost always do), so we need to clear the canvas so that\n",
       "                // there is no ghosting.\n",
       "                fig.context.clearRect(0, 0, fig.canvas.width, fig.canvas.height);\n",
       "            }\n",
       "            fig.context.drawImage(fig.imageObj, 0, 0);\n",
       "        };\n",
       "\n",
       "    this.imageObj.onunload = function() {\n",
       "        this.ws.close();\n",
       "    }\n",
       "\n",
       "    this.ws.onmessage = this._make_on_message_function(this);\n",
       "\n",
       "    this.ondownload = ondownload;\n",
       "}\n",
       "\n",
       "mpl.figure.prototype._init_header = function() {\n",
       "    var titlebar = $(\n",
       "        '<div class=\"ui-dialog-titlebar ui-widget-header ui-corner-all ' +\n",
       "        'ui-helper-clearfix\"/>');\n",
       "    var titletext = $(\n",
       "        '<div class=\"ui-dialog-title\" style=\"width: 100%; ' +\n",
       "        'text-align: center; padding: 3px;\"/>');\n",
       "    titlebar.append(titletext)\n",
       "    this.root.append(titlebar);\n",
       "    this.header = titletext[0];\n",
       "}\n",
       "\n",
       "\n",
       "\n",
       "mpl.figure.prototype._canvas_extra_style = function(canvas_div) {\n",
       "\n",
       "}\n",
       "\n",
       "\n",
       "mpl.figure.prototype._root_extra_style = function(canvas_div) {\n",
       "\n",
       "}\n",
       "\n",
       "mpl.figure.prototype._init_canvas = function() {\n",
       "    var fig = this;\n",
       "\n",
       "    var canvas_div = $('<div/>');\n",
       "\n",
       "    canvas_div.attr('style', 'position: relative; clear: both; outline: 0');\n",
       "\n",
       "    function canvas_keyboard_event(event) {\n",
       "        return fig.key_event(event, event['data']);\n",
       "    }\n",
       "\n",
       "    canvas_div.keydown('key_press', canvas_keyboard_event);\n",
       "    canvas_div.keyup('key_release', canvas_keyboard_event);\n",
       "    this.canvas_div = canvas_div\n",
       "    this._canvas_extra_style(canvas_div)\n",
       "    this.root.append(canvas_div);\n",
       "\n",
       "    var canvas = $('<canvas/>');\n",
       "    canvas.addClass('mpl-canvas');\n",
       "    canvas.attr('style', \"left: 0; top: 0; z-index: 0; outline: 0\")\n",
       "\n",
       "    this.canvas = canvas[0];\n",
       "    this.context = canvas[0].getContext(\"2d\");\n",
       "\n",
       "    var backingStore = this.context.backingStorePixelRatio ||\n",
       "\tthis.context.webkitBackingStorePixelRatio ||\n",
       "\tthis.context.mozBackingStorePixelRatio ||\n",
       "\tthis.context.msBackingStorePixelRatio ||\n",
       "\tthis.context.oBackingStorePixelRatio ||\n",
       "\tthis.context.backingStorePixelRatio || 1;\n",
       "\n",
       "    mpl.ratio = (window.devicePixelRatio || 1) / backingStore;\n",
       "\n",
       "    var rubberband = $('<canvas/>');\n",
       "    rubberband.attr('style', \"position: absolute; left: 0; top: 0; z-index: 1;\")\n",
       "\n",
       "    var pass_mouse_events = true;\n",
       "\n",
       "    canvas_div.resizable({\n",
       "        start: function(event, ui) {\n",
       "            pass_mouse_events = false;\n",
       "        },\n",
       "        resize: function(event, ui) {\n",
       "            fig.request_resize(ui.size.width, ui.size.height);\n",
       "        },\n",
       "        stop: function(event, ui) {\n",
       "            pass_mouse_events = true;\n",
       "            fig.request_resize(ui.size.width, ui.size.height);\n",
       "        },\n",
       "    });\n",
       "\n",
       "    function mouse_event_fn(event) {\n",
       "        if (pass_mouse_events)\n",
       "            return fig.mouse_event(event, event['data']);\n",
       "    }\n",
       "\n",
       "    rubberband.mousedown('button_press', mouse_event_fn);\n",
       "    rubberband.mouseup('button_release', mouse_event_fn);\n",
       "    // Throttle sequential mouse events to 1 every 20ms.\n",
       "    rubberband.mousemove('motion_notify', mouse_event_fn);\n",
       "\n",
       "    rubberband.mouseenter('figure_enter', mouse_event_fn);\n",
       "    rubberband.mouseleave('figure_leave', mouse_event_fn);\n",
       "\n",
       "    canvas_div.on(\"wheel\", function (event) {\n",
       "        event = event.originalEvent;\n",
       "        event['data'] = 'scroll'\n",
       "        if (event.deltaY < 0) {\n",
       "            event.step = 1;\n",
       "        } else {\n",
       "            event.step = -1;\n",
       "        }\n",
       "        mouse_event_fn(event);\n",
       "    });\n",
       "\n",
       "    canvas_div.append(canvas);\n",
       "    canvas_div.append(rubberband);\n",
       "\n",
       "    this.rubberband = rubberband;\n",
       "    this.rubberband_canvas = rubberband[0];\n",
       "    this.rubberband_context = rubberband[0].getContext(\"2d\");\n",
       "    this.rubberband_context.strokeStyle = \"#000000\";\n",
       "\n",
       "    this._resize_canvas = function(width, height) {\n",
       "        // Keep the size of the canvas, canvas container, and rubber band\n",
       "        // canvas in synch.\n",
       "        canvas_div.css('width', width)\n",
       "        canvas_div.css('height', height)\n",
       "\n",
       "        canvas.attr('width', width * mpl.ratio);\n",
       "        canvas.attr('height', height * mpl.ratio);\n",
       "        canvas.attr('style', 'width: ' + width + 'px; height: ' + height + 'px;');\n",
       "\n",
       "        rubberband.attr('width', width);\n",
       "        rubberband.attr('height', height);\n",
       "    }\n",
       "\n",
       "    // Set the figure to an initial 600x600px, this will subsequently be updated\n",
       "    // upon first draw.\n",
       "    this._resize_canvas(600, 600);\n",
       "\n",
       "    // Disable right mouse context menu.\n",
       "    $(this.rubberband_canvas).bind(\"contextmenu\",function(e){\n",
       "        return false;\n",
       "    });\n",
       "\n",
       "    function set_focus () {\n",
       "        canvas.focus();\n",
       "        canvas_div.focus();\n",
       "    }\n",
       "\n",
       "    window.setTimeout(set_focus, 100);\n",
       "}\n",
       "\n",
       "mpl.figure.prototype._init_toolbar = function() {\n",
       "    var fig = this;\n",
       "\n",
       "    var nav_element = $('<div/>')\n",
       "    nav_element.attr('style', 'width: 100%');\n",
       "    this.root.append(nav_element);\n",
       "\n",
       "    // Define a callback function for later on.\n",
       "    function toolbar_event(event) {\n",
       "        return fig.toolbar_button_onclick(event['data']);\n",
       "    }\n",
       "    function toolbar_mouse_event(event) {\n",
       "        return fig.toolbar_button_onmouseover(event['data']);\n",
       "    }\n",
       "\n",
       "    for(var toolbar_ind in mpl.toolbar_items) {\n",
       "        var name = mpl.toolbar_items[toolbar_ind][0];\n",
       "        var tooltip = mpl.toolbar_items[toolbar_ind][1];\n",
       "        var image = mpl.toolbar_items[toolbar_ind][2];\n",
       "        var method_name = mpl.toolbar_items[toolbar_ind][3];\n",
       "\n",
       "        if (!name) {\n",
       "            // put a spacer in here.\n",
       "            continue;\n",
       "        }\n",
       "        var button = $('<button/>');\n",
       "        button.addClass('ui-button ui-widget ui-state-default ui-corner-all ' +\n",
       "                        'ui-button-icon-only');\n",
       "        button.attr('role', 'button');\n",
       "        button.attr('aria-disabled', 'false');\n",
       "        button.click(method_name, toolbar_event);\n",
       "        button.mouseover(tooltip, toolbar_mouse_event);\n",
       "\n",
       "        var icon_img = $('<span/>');\n",
       "        icon_img.addClass('ui-button-icon-primary ui-icon');\n",
       "        icon_img.addClass(image);\n",
       "        icon_img.addClass('ui-corner-all');\n",
       "\n",
       "        var tooltip_span = $('<span/>');\n",
       "        tooltip_span.addClass('ui-button-text');\n",
       "        tooltip_span.html(tooltip);\n",
       "\n",
       "        button.append(icon_img);\n",
       "        button.append(tooltip_span);\n",
       "\n",
       "        nav_element.append(button);\n",
       "    }\n",
       "\n",
       "    var fmt_picker_span = $('<span/>');\n",
       "\n",
       "    var fmt_picker = $('<select/>');\n",
       "    fmt_picker.addClass('mpl-toolbar-option ui-widget ui-widget-content');\n",
       "    fmt_picker_span.append(fmt_picker);\n",
       "    nav_element.append(fmt_picker_span);\n",
       "    this.format_dropdown = fmt_picker[0];\n",
       "\n",
       "    for (var ind in mpl.extensions) {\n",
       "        var fmt = mpl.extensions[ind];\n",
       "        var option = $(\n",
       "            '<option/>', {selected: fmt === mpl.default_extension}).html(fmt);\n",
       "        fmt_picker.append(option)\n",
       "    }\n",
       "\n",
       "    // Add hover states to the ui-buttons\n",
       "    $( \".ui-button\" ).hover(\n",
       "        function() { $(this).addClass(\"ui-state-hover\");},\n",
       "        function() { $(this).removeClass(\"ui-state-hover\");}\n",
       "    );\n",
       "\n",
       "    var status_bar = $('<span class=\"mpl-message\"/>');\n",
       "    nav_element.append(status_bar);\n",
       "    this.message = status_bar[0];\n",
       "}\n",
       "\n",
       "mpl.figure.prototype.request_resize = function(x_pixels, y_pixels) {\n",
       "    // Request matplotlib to resize the figure. Matplotlib will then trigger a resize in the client,\n",
       "    // which will in turn request a refresh of the image.\n",
       "    this.send_message('resize', {'width': x_pixels, 'height': y_pixels});\n",
       "}\n",
       "\n",
       "mpl.figure.prototype.send_message = function(type, properties) {\n",
       "    properties['type'] = type;\n",
       "    properties['figure_id'] = this.id;\n",
       "    this.ws.send(JSON.stringify(properties));\n",
       "}\n",
       "\n",
       "mpl.figure.prototype.send_draw_message = function() {\n",
       "    if (!this.waiting) {\n",
       "        this.waiting = true;\n",
       "        this.ws.send(JSON.stringify({type: \"draw\", figure_id: this.id}));\n",
       "    }\n",
       "}\n",
       "\n",
       "\n",
       "mpl.figure.prototype.handle_save = function(fig, msg) {\n",
       "    var format_dropdown = fig.format_dropdown;\n",
       "    var format = format_dropdown.options[format_dropdown.selectedIndex].value;\n",
       "    fig.ondownload(fig, format);\n",
       "}\n",
       "\n",
       "\n",
       "mpl.figure.prototype.handle_resize = function(fig, msg) {\n",
       "    var size = msg['size'];\n",
       "    if (size[0] != fig.canvas.width || size[1] != fig.canvas.height) {\n",
       "        fig._resize_canvas(size[0], size[1]);\n",
       "        fig.send_message(\"refresh\", {});\n",
       "    };\n",
       "}\n",
       "\n",
       "mpl.figure.prototype.handle_rubberband = function(fig, msg) {\n",
       "    var x0 = msg['x0'] / mpl.ratio;\n",
       "    var y0 = (fig.canvas.height - msg['y0']) / mpl.ratio;\n",
       "    var x1 = msg['x1'] / mpl.ratio;\n",
       "    var y1 = (fig.canvas.height - msg['y1']) / mpl.ratio;\n",
       "    x0 = Math.floor(x0) + 0.5;\n",
       "    y0 = Math.floor(y0) + 0.5;\n",
       "    x1 = Math.floor(x1) + 0.5;\n",
       "    y1 = Math.floor(y1) + 0.5;\n",
       "    var min_x = Math.min(x0, x1);\n",
       "    var min_y = Math.min(y0, y1);\n",
       "    var width = Math.abs(x1 - x0);\n",
       "    var height = Math.abs(y1 - y0);\n",
       "\n",
       "    fig.rubberband_context.clearRect(\n",
       "        0, 0, fig.canvas.width, fig.canvas.height);\n",
       "\n",
       "    fig.rubberband_context.strokeRect(min_x, min_y, width, height);\n",
       "}\n",
       "\n",
       "mpl.figure.prototype.handle_figure_label = function(fig, msg) {\n",
       "    // Updates the figure title.\n",
       "    fig.header.textContent = msg['label'];\n",
       "}\n",
       "\n",
       "mpl.figure.prototype.handle_cursor = function(fig, msg) {\n",
       "    var cursor = msg['cursor'];\n",
       "    switch(cursor)\n",
       "    {\n",
       "    case 0:\n",
       "        cursor = 'pointer';\n",
       "        break;\n",
       "    case 1:\n",
       "        cursor = 'default';\n",
       "        break;\n",
       "    case 2:\n",
       "        cursor = 'crosshair';\n",
       "        break;\n",
       "    case 3:\n",
       "        cursor = 'move';\n",
       "        break;\n",
       "    }\n",
       "    fig.rubberband_canvas.style.cursor = cursor;\n",
       "}\n",
       "\n",
       "mpl.figure.prototype.handle_message = function(fig, msg) {\n",
       "    fig.message.textContent = msg['message'];\n",
       "}\n",
       "\n",
       "mpl.figure.prototype.handle_draw = function(fig, msg) {\n",
       "    // Request the server to send over a new figure.\n",
       "    fig.send_draw_message();\n",
       "}\n",
       "\n",
       "mpl.figure.prototype.handle_image_mode = function(fig, msg) {\n",
       "    fig.image_mode = msg['mode'];\n",
       "}\n",
       "\n",
       "mpl.figure.prototype.updated_canvas_event = function() {\n",
       "    // Called whenever the canvas gets updated.\n",
       "    this.send_message(\"ack\", {});\n",
       "}\n",
       "\n",
       "// A function to construct a web socket function for onmessage handling.\n",
       "// Called in the figure constructor.\n",
       "mpl.figure.prototype._make_on_message_function = function(fig) {\n",
       "    return function socket_on_message(evt) {\n",
       "        if (evt.data instanceof Blob) {\n",
       "            /* FIXME: We get \"Resource interpreted as Image but\n",
       "             * transferred with MIME type text/plain:\" errors on\n",
       "             * Chrome.  But how to set the MIME type?  It doesn't seem\n",
       "             * to be part of the websocket stream */\n",
       "            evt.data.type = \"image/png\";\n",
       "\n",
       "            /* Free the memory for the previous frames */\n",
       "            if (fig.imageObj.src) {\n",
       "                (window.URL || window.webkitURL).revokeObjectURL(\n",
       "                    fig.imageObj.src);\n",
       "            }\n",
       "\n",
       "            fig.imageObj.src = (window.URL || window.webkitURL).createObjectURL(\n",
       "                evt.data);\n",
       "            fig.updated_canvas_event();\n",
       "            fig.waiting = false;\n",
       "            return;\n",
       "        }\n",
       "        else if (typeof evt.data === 'string' && evt.data.slice(0, 21) == \"data:image/png;base64\") {\n",
       "            fig.imageObj.src = evt.data;\n",
       "            fig.updated_canvas_event();\n",
       "            fig.waiting = false;\n",
       "            return;\n",
       "        }\n",
       "\n",
       "        var msg = JSON.parse(evt.data);\n",
       "        var msg_type = msg['type'];\n",
       "\n",
       "        // Call the  \"handle_{type}\" callback, which takes\n",
       "        // the figure and JSON message as its only arguments.\n",
       "        try {\n",
       "            var callback = fig[\"handle_\" + msg_type];\n",
       "        } catch (e) {\n",
       "            console.log(\"No handler for the '\" + msg_type + \"' message type: \", msg);\n",
       "            return;\n",
       "        }\n",
       "\n",
       "        if (callback) {\n",
       "            try {\n",
       "                // console.log(\"Handling '\" + msg_type + \"' message: \", msg);\n",
       "                callback(fig, msg);\n",
       "            } catch (e) {\n",
       "                console.log(\"Exception inside the 'handler_\" + msg_type + \"' callback:\", e, e.stack, msg);\n",
       "            }\n",
       "        }\n",
       "    };\n",
       "}\n",
       "\n",
       "// from http://stackoverflow.com/questions/1114465/getting-mouse-location-in-canvas\n",
       "mpl.findpos = function(e) {\n",
       "    //this section is from http://www.quirksmode.org/js/events_properties.html\n",
       "    var targ;\n",
       "    if (!e)\n",
       "        e = window.event;\n",
       "    if (e.target)\n",
       "        targ = e.target;\n",
       "    else if (e.srcElement)\n",
       "        targ = e.srcElement;\n",
       "    if (targ.nodeType == 3) // defeat Safari bug\n",
       "        targ = targ.parentNode;\n",
       "\n",
       "    // jQuery normalizes the pageX and pageY\n",
       "    // pageX,Y are the mouse positions relative to the document\n",
       "    // offset() returns the position of the element relative to the document\n",
       "    var x = e.pageX - $(targ).offset().left;\n",
       "    var y = e.pageY - $(targ).offset().top;\n",
       "\n",
       "    return {\"x\": x, \"y\": y};\n",
       "};\n",
       "\n",
       "/*\n",
       " * return a copy of an object with only non-object keys\n",
       " * we need this to avoid circular references\n",
       " * http://stackoverflow.com/a/24161582/3208463\n",
       " */\n",
       "function simpleKeys (original) {\n",
       "  return Object.keys(original).reduce(function (obj, key) {\n",
       "    if (typeof original[key] !== 'object')\n",
       "        obj[key] = original[key]\n",
       "    return obj;\n",
       "  }, {});\n",
       "}\n",
       "\n",
       "mpl.figure.prototype.mouse_event = function(event, name) {\n",
       "    var canvas_pos = mpl.findpos(event)\n",
       "\n",
       "    if (name === 'button_press')\n",
       "    {\n",
       "        this.canvas.focus();\n",
       "        this.canvas_div.focus();\n",
       "    }\n",
       "\n",
       "    var x = canvas_pos.x * mpl.ratio;\n",
       "    var y = canvas_pos.y * mpl.ratio;\n",
       "\n",
       "    this.send_message(name, {x: x, y: y, button: event.button,\n",
       "                             step: event.step,\n",
       "                             guiEvent: simpleKeys(event)});\n",
       "\n",
       "    /* This prevents the web browser from automatically changing to\n",
       "     * the text insertion cursor when the button is pressed.  We want\n",
       "     * to control all of the cursor setting manually through the\n",
       "     * 'cursor' event from matplotlib */\n",
       "    event.preventDefault();\n",
       "    return false;\n",
       "}\n",
       "\n",
       "mpl.figure.prototype._key_event_extra = function(event, name) {\n",
       "    // Handle any extra behaviour associated with a key event\n",
       "}\n",
       "\n",
       "mpl.figure.prototype.key_event = function(event, name) {\n",
       "\n",
       "    // Prevent repeat events\n",
       "    if (name == 'key_press')\n",
       "    {\n",
       "        if (event.which === this._key)\n",
       "            return;\n",
       "        else\n",
       "            this._key = event.which;\n",
       "    }\n",
       "    if (name == 'key_release')\n",
       "        this._key = null;\n",
       "\n",
       "    var value = '';\n",
       "    if (event.ctrlKey && event.which != 17)\n",
       "        value += \"ctrl+\";\n",
       "    if (event.altKey && event.which != 18)\n",
       "        value += \"alt+\";\n",
       "    if (event.shiftKey && event.which != 16)\n",
       "        value += \"shift+\";\n",
       "\n",
       "    value += 'k';\n",
       "    value += event.which.toString();\n",
       "\n",
       "    this._key_event_extra(event, name);\n",
       "\n",
       "    this.send_message(name, {key: value,\n",
       "                             guiEvent: simpleKeys(event)});\n",
       "    return false;\n",
       "}\n",
       "\n",
       "mpl.figure.prototype.toolbar_button_onclick = function(name) {\n",
       "    if (name == 'download') {\n",
       "        this.handle_save(this, null);\n",
       "    } else {\n",
       "        this.send_message(\"toolbar_button\", {name: name});\n",
       "    }\n",
       "};\n",
       "\n",
       "mpl.figure.prototype.toolbar_button_onmouseover = function(tooltip) {\n",
       "    this.message.textContent = tooltip;\n",
       "};\n",
       "mpl.toolbar_items = [[\"Home\", \"Reset original view\", \"fa fa-home icon-home\", \"home\"], [\"Back\", \"Back to  previous view\", \"fa fa-arrow-left icon-arrow-left\", \"back\"], [\"Forward\", \"Forward to next view\", \"fa fa-arrow-right icon-arrow-right\", \"forward\"], [\"\", \"\", \"\", \"\"], [\"Pan\", \"Pan axes with left mouse, zoom with right\", \"fa fa-arrows icon-move\", \"pan\"], [\"Zoom\", \"Zoom to rectangle\", \"fa fa-square-o icon-check-empty\", \"zoom\"], [\"\", \"\", \"\", \"\"], [\"Download\", \"Download plot\", \"fa fa-floppy-o icon-save\", \"download\"]];\n",
       "\n",
       "mpl.extensions = [\"eps\", \"pdf\", \"png\", \"ps\", \"raw\", \"svg\"];\n",
       "\n",
       "mpl.default_extension = \"png\";var comm_websocket_adapter = function(comm) {\n",
       "    // Create a \"websocket\"-like object which calls the given IPython comm\n",
       "    // object with the appropriate methods. Currently this is a non binary\n",
       "    // socket, so there is still some room for performance tuning.\n",
       "    var ws = {};\n",
       "\n",
       "    ws.close = function() {\n",
       "        comm.close()\n",
       "    };\n",
       "    ws.send = function(m) {\n",
       "        //console.log('sending', m);\n",
       "        comm.send(m);\n",
       "    };\n",
       "    // Register the callback with on_msg.\n",
       "    comm.on_msg(function(msg) {\n",
       "        //console.log('receiving', msg['content']['data'], msg);\n",
       "        // Pass the mpl event to the overriden (by mpl) onmessage function.\n",
       "        ws.onmessage(msg['content']['data'])\n",
       "    });\n",
       "    return ws;\n",
       "}\n",
       "\n",
       "mpl.mpl_figure_comm = function(comm, msg) {\n",
       "    // This is the function which gets called when the mpl process\n",
       "    // starts-up an IPython Comm through the \"matplotlib\" channel.\n",
       "\n",
       "    var id = msg.content.data.id;\n",
       "    // Get hold of the div created by the display call when the Comm\n",
       "    // socket was opened in Python.\n",
       "    var element = $(\"#\" + id);\n",
       "    var ws_proxy = comm_websocket_adapter(comm)\n",
       "\n",
       "    function ondownload(figure, format) {\n",
       "        window.open(figure.imageObj.src);\n",
       "    }\n",
       "\n",
       "    var fig = new mpl.figure(id, ws_proxy,\n",
       "                           ondownload,\n",
       "                           element.get(0));\n",
       "\n",
       "    // Call onopen now - mpl needs it, as it is assuming we've passed it a real\n",
       "    // web socket which is closed, not our websocket->open comm proxy.\n",
       "    ws_proxy.onopen();\n",
       "\n",
       "    fig.parent_element = element.get(0);\n",
       "    fig.cell_info = mpl.find_output_cell(\"<div id='\" + id + \"'></div>\");\n",
       "    if (!fig.cell_info) {\n",
       "        console.error(\"Failed to find cell for figure\", id, fig);\n",
       "        return;\n",
       "    }\n",
       "\n",
       "    var output_index = fig.cell_info[2]\n",
       "    var cell = fig.cell_info[0];\n",
       "\n",
       "};\n",
       "\n",
       "mpl.figure.prototype.handle_close = function(fig, msg) {\n",
       "    var width = fig.canvas.width/mpl.ratio\n",
       "    fig.root.unbind('remove')\n",
       "\n",
       "    // Update the output cell to use the data from the current canvas.\n",
       "    fig.push_to_output();\n",
       "    var dataURL = fig.canvas.toDataURL();\n",
       "    // Re-enable the keyboard manager in IPython - without this line, in FF,\n",
       "    // the notebook keyboard shortcuts fail.\n",
       "    IPython.keyboard_manager.enable()\n",
       "    $(fig.parent_element).html('<img src=\"' + dataURL + '\" width=\"' + width + '\">');\n",
       "    fig.close_ws(fig, msg);\n",
       "}\n",
       "\n",
       "mpl.figure.prototype.close_ws = function(fig, msg){\n",
       "    fig.send_message('closing', msg);\n",
       "    // fig.ws.close()\n",
       "}\n",
       "\n",
       "mpl.figure.prototype.push_to_output = function(remove_interactive) {\n",
       "    // Turn the data on the canvas into data in the output cell.\n",
       "    var width = this.canvas.width/mpl.ratio\n",
       "    var dataURL = this.canvas.toDataURL();\n",
       "    this.cell_info[1]['text/html'] = '<img src=\"' + dataURL + '\" width=\"' + width + '\">';\n",
       "}\n",
       "\n",
       "mpl.figure.prototype.updated_canvas_event = function() {\n",
       "    // Tell IPython that the notebook contents must change.\n",
       "    IPython.notebook.set_dirty(true);\n",
       "    this.send_message(\"ack\", {});\n",
       "    var fig = this;\n",
       "    // Wait a second, then push the new image to the DOM so\n",
       "    // that it is saved nicely (might be nice to debounce this).\n",
       "    setTimeout(function () { fig.push_to_output() }, 1000);\n",
       "}\n",
       "\n",
       "mpl.figure.prototype._init_toolbar = function() {\n",
       "    var fig = this;\n",
       "\n",
       "    var nav_element = $('<div/>')\n",
       "    nav_element.attr('style', 'width: 100%');\n",
       "    this.root.append(nav_element);\n",
       "\n",
       "    // Define a callback function for later on.\n",
       "    function toolbar_event(event) {\n",
       "        return fig.toolbar_button_onclick(event['data']);\n",
       "    }\n",
       "    function toolbar_mouse_event(event) {\n",
       "        return fig.toolbar_button_onmouseover(event['data']);\n",
       "    }\n",
       "\n",
       "    for(var toolbar_ind in mpl.toolbar_items){\n",
       "        var name = mpl.toolbar_items[toolbar_ind][0];\n",
       "        var tooltip = mpl.toolbar_items[toolbar_ind][1];\n",
       "        var image = mpl.toolbar_items[toolbar_ind][2];\n",
       "        var method_name = mpl.toolbar_items[toolbar_ind][3];\n",
       "\n",
       "        if (!name) { continue; };\n",
       "\n",
       "        var button = $('<button class=\"btn btn-default\" href=\"#\" title=\"' + name + '\"><i class=\"fa ' + image + ' fa-lg\"></i></button>');\n",
       "        button.click(method_name, toolbar_event);\n",
       "        button.mouseover(tooltip, toolbar_mouse_event);\n",
       "        nav_element.append(button);\n",
       "    }\n",
       "\n",
       "    // Add the status bar.\n",
       "    var status_bar = $('<span class=\"mpl-message\" style=\"text-align:right; float: right;\"/>');\n",
       "    nav_element.append(status_bar);\n",
       "    this.message = status_bar[0];\n",
       "\n",
       "    // Add the close button to the window.\n",
       "    var buttongrp = $('<div class=\"btn-group inline pull-right\"></div>');\n",
       "    var button = $('<button class=\"btn btn-mini btn-primary\" href=\"#\" title=\"Stop Interaction\"><i class=\"fa fa-power-off icon-remove icon-large\"></i></button>');\n",
       "    button.click(function (evt) { fig.handle_close(fig, {}); } );\n",
       "    button.mouseover('Stop Interaction', toolbar_mouse_event);\n",
       "    buttongrp.append(button);\n",
       "    var titlebar = this.root.find($('.ui-dialog-titlebar'));\n",
       "    titlebar.prepend(buttongrp);\n",
       "}\n",
       "\n",
       "mpl.figure.prototype._root_extra_style = function(el){\n",
       "    var fig = this\n",
       "    el.on(\"remove\", function(){\n",
       "\tfig.close_ws(fig, {});\n",
       "    });\n",
       "}\n",
       "\n",
       "mpl.figure.prototype._canvas_extra_style = function(el){\n",
       "    // this is important to make the div 'focusable\n",
       "    el.attr('tabindex', 0)\n",
       "    // reach out to IPython and tell the keyboard manager to turn it's self\n",
       "    // off when our div gets focus\n",
       "\n",
       "    // location in version 3\n",
       "    if (IPython.notebook.keyboard_manager) {\n",
       "        IPython.notebook.keyboard_manager.register_events(el);\n",
       "    }\n",
       "    else {\n",
       "        // location in version 2\n",
       "        IPython.keyboard_manager.register_events(el);\n",
       "    }\n",
       "\n",
       "}\n",
       "\n",
       "mpl.figure.prototype._key_event_extra = function(event, name) {\n",
       "    var manager = IPython.notebook.keyboard_manager;\n",
       "    if (!manager)\n",
       "        manager = IPython.keyboard_manager;\n",
       "\n",
       "    // Check for shift+enter\n",
       "    if (event.shiftKey && event.which == 13) {\n",
       "        this.canvas_div.blur();\n",
       "        // select the cell after this one\n",
       "        var index = IPython.notebook.find_cell_index(this.cell_info[0]);\n",
       "        IPython.notebook.select(index + 1);\n",
       "    }\n",
       "}\n",
       "\n",
       "mpl.figure.prototype.handle_save = function(fig, msg) {\n",
       "    fig.ondownload(fig, null);\n",
       "}\n",
       "\n",
       "\n",
       "mpl.find_output_cell = function(html_output) {\n",
       "    // Return the cell and output element which can be found *uniquely* in the notebook.\n",
       "    // Note - this is a bit hacky, but it is done because the \"notebook_saving.Notebook\"\n",
       "    // IPython event is triggered only after the cells have been serialised, which for\n",
       "    // our purposes (turning an active figure into a static one), is too late.\n",
       "    var cells = IPython.notebook.get_cells();\n",
       "    var ncells = cells.length;\n",
       "    for (var i=0; i<ncells; i++) {\n",
       "        var cell = cells[i];\n",
       "        if (cell.cell_type === 'code'){\n",
       "            for (var j=0; j<cell.output_area.outputs.length; j++) {\n",
       "                var data = cell.output_area.outputs[j];\n",
       "                if (data.data) {\n",
       "                    // IPython >= 3 moved mimebundle to data attribute of output\n",
       "                    data = data.data;\n",
       "                }\n",
       "                if (data['text/html'] == html_output) {\n",
       "                    return [cell, data, j];\n",
       "                }\n",
       "            }\n",
       "        }\n",
       "    }\n",
       "}\n",
       "\n",
       "// Register the function which deals with the matplotlib target/channel.\n",
       "// The kernel may be null if the page has been refreshed.\n",
       "if (IPython.notebook.kernel != null) {\n",
       "    IPython.notebook.kernel.comm_manager.register_target('matplotlib', mpl.mpl_figure_comm);\n",
       "}\n"
      ],
      "text/plain": [
       "<IPython.core.display.Javascript object>"
      ]
     },
     "metadata": {},
     "output_type": "display_data"
    },
    {
     "data": {
      "text/html": [
       "<img src=\"data:image/png;base64,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\" width=\"640\">"
      ],
      "text/plain": [
       "<IPython.core.display.HTML object>"
      ]
     },
     "metadata": {},
     "output_type": "display_data"
    }
   ],
   "source": [
    "plt.figure()\n",
    "plt.subplot(1, 2, 1)\n",
    "plt.plot(v1 ** 2,'g--', label='$y = x^2$')\n",
    "plt.legend(loc=0)\n",
    "plt.subplot(1, 2, 2)\n",
    "plt.plot(np.sqrt(v1), 'r*-', label='$y = \\sqrt{x}$')\n",
    "plt.legend(loc=2)\n",
    "plt.show()"
   ]
  },
  {
   "cell_type": "code",
   "execution_count": 37,
   "metadata": {},
   "outputs": [
    {
     "name": "stdout",
     "output_type": "stream",
     "text": [
      "[[ 0  1  2  3  4]\n",
      " [10 11 12 13 14]\n",
      " [20 21 22 23 24]\n",
      " [30 31 32 33 34]\n",
      " [40 41 42 43 44]]\n"
     ]
    }
   ],
   "source": [
    "A = np.array([[n + m * 10 for n in range(5)] for m in range(5)])\n",
    "print(A)"
   ]
  },
  {
   "cell_type": "code",
   "execution_count": 38,
   "metadata": {},
   "outputs": [
    {
     "name": "stdout",
     "output_type": "stream",
     "text": [
      "[[ 0  2  4  6  8]\n",
      " [20 22 24 26 28]\n",
      " [40 42 44 46 48]\n",
      " [60 62 64 66 68]\n",
      " [80 82 84 86 88]]\n"
     ]
    }
   ],
   "source": [
    "print(A * 2)"
   ]
  },
  {
   "cell_type": "code",
   "execution_count": 39,
   "metadata": {},
   "outputs": [
    {
     "name": "stdout",
     "output_type": "stream",
     "text": [
      "[[ 2  3  4  5  6]\n",
      " [12 13 14 15 16]\n",
      " [22 23 24 25 26]\n",
      " [32 33 34 35 36]\n",
      " [42 43 44 45 46]]\n"
     ]
    }
   ],
   "source": [
    "print(A + 2)"
   ]
  },
  {
   "cell_type": "markdown",
   "metadata": {},
   "source": [
    "### Opérations terme-à-terme sur les *arrays*\n",
    "\n",
    "Les opérations par défaut sont des opérations **terme-à-terme** :"
   ]
  },
  {
   "cell_type": "code",
   "execution_count": 40,
   "metadata": {},
   "outputs": [
    {
     "name": "stdout",
     "output_type": "stream",
     "text": [
      "[[ 0  1  2  3  4]\n",
      " [10 11 12 13 14]\n",
      " [20 21 22 23 24]\n",
      " [30 31 32 33 34]\n",
      " [40 41 42 43 44]]\n"
     ]
    }
   ],
   "source": [
    "A = np.array([[n + m * 10 for n in range(5)] for m in range(5)])\n",
    "print(A)"
   ]
  },
  {
   "cell_type": "code",
   "execution_count": 41,
   "metadata": {},
   "outputs": [
    {
     "data": {
      "text/plain": [
       "array([[   0,    1,    4,    9,   16],\n",
       "       [ 100,  121,  144,  169,  196],\n",
       "       [ 400,  441,  484,  529,  576],\n",
       "       [ 900,  961, 1024, 1089, 1156],\n",
       "       [1600, 1681, 1764, 1849, 1936]])"
      ]
     },
     "execution_count": 41,
     "metadata": {},
     "output_type": "execute_result"
    }
   ],
   "source": [
    "A * A # multiplication terme-à-terme"
   ]
  },
  {
   "cell_type": "code",
   "execution_count": 42,
   "metadata": {},
   "outputs": [
    {
     "data": {
      "text/plain": [
       "array([[  0. ,   5.5,  11. ,  16.5,  22. ],\n",
       "       [  5.5,  11. ,  16.5,  22. ,  27.5],\n",
       "       [ 11. ,  16.5,  22. ,  27.5,  33. ],\n",
       "       [ 16.5,  22. ,  27.5,  33. ,  38.5],\n",
       "       [ 22. ,  27.5,  33. ,  38.5,  44. ]])"
      ]
     },
     "execution_count": 42,
     "metadata": {},
     "output_type": "execute_result"
    }
   ],
   "source": [
    "(A + A.T) / 2"
   ]
  },
  {
   "cell_type": "code",
   "execution_count": 44,
   "metadata": {},
   "outputs": [
    {
     "name": "stdout",
     "output_type": "stream",
     "text": [
      "[0 1 2 3 4]\n",
      "[ 0  1  4  9 16]\n"
     ]
    }
   ],
   "source": [
    "print(v1)\n",
    "print(v1 * v1)"
   ]
  },
  {
   "cell_type": "markdown",
   "metadata": {},
   "source": [
    "En multipliant des *arrays* de tailles compatibles, on obtient des multiplications terme-à-terme par ligne :"
   ]
  },
  {
   "cell_type": "code",
   "execution_count": 106,
   "metadata": {},
   "outputs": [
    {
     "data": {
      "text/plain": [
       "((5, 5), (5,))"
      ]
     },
     "execution_count": 106,
     "metadata": {},
     "output_type": "execute_result"
    }
   ],
   "source": [
    "A.shape, v1.shape"
   ]
  },
  {
   "cell_type": "code",
   "execution_count": 45,
   "metadata": {},
   "outputs": [
    {
     "name": "stdout",
     "output_type": "stream",
     "text": [
      "[[ 0  1  2  3  4]\n",
      " [10 11 12 13 14]\n",
      " [20 21 22 23 24]\n",
      " [30 31 32 33 34]\n",
      " [40 41 42 43 44]]\n",
      "[0 1 2 3 4]\n",
      "[[  0   1   4   9  16]\n",
      " [  0  11  24  39  56]\n",
      " [  0  21  44  69  96]\n",
      " [  0  31  64  99 136]\n",
      " [  0  41  84 129 176]]\n"
     ]
    }
   ],
   "source": [
    "print(A)\n",
    "print(v1)\n",
    "print(A * v1)"
   ]
  },
  {
   "cell_type": "markdown",
   "metadata": {},
   "source": [
    "De façon plus générale, on peut faire des opérations sur des tableaux de différentes tailles. Dans certains cas, NumPy peut transformer les tableaux pour qu'ils aient la même taille, cette conversion s'appelle le **\"Broadcasting\"**.\n",
    "<img src=\"numpy_broadcasting.png\" width=600>"
   ]
  },
  {
   "cell_type": "code",
   "execution_count": 46,
   "metadata": {},
   "outputs": [
    {
     "name": "stdout",
     "output_type": "stream",
     "text": [
      "[0 1 2 3] (4,)\n",
      "[0 1 2 3 4] (5,)\n"
     ]
    },
    {
     "ename": "ValueError",
     "evalue": "operands could not be broadcast together with shapes (4,) (5,) ",
     "output_type": "error",
     "traceback": [
      "\u001b[0;31m---------------------------------------------------------------------------\u001b[0m",
      "\u001b[0;31mValueError\u001b[0m                                Traceback (most recent call last)",
      "\u001b[0;32m<ipython-input-46-214c8fb85dfa>\u001b[0m in \u001b[0;36m<module>\u001b[0;34m()\u001b[0m\n\u001b[1;32m      3\u001b[0m \u001b[0mprint\u001b[0m\u001b[0;34m(\u001b[0m\u001b[0ma\u001b[0m\u001b[0;34m,\u001b[0m \u001b[0ma\u001b[0m\u001b[0;34m.\u001b[0m\u001b[0mshape\u001b[0m\u001b[0;34m)\u001b[0m\u001b[0;34m\u001b[0m\u001b[0m\n\u001b[1;32m      4\u001b[0m \u001b[0mprint\u001b[0m\u001b[0;34m(\u001b[0m\u001b[0mb\u001b[0m\u001b[0;34m,\u001b[0m \u001b[0mb\u001b[0m\u001b[0;34m.\u001b[0m\u001b[0mshape\u001b[0m\u001b[0;34m)\u001b[0m\u001b[0;34m\u001b[0m\u001b[0m\n\u001b[0;32m----> 5\u001b[0;31m \u001b[0ma\u001b[0m \u001b[0;34m*\u001b[0m \u001b[0mb\u001b[0m\u001b[0;34m\u001b[0m\u001b[0m\n\u001b[0m",
      "\u001b[0;31mValueError\u001b[0m: operands could not be broadcast together with shapes (4,) (5,) "
     ]
    }
   ],
   "source": [
    "a = np.arange(4)\n",
    "b = np.arange(5)\n",
    "print(a, a.shape)\n",
    "print(b, b.shape)\n",
    "a * b"
   ]
  },
  {
   "cell_type": "code",
   "execution_count": 47,
   "metadata": {},
   "outputs": [
    {
     "name": "stdout",
     "output_type": "stream",
     "text": [
      "(4, 1) (1, 5) (4, 5)\n"
     ]
    }
   ],
   "source": [
    "b = b[:, np.newaxis].T\n",
    "a = a[:, np.newaxis]\n",
    "c = a * b\n",
    "print(a.shape, b.shape, c.shape)"
   ]
  },
  {
   "cell_type": "markdown",
   "metadata": {},
   "source": [
    "Il existe une règle pour savoir dans quel cas on peut faire du \"broadcasting\":\n",
    "**Dans une opération, la taille des axex des deux tableaux doit être soit la même, soit une des deux doit être 1**.\n",
    "Dans la figure ci-dessus, cette règle est respectée:\n",
    "```\n",
    "a:      4 x 3   \n",
    "b:      4 x 3\n",
    "result: 4 x 3\n",
    "\n",
    "a:      4 x 3\n",
    "b:          3\n",
    "result: 4 x 3\n",
    "\n",
    "a:      4 x 1\n",
    "b:          3\n",
    "result: 4 x 3\n",
    "```"
   ]
  },
  {
   "cell_type": "markdown",
   "metadata": {},
   "source": [
    "Que donnerait les deux cas suivant?\n",
    "\n",
    "```\n",
    "Image  (3d array): 256 x 256 x 3\n",
    "Scale  (1d array):             3\n",
    "Result (3d array): \n",
    "\n",
    "A      (4d array):  8 x 1 x 6 x 1\n",
    "B      (3d array):      7 x 1 x 5\n",
    "Result (4d array):  \n",
    "```"
   ]
  },
  {
   "cell_type": "code",
   "execution_count": null,
   "metadata": {
    "collapsed": true
   },
   "outputs": [],
   "source": []
  },
  {
   "cell_type": "markdown",
   "metadata": {},
   "source": [
    "### EXERCICE:\n",
    "\n",
    "Sans utiliser de boucles (`for/while`) :\n",
    "\n",
    " * Créer une matrice (5x6) aléatoire\n",
    " * Remplacer une colonne sur deux par sa valeur moins le double de la colonne suivante\n",
    " * Remplacer les valeurs négatives par 0 en utilisant un masque binaire\n"
   ]
  },
  {
   "cell_type": "code",
   "execution_count": 49,
   "metadata": {},
   "outputs": [
    {
     "data": {
      "text/plain": [
       "array([[ 0.84816472,  0.44984964,  0.10364574,  0.62993973,  0.5192826 ,\n",
       "         0.69498014],\n",
       "       [ 0.45620214,  0.97419087,  0.64500102,  0.2777187 ,  0.90756197,\n",
       "         0.75367401],\n",
       "       [ 0.58184794,  0.39604047,  0.30787942,  0.769685  ,  0.515811  ,\n",
       "         0.55245001],\n",
       "       [ 0.79476727,  0.12382066,  0.84614569,  0.68366909,  0.99751763,\n",
       "         0.00572133],\n",
       "       [ 0.43536374,  0.74816048,  0.68722563,  0.05981521,  0.50453528,\n",
       "         0.81603756]])"
      ]
     },
     "execution_count": 49,
     "metadata": {},
     "output_type": "execute_result"
    }
   ],
   "source": [
    "A = np.random.rand(5,6)\n",
    "A"
   ]
  },
  {
   "cell_type": "code",
   "execution_count": 50,
   "metadata": {},
   "outputs": [],
   "source": [
    "A[:, ::2] = A[:, ::2] - 2 * A[:,1::2]"
   ]
  },
  {
   "cell_type": "code",
   "execution_count": 51,
   "metadata": {},
   "outputs": [
    {
     "data": {
      "text/plain": [
       "array([[-0.05153456,  0.44984964, -1.15623373,  0.62993973, -0.87067767,\n",
       "         0.69498014],\n",
       "       [-1.49217959,  0.97419087,  0.08956362,  0.2777187 , -0.59978605,\n",
       "         0.75367401],\n",
       "       [-0.21023299,  0.39604047, -1.23149058,  0.769685  , -0.58908901,\n",
       "         0.55245001],\n",
       "       [ 0.54712595,  0.12382066, -0.5211925 ,  0.68366909,  0.98607497,\n",
       "         0.00572133],\n",
       "       [-1.06095723,  0.74816048,  0.56759521,  0.05981521, -1.12753984,\n",
       "         0.81603756]])"
      ]
     },
     "execution_count": 51,
     "metadata": {},
     "output_type": "execute_result"
    }
   ],
   "source": [
    "A"
   ]
  },
  {
   "cell_type": "code",
   "execution_count": 52,
   "metadata": {},
   "outputs": [],
   "source": [
    "A[np.where(A < 0)] = 0"
   ]
  },
  {
   "cell_type": "code",
   "execution_count": 53,
   "metadata": {},
   "outputs": [
    {
     "data": {
      "text/plain": [
       "array([[ 0.        ,  0.44984964,  0.        ,  0.62993973,  0.        ,\n",
       "         0.69498014],\n",
       "       [ 0.        ,  0.97419087,  0.08956362,  0.2777187 ,  0.        ,\n",
       "         0.75367401],\n",
       "       [ 0.        ,  0.39604047,  0.        ,  0.769685  ,  0.        ,\n",
       "         0.55245001],\n",
       "       [ 0.54712595,  0.12382066,  0.        ,  0.68366909,  0.98607497,\n",
       "         0.00572133],\n",
       "       [ 0.        ,  0.74816048,  0.56759521,  0.05981521,  0.        ,\n",
       "         0.81603756]])"
      ]
     },
     "execution_count": 53,
     "metadata": {},
     "output_type": "execute_result"
    }
   ],
   "source": [
    "A"
   ]
  },
  {
   "cell_type": "markdown",
   "metadata": {},
   "source": [
    "Créez un tableau qui contient la somme de chaque élément de `x` avec chaque élément de `y`:"
   ]
  },
  {
   "cell_type": "code",
   "execution_count": 54,
   "metadata": {},
   "outputs": [],
   "source": [
    "x = np.random.rand(3, 5)\n",
    "y = np.random.randint(10, size=8)"
   ]
  },
  {
   "cell_type": "code",
   "execution_count": 55,
   "metadata": {},
   "outputs": [
    {
     "name": "stdout",
     "output_type": "stream",
     "text": [
      "[[ 0.68324624  0.87304412  0.5366889   0.92812755  0.95104551]\n",
      " [ 0.66587555  0.99066757  0.49413349  0.14413403  0.33229855]\n",
      " [ 0.33310439  0.61988862  0.00255958  0.29052859  0.19892729]]\n",
      "[7 8 6 3 1 5 2 1]\n",
      "(3, 5, 8)\n"
     ]
    }
   ],
   "source": [
    "print(x)\n",
    "print(y)\n",
    "x = x[:, :, np.newaxis]\n",
    "z = x + y\n",
    "print(z.shape)"
   ]
  },
  {
   "cell_type": "code",
   "execution_count": 56,
   "metadata": {},
   "outputs": [
    {
     "name": "stdout",
     "output_type": "stream",
     "text": [
      "[[[ 7.68324624  8.68324624  6.68324624  3.68324624  1.68324624  5.68324624\n",
      "    2.68324624  1.68324624]\n",
      "  [ 7.87304412  8.87304412  6.87304412  3.87304412  1.87304412  5.87304412\n",
      "    2.87304412  1.87304412]\n",
      "  [ 7.5366889   8.5366889   6.5366889   3.5366889   1.5366889   5.5366889\n",
      "    2.5366889   1.5366889 ]\n",
      "  [ 7.92812755  8.92812755  6.92812755  3.92812755  1.92812755  5.92812755\n",
      "    2.92812755  1.92812755]\n",
      "  [ 7.95104551  8.95104551  6.95104551  3.95104551  1.95104551  5.95104551\n",
      "    2.95104551  1.95104551]]\n",
      "\n",
      " [[ 7.66587555  8.66587555  6.66587555  3.66587555  1.66587555  5.66587555\n",
      "    2.66587555  1.66587555]\n",
      "  [ 7.99066757  8.99066757  6.99066757  3.99066757  1.99066757  5.99066757\n",
      "    2.99066757  1.99066757]\n",
      "  [ 7.49413349  8.49413349  6.49413349  3.49413349  1.49413349  5.49413349\n",
      "    2.49413349  1.49413349]\n",
      "  [ 7.14413403  8.14413403  6.14413403  3.14413403  1.14413403  5.14413403\n",
      "    2.14413403  1.14413403]\n",
      "  [ 7.33229855  8.33229855  6.33229855  3.33229855  1.33229855  5.33229855\n",
      "    2.33229855  1.33229855]]\n",
      "\n",
      " [[ 7.33310439  8.33310439  6.33310439  3.33310439  1.33310439  5.33310439\n",
      "    2.33310439  1.33310439]\n",
      "  [ 7.61988862  8.61988862  6.61988862  3.61988862  1.61988862  5.61988862\n",
      "    2.61988862  1.61988862]\n",
      "  [ 7.00255958  8.00255958  6.00255958  3.00255958  1.00255958  5.00255958\n",
      "    2.00255958  1.00255958]\n",
      "  [ 7.29052859  8.29052859  6.29052859  3.29052859  1.29052859  5.29052859\n",
      "    2.29052859  1.29052859]\n",
      "  [ 7.19892729  8.19892729  6.19892729  3.19892729  1.19892729  5.19892729\n",
      "    2.19892729  1.19892729]]]\n"
     ]
    }
   ],
   "source": [
    "print(z)"
   ]
  },
  {
   "cell_type": "markdown",
   "metadata": {},
   "source": [
    "### Algèbre matricielle\n",
    "\n",
    "Comment faire des multiplications de matrices ? Deux façons :\n",
    " \n",
    " * en utilisant les fonctions `dot`; (recommandé)\n",
    " * en utiliser le type `matrix`. (à éviter)\n"
   ]
  },
  {
   "cell_type": "code",
   "execution_count": 57,
   "metadata": {},
   "outputs": [
    {
     "name": "stdout",
     "output_type": "stream",
     "text": [
      "(5, 5) (5,)\n",
      "[[ 0  1  2  3  4]\n",
      " [10 11 12 13 14]\n",
      " [20 21 22 23 24]\n",
      " [30 31 32 33 34]\n",
      " [40 41 42 43 44]]\n",
      "[0 1 2 3 4]\n",
      "<class 'numpy.ndarray'> <class 'numpy.ndarray'>\n"
     ]
    }
   ],
   "source": [
    "A = np.array([[n + m * 10 for n in range(5)] for m in range(5)])\n",
    "v1 = np.arange(5)\n",
    "print(A.shape, v1.shape)\n",
    "print(A)\n",
    "print(v1)\n",
    "print(type(A), type(v1))"
   ]
  },
  {
   "cell_type": "code",
   "execution_count": 58,
   "metadata": {},
   "outputs": [
    {
     "name": "stdout",
     "output_type": "stream",
     "text": [
      "[[ 300  310  320  330  340]\n",
      " [1300 1360 1420 1480 1540]\n",
      " [2300 2410 2520 2630 2740]\n",
      " [3300 3460 3620 3780 3940]\n",
      " [4300 4510 4720 4930 5140]]\n",
      "[[   0    1    4    9   16]\n",
      " [ 100  121  144  169  196]\n",
      " [ 400  441  484  529  576]\n",
      " [ 900  961 1024 1089 1156]\n",
      " [1600 1681 1764 1849 1936]]\n"
     ]
    }
   ],
   "source": [
    "print(np.dot(A, A))  # multiplication matrice\n",
    "print(A * A)  # multiplication élément par élément"
   ]
  },
  {
   "cell_type": "code",
   "execution_count": 59,
   "metadata": {},
   "outputs": [
    {
     "data": {
      "text/plain": [
       "array([ 30, 130, 230, 330, 430])"
      ]
     },
     "execution_count": 59,
     "metadata": {},
     "output_type": "execute_result"
    }
   ],
   "source": [
    "A.dot(v1)"
   ]
  },
  {
   "cell_type": "code",
   "execution_count": 60,
   "metadata": {},
   "outputs": [
    {
     "data": {
      "text/plain": [
       "30"
      ]
     },
     "execution_count": 60,
     "metadata": {},
     "output_type": "execute_result"
    }
   ],
   "source": [
    "np.dot(v1, v1)"
   ]
  },
  {
   "cell_type": "markdown",
   "metadata": {},
   "source": [
    "Avec le type `matrix` de Numpy"
   ]
  },
  {
   "cell_type": "code",
   "execution_count": 121,
   "metadata": {},
   "outputs": [],
   "source": [
    "M = np.matrix(A)\n",
    "v = np.matrix(v1).T # en faire un vecteur colonne"
   ]
  },
  {
   "cell_type": "code",
   "execution_count": 122,
   "metadata": {},
   "outputs": [
    {
     "data": {
      "text/plain": [
       "matrix([[ 30],\n",
       "        [130],\n",
       "        [230],\n",
       "        [330],\n",
       "        [430]])"
      ]
     },
     "execution_count": 122,
     "metadata": {},
     "output_type": "execute_result"
    }
   ],
   "source": [
    "M * v"
   ]
  },
  {
   "cell_type": "code",
   "execution_count": 123,
   "metadata": {},
   "outputs": [
    {
     "data": {
      "text/plain": [
       "matrix([[30]])"
      ]
     },
     "execution_count": 123,
     "metadata": {},
     "output_type": "execute_result"
    }
   ],
   "source": [
    "# produit scalaire\n",
    "v.T * v"
   ]
  },
  {
   "cell_type": "code",
   "execution_count": 124,
   "metadata": {},
   "outputs": [
    {
     "data": {
      "text/plain": [
       "matrix([[ 30],\n",
       "        [131],\n",
       "        [232],\n",
       "        [333],\n",
       "        [434]])"
      ]
     },
     "execution_count": 124,
     "metadata": {},
     "output_type": "execute_result"
    }
   ],
   "source": [
    "# avec les objets matrices, c'est les opérations standards sur les matrices qui sont appliquées\n",
    "v + M * v"
   ]
  },
  {
   "cell_type": "markdown",
   "metadata": {},
   "source": [
    "Si les dimensions sont incompatibles on provoque des erreurs :"
   ]
  },
  {
   "cell_type": "code",
   "execution_count": 125,
   "metadata": {},
   "outputs": [],
   "source": [
    "v = np.matrix([1, 2, 3, 4, 5, 6]).T"
   ]
  },
  {
   "cell_type": "code",
   "execution_count": 126,
   "metadata": {},
   "outputs": [
    {
     "data": {
      "text/plain": [
       "((5, 5), (6, 1))"
      ]
     },
     "execution_count": 126,
     "metadata": {},
     "output_type": "execute_result"
    }
   ],
   "source": [
    "np.shape(M), np.shape(v)"
   ]
  },
  {
   "cell_type": "code",
   "execution_count": 127,
   "metadata": {},
   "outputs": [
    {
     "ename": "ValueError",
     "evalue": "shapes (5,5) and (6,1) not aligned: 5 (dim 1) != 6 (dim 0)",
     "output_type": "error",
     "traceback": [
      "\u001b[0;31m---------------------------------------------------------------------------\u001b[0m",
      "\u001b[0;31mValueError\u001b[0m                                Traceback (most recent call last)",
      "\u001b[0;32m<ipython-input-127-995fb48ad0cc>\u001b[0m in \u001b[0;36m<module>\u001b[0;34m()\u001b[0m\n\u001b[0;32m----> 1\u001b[0;31m \u001b[0mM\u001b[0m \u001b[0;34m*\u001b[0m \u001b[0mv\u001b[0m\u001b[0;34m\u001b[0m\u001b[0m\n\u001b[0m",
      "\u001b[0;32m/usr/local/lib/python2.7/dist-packages/numpy/matrixlib/defmatrix.pyc\u001b[0m in \u001b[0;36m__mul__\u001b[0;34m(self, other)\u001b[0m\n\u001b[1;32m    341\u001b[0m         \u001b[0;32mif\u001b[0m \u001b[0misinstance\u001b[0m\u001b[0;34m(\u001b[0m\u001b[0mother\u001b[0m\u001b[0;34m,\u001b[0m \u001b[0;34m(\u001b[0m\u001b[0mN\u001b[0m\u001b[0;34m.\u001b[0m\u001b[0mndarray\u001b[0m\u001b[0;34m,\u001b[0m \u001b[0mlist\u001b[0m\u001b[0;34m,\u001b[0m \u001b[0mtuple\u001b[0m\u001b[0;34m)\u001b[0m\u001b[0;34m)\u001b[0m \u001b[0;34m:\u001b[0m\u001b[0;34m\u001b[0m\u001b[0m\n\u001b[1;32m    342\u001b[0m             \u001b[0;31m# This promotes 1-D vectors to row vectors\u001b[0m\u001b[0;34m\u001b[0m\u001b[0;34m\u001b[0m\u001b[0m\n\u001b[0;32m--> 343\u001b[0;31m             \u001b[0;32mreturn\u001b[0m \u001b[0mN\u001b[0m\u001b[0;34m.\u001b[0m\u001b[0mdot\u001b[0m\u001b[0;34m(\u001b[0m\u001b[0mself\u001b[0m\u001b[0;34m,\u001b[0m \u001b[0masmatrix\u001b[0m\u001b[0;34m(\u001b[0m\u001b[0mother\u001b[0m\u001b[0;34m)\u001b[0m\u001b[0;34m)\u001b[0m\u001b[0;34m\u001b[0m\u001b[0m\n\u001b[0m\u001b[1;32m    344\u001b[0m         \u001b[0;32mif\u001b[0m \u001b[0misscalar\u001b[0m\u001b[0;34m(\u001b[0m\u001b[0mother\u001b[0m\u001b[0;34m)\u001b[0m \u001b[0;32mor\u001b[0m \u001b[0;32mnot\u001b[0m \u001b[0mhasattr\u001b[0m\u001b[0;34m(\u001b[0m\u001b[0mother\u001b[0m\u001b[0;34m,\u001b[0m \u001b[0;34m'__rmul__'\u001b[0m\u001b[0;34m)\u001b[0m \u001b[0;34m:\u001b[0m\u001b[0;34m\u001b[0m\u001b[0m\n\u001b[1;32m    345\u001b[0m             \u001b[0;32mreturn\u001b[0m \u001b[0mN\u001b[0m\u001b[0;34m.\u001b[0m\u001b[0mdot\u001b[0m\u001b[0;34m(\u001b[0m\u001b[0mself\u001b[0m\u001b[0;34m,\u001b[0m \u001b[0mother\u001b[0m\u001b[0;34m)\u001b[0m\u001b[0;34m\u001b[0m\u001b[0m\n",
      "\u001b[0;31mValueError\u001b[0m: shapes (5,5) and (6,1) not aligned: 5 (dim 1) != 6 (dim 0)"
     ]
    }
   ],
   "source": [
    "M * v"
   ]
  },
  {
   "cell_type": "markdown",
   "metadata": {},
   "source": [
    "Voir également les fonctions : `inner`, `outer`, `cross`, `kron`, `tensordot`. Utiliser par exemple `help(kron)`."
   ]
  },
  {
   "cell_type": "markdown",
   "metadata": {},
   "source": [
    "### Transformations d'*arrays* ou de matrices"
   ]
  },
  {
   "cell_type": "markdown",
   "metadata": {},
   "source": [
    " * Plus haut `.T` a été utilisé pour transposer l'objet matrice `v`\n",
    " * On peut aussi utiliser la fonction `transpose`\n",
    "\n",
    "**Autres transformations :**\n"
   ]
  },
  {
   "cell_type": "code",
   "execution_count": 61,
   "metadata": {},
   "outputs": [
    {
     "data": {
      "text/plain": [
       "array([[ 0.+1.j,  0.+2.j],\n",
       "       [ 0.+3.j,  0.+4.j]])"
      ]
     },
     "execution_count": 61,
     "metadata": {},
     "output_type": "execute_result"
    }
   ],
   "source": [
    "C = np.array([[1j, 2j], [3j, 4j]])\n",
    "C"
   ]
  },
  {
   "cell_type": "code",
   "execution_count": 62,
   "metadata": {},
   "outputs": [
    {
     "data": {
      "text/plain": [
       "array([[ 0.-1.j,  0.-2.j],\n",
       "       [ 0.-3.j,  0.-4.j]])"
      ]
     },
     "execution_count": 62,
     "metadata": {},
     "output_type": "execute_result"
    }
   ],
   "source": [
    "np.conjugate(C)"
   ]
  },
  {
   "cell_type": "markdown",
   "metadata": {},
   "source": [
    "Transposée conjuguée :"
   ]
  },
  {
   "cell_type": "code",
   "execution_count": 65,
   "metadata": {},
   "outputs": [
    {
     "data": {
      "text/plain": [
       "array([[ 0.-1.j,  0.-3.j],\n",
       "       [ 0.-2.j,  0.-4.j]])"
      ]
     },
     "execution_count": 65,
     "metadata": {},
     "output_type": "execute_result"
    }
   ],
   "source": [
    "C.T.conjugate()"
   ]
  },
  {
   "cell_type": "markdown",
   "metadata": {},
   "source": [
    "Parties réelles et imaginaires :"
   ]
  },
  {
   "cell_type": "code",
   "execution_count": 66,
   "metadata": {},
   "outputs": [
    {
     "data": {
      "text/plain": [
       "array([[ 0.,  0.],\n",
       "       [ 0.,  0.]])"
      ]
     },
     "execution_count": 66,
     "metadata": {},
     "output_type": "execute_result"
    }
   ],
   "source": [
    "np.real(C) # same as: C.real"
   ]
  },
  {
   "cell_type": "code",
   "execution_count": 67,
   "metadata": {},
   "outputs": [
    {
     "data": {
      "text/plain": [
       "array([[ 1.,  2.],\n",
       "       [ 3.,  4.]])"
      ]
     },
     "execution_count": 67,
     "metadata": {},
     "output_type": "execute_result"
    }
   ],
   "source": [
    "np.imag(C) # same as: C.imag"
   ]
  },
  {
   "cell_type": "markdown",
   "metadata": {},
   "source": [
    "Argument et module :"
   ]
  },
  {
   "cell_type": "code",
   "execution_count": 70,
   "metadata": {},
   "outputs": [
    {
     "data": {
      "text/plain": [
       "array([[ 45.        ,  63.43494882],\n",
       "       [ 71.56505118,  75.96375653]])"
      ]
     },
     "execution_count": 70,
     "metadata": {},
     "output_type": "execute_result"
    }
   ],
   "source": [
    "np.angle(C + 1, deg=True) "
   ]
  },
  {
   "cell_type": "code",
   "execution_count": 71,
   "metadata": {},
   "outputs": [
    {
     "data": {
      "text/plain": [
       "array([[ 1.,  2.],\n",
       "       [ 3.,  4.]])"
      ]
     },
     "execution_count": 71,
     "metadata": {},
     "output_type": "execute_result"
    }
   ],
   "source": [
    "np.abs(C)"
   ]
  },
  {
   "cell_type": "markdown",
   "metadata": {},
   "source": [
    "### Analyse de données\n",
    "\n",
    "Numpy propose des fonctions pour calculer certaines statistiques des données stockées dans des *arrays* :"
   ]
  },
  {
   "cell_type": "code",
   "execution_count": 73,
   "metadata": {},
   "outputs": [
    {
     "data": {
      "text/plain": [
       "array([[ 0,  1,  2,  3],\n",
       "       [ 4,  5,  6,  7],\n",
       "       [ 8,  9, 10, 11],\n",
       "       [ 9,  9,  9,  9],\n",
       "       [16, 17, 18, 19]])"
      ]
     },
     "execution_count": 73,
     "metadata": {},
     "output_type": "execute_result"
    }
   ],
   "source": [
    "data = np.arange(20).reshape((5, 4))\n",
    "data[3, :] = 9\n",
    "data"
   ]
  },
  {
   "cell_type": "markdown",
   "metadata": {},
   "source": [
    "#### mean"
   ]
  },
  {
   "cell_type": "code",
   "execution_count": 74,
   "metadata": {},
   "outputs": [
    {
     "name": "stdout",
     "output_type": "stream",
     "text": [
      "[ 7.4  8.2  9.   9.8]\n"
     ]
    }
   ],
   "source": [
    "# np.mean(data)\n",
    "print(np.mean(data, axis=0))"
   ]
  },
  {
   "cell_type": "code",
   "execution_count": 75,
   "metadata": {},
   "outputs": [
    {
     "data": {
      "text/plain": [
       "9.0"
      ]
     },
     "execution_count": 75,
     "metadata": {},
     "output_type": "execute_result"
    }
   ],
   "source": [
    "# la moyenne de la troisième colonne\n",
    "np.mean(data[:, 2])"
   ]
  },
  {
   "cell_type": "markdown",
   "metadata": {},
   "source": [
    "#### variance et écart type"
   ]
  },
  {
   "cell_type": "code",
   "execution_count": 76,
   "metadata": {},
   "outputs": [
    {
     "data": {
      "text/plain": [
       "(28.0, 5.2915026221291814)"
      ]
     },
     "execution_count": 76,
     "metadata": {},
     "output_type": "execute_result"
    }
   ],
   "source": [
    "np.var(data[:, 2]), np.std(data[:, 2])"
   ]
  },
  {
   "cell_type": "markdown",
   "metadata": {},
   "source": [
    "#### min et max"
   ]
  },
  {
   "cell_type": "code",
   "execution_count": 77,
   "metadata": {},
   "outputs": [
    {
     "data": {
      "text/plain": [
       "2"
      ]
     },
     "execution_count": 77,
     "metadata": {},
     "output_type": "execute_result"
    }
   ],
   "source": [
    "data[:, 2].min()"
   ]
  },
  {
   "cell_type": "code",
   "execution_count": 78,
   "metadata": {},
   "outputs": [
    {
     "data": {
      "text/plain": [
       "18"
      ]
     },
     "execution_count": 78,
     "metadata": {},
     "output_type": "execute_result"
    }
   ],
   "source": [
    "data[:, 2].max()"
   ]
  },
  {
   "cell_type": "code",
   "execution_count": 79,
   "metadata": {},
   "outputs": [
    {
     "data": {
      "text/plain": [
       "45"
      ]
     },
     "execution_count": 79,
     "metadata": {},
     "output_type": "execute_result"
    }
   ],
   "source": [
    "data[:, 2].sum()"
   ]
  },
  {
   "cell_type": "code",
   "execution_count": 80,
   "metadata": {},
   "outputs": [
    {
     "data": {
      "text/plain": [
       "19440"
      ]
     },
     "execution_count": 80,
     "metadata": {},
     "output_type": "execute_result"
    }
   ],
   "source": [
    "data[:, 2].prod()"
   ]
  },
  {
   "cell_type": "markdown",
   "metadata": {},
   "source": [
    "#### sum, prod, et trace"
   ]
  },
  {
   "cell_type": "code",
   "execution_count": 81,
   "metadata": {},
   "outputs": [
    {
     "data": {
      "text/plain": [
       "array([0, 1, 2, 3, 4, 5, 6, 7, 8, 9])"
      ]
     },
     "execution_count": 81,
     "metadata": {},
     "output_type": "execute_result"
    }
   ],
   "source": [
    "d = np.arange(0, 10)\n",
    "d"
   ]
  },
  {
   "cell_type": "markdown",
   "metadata": {},
   "source": [
    "Somme des éléments"
   ]
  },
  {
   "cell_type": "code",
   "execution_count": 82,
   "metadata": {},
   "outputs": [
    {
     "data": {
      "text/plain": [
       "45"
      ]
     },
     "execution_count": 82,
     "metadata": {},
     "output_type": "execute_result"
    }
   ],
   "source": [
    "np.sum(d)"
   ]
  },
  {
   "cell_type": "markdown",
   "metadata": {},
   "source": [
    "ou encore :"
   ]
  },
  {
   "cell_type": "code",
   "execution_count": 83,
   "metadata": {},
   "outputs": [
    {
     "data": {
      "text/plain": [
       "45"
      ]
     },
     "execution_count": 83,
     "metadata": {},
     "output_type": "execute_result"
    }
   ],
   "source": [
    "d.sum()"
   ]
  },
  {
   "cell_type": "raw",
   "metadata": {},
   "source": [
    "Produit des éléments"
   ]
  },
  {
   "cell_type": "code",
   "execution_count": 84,
   "metadata": {},
   "outputs": [
    {
     "data": {
      "text/plain": [
       "3628800"
      ]
     },
     "execution_count": 84,
     "metadata": {},
     "output_type": "execute_result"
    }
   ],
   "source": [
    "np.prod(d + 1)"
   ]
  },
  {
   "cell_type": "markdown",
   "metadata": {},
   "source": [
    "Somme cumulée"
   ]
  },
  {
   "cell_type": "code",
   "execution_count": 85,
   "metadata": {},
   "outputs": [
    {
     "data": {
      "text/plain": [
       "array([ 0,  1,  3,  6, 10, 15, 21, 28, 36, 45])"
      ]
     },
     "execution_count": 85,
     "metadata": {},
     "output_type": "execute_result"
    }
   ],
   "source": [
    "np.cumsum(d)"
   ]
  },
  {
   "cell_type": "markdown",
   "metadata": {},
   "source": [
    "Produit cumulé"
   ]
  },
  {
   "cell_type": "code",
   "execution_count": 86,
   "metadata": {},
   "outputs": [
    {
     "data": {
      "text/plain": [
       "array([      1,       2,       6,      24,     120,     720,    5040,\n",
       "         40320,  362880, 3628800])"
      ]
     },
     "execution_count": 86,
     "metadata": {},
     "output_type": "execute_result"
    }
   ],
   "source": [
    "np.cumprod(d + 1)"
   ]
  },
  {
   "cell_type": "markdown",
   "metadata": {},
   "source": [
    "Trace (équivalent à diag(A).sum())"
   ]
  },
  {
   "cell_type": "code",
   "execution_count": 87,
   "metadata": {},
   "outputs": [
    {
     "data": {
      "text/plain": [
       "24"
      ]
     },
     "execution_count": 87,
     "metadata": {},
     "output_type": "execute_result"
    }
   ],
   "source": [
    "np.trace(data)"
   ]
  },
  {
   "cell_type": "markdown",
   "metadata": {},
   "source": [
    "### Calculs aves données multi-dimensionnelles\n",
    "\n",
    "Pour appliquer `min`, `max`, etc., par lignes ou colonnes :"
   ]
  },
  {
   "cell_type": "code",
   "execution_count": 89,
   "metadata": {},
   "outputs": [
    {
     "data": {
      "text/plain": [
       "array([[ 0.48484123,  0.81399821,  0.97901995,  0.09190505],\n",
       "       [ 0.67772434,  0.66913512,  0.9561095 ,  0.33403664],\n",
       "       [ 0.2760254 ,  0.16747128,  0.33183524,  0.19031132]])"
      ]
     },
     "execution_count": 89,
     "metadata": {},
     "output_type": "execute_result"
    }
   ],
   "source": [
    "m = np.random.rand(3,4)\n",
    "m"
   ]
  },
  {
   "cell_type": "code",
   "execution_count": 90,
   "metadata": {},
   "outputs": [
    {
     "data": {
      "text/plain": [
       "0.97901994712000961"
      ]
     },
     "execution_count": 90,
     "metadata": {},
     "output_type": "execute_result"
    }
   ],
   "source": [
    "# max global \n",
    "m.max()"
   ]
  },
  {
   "cell_type": "code",
   "execution_count": 91,
   "metadata": {},
   "outputs": [
    {
     "data": {
      "text/plain": [
       "array([ 0.67772434,  0.81399821,  0.97901995,  0.33403664])"
      ]
     },
     "execution_count": 91,
     "metadata": {},
     "output_type": "execute_result"
    }
   ],
   "source": [
    "# max dans chaque colonne\n",
    "m.max(axis=0)"
   ]
  },
  {
   "cell_type": "code",
   "execution_count": 92,
   "metadata": {},
   "outputs": [
    {
     "data": {
      "text/plain": [
       "array([ 0.97901995,  0.9561095 ,  0.33183524])"
      ]
     },
     "execution_count": 92,
     "metadata": {},
     "output_type": "execute_result"
    }
   ],
   "source": [
    "# max dans chaque ligne\n",
    "m.max(axis=1)"
   ]
  },
  {
   "cell_type": "markdown",
   "metadata": {},
   "source": [
    "Plusieurs autres méthodes des classes `array` et `matrix` acceptent l'argument (optional) `axis` keyword argument."
   ]
  },
  {
   "cell_type": "markdown",
   "metadata": {},
   "source": [
    "### EXERCICE :\n",
    "\n",
    "Soustrayez de chaque colonne de `a` sa moyenne, puis faites de même avec les lignes"
   ]
  },
  {
   "cell_type": "code",
   "execution_count": 98,
   "metadata": {},
   "outputs": [],
   "source": [
    "a = np.random.rand(100, 10)"
   ]
  },
  {
   "cell_type": "code",
   "execution_count": 102,
   "metadata": {},
   "outputs": [
    {
     "name": "stdout",
     "output_type": "stream",
     "text": [
      "(100, 10)\n",
      "(100,)\n",
      "(100, 1)\n"
     ]
    }
   ],
   "source": [
    "b = a - np.mean(a, axis=0)\n",
    "print(b.shape)\n",
    "print(np.mean(b, axis=1).shape)\n",
    "print(np.mean(b, axis=1)[:,np.newaxis].shape)\n",
    "b = b - np.mean(b, axis=1)[:,np.newaxis]"
   ]
  },
  {
   "cell_type": "markdown",
   "metadata": {},
   "source": [
    "## Copy\n",
    "\n",
    "Pour des raisons de performance Python ne copie pas automatiquement les objets."
   ]
  },
  {
   "cell_type": "code",
   "execution_count": 103,
   "metadata": {},
   "outputs": [
    {
     "data": {
      "text/plain": [
       "array([[0, 2],\n",
       "       [3, 4]])"
      ]
     },
     "execution_count": 103,
     "metadata": {},
     "output_type": "execute_result"
    }
   ],
   "source": [
    "A = np.array([[0,  2], [ 3,  4]])\n",
    "A"
   ]
  },
  {
   "cell_type": "code",
   "execution_count": 104,
   "metadata": {},
   "outputs": [],
   "source": [
    "B = A"
   ]
  },
  {
   "cell_type": "code",
   "execution_count": 105,
   "metadata": {},
   "outputs": [
    {
     "data": {
      "text/plain": [
       "array([[10,  2],\n",
       "       [ 3,  4]])"
      ]
     },
     "execution_count": 105,
     "metadata": {},
     "output_type": "execute_result"
    }
   ],
   "source": [
    "# changer B affecte A\n",
    "B[0, 0] = 10\n",
    "B"
   ]
  },
  {
   "cell_type": "code",
   "execution_count": 106,
   "metadata": {},
   "outputs": [
    {
     "data": {
      "text/plain": [
       "array([[10,  2],\n",
       "       [ 3,  4]])"
      ]
     },
     "execution_count": 106,
     "metadata": {},
     "output_type": "execute_result"
    }
   ],
   "source": [
    "A"
   ]
  },
  {
   "cell_type": "code",
   "execution_count": 107,
   "metadata": {},
   "outputs": [
    {
     "name": "stdout",
     "output_type": "stream",
     "text": [
      "True\n"
     ]
    }
   ],
   "source": [
    "B = A\n",
    "print(B is A)"
   ]
  },
  {
   "cell_type": "markdown",
   "metadata": {},
   "source": [
    "On peut avoir accès à l'adresse mémoire de l'élément avec:"
   ]
  },
  {
   "cell_type": "code",
   "execution_count": 108,
   "metadata": {},
   "outputs": [
    {
     "name": "stdout",
     "output_type": "stream",
     "text": [
      "48989680\n",
      "48989680\n"
     ]
    }
   ],
   "source": [
    "print(A.__array_interface__['data'][0])\n",
    "print(B.__array_interface__['data'][0])"
   ]
  },
  {
   "cell_type": "markdown",
   "metadata": {},
   "source": [
    "Pour éviter ce comportement, on peut demander une *copie profonde* (*deep copy*) de `A` dans `B`"
   ]
  },
  {
   "cell_type": "code",
   "execution_count": 109,
   "metadata": {},
   "outputs": [],
   "source": [
    "# B = np.copy(A)\n",
    "B = A.copy()"
   ]
  },
  {
   "cell_type": "code",
   "execution_count": 110,
   "metadata": {},
   "outputs": [
    {
     "name": "stdout",
     "output_type": "stream",
     "text": [
      "[[-5  2]\n",
      " [ 3  4]]\n",
      "[[10  2]\n",
      " [ 3  4]]\n"
     ]
    }
   ],
   "source": [
    "# maintenant en modifiant B, A n'est plus affecté\n",
    "B[0, 0] = -5\n",
    "print(B)\n",
    "print(A)"
   ]
  },
  {
   "cell_type": "code",
   "execution_count": 111,
   "metadata": {},
   "outputs": [
    {
     "name": "stdout",
     "output_type": "stream",
     "text": [
      "48989680\n",
      "49325040\n"
     ]
    }
   ],
   "source": [
    "print(A.__array_interface__['data'][0])\n",
    "print(B.__array_interface__['data'][0])"
   ]
  },
  {
   "cell_type": "markdown",
   "metadata": {},
   "source": [
    "## Concaténer, répéter des *arrays*\n",
    "\n",
    "En utilisant les fonctions `repeat`, `tile`, `vstack`, `hstack`, et `concatenate`, on peut créer des vecteurs/matrices plus grandes à partir de vecteurs/matrices plus petites :\n"
   ]
  },
  {
   "cell_type": "markdown",
   "metadata": {},
   "source": [
    "#### repeat et tile"
   ]
  },
  {
   "cell_type": "code",
   "execution_count": 112,
   "metadata": {},
   "outputs": [
    {
     "data": {
      "text/plain": [
       "array([[1, 2],\n",
       "       [3, 4]])"
      ]
     },
     "execution_count": 112,
     "metadata": {},
     "output_type": "execute_result"
    }
   ],
   "source": [
    "a = np.array([[1, 2], [3, 4]])\n",
    "a"
   ]
  },
  {
   "cell_type": "code",
   "execution_count": 113,
   "metadata": {},
   "outputs": [
    {
     "data": {
      "text/plain": [
       "array([1, 1, 1, 2, 2, 2, 3, 3, 3, 4, 4, 4])"
      ]
     },
     "execution_count": 113,
     "metadata": {},
     "output_type": "execute_result"
    }
   ],
   "source": [
    "# répéter chaque élément 3 fois\n",
    "np.repeat(a, 3) # résultat 1-d"
   ]
  },
  {
   "cell_type": "code",
   "execution_count": 114,
   "metadata": {},
   "outputs": [
    {
     "data": {
      "text/plain": [
       "array([[1, 1, 1, 2, 2, 2],\n",
       "       [3, 3, 3, 4, 4, 4]])"
      ]
     },
     "execution_count": 114,
     "metadata": {},
     "output_type": "execute_result"
    }
   ],
   "source": [
    "# on peut spécifier l'argument axis\n",
    "np.repeat(a, 3, axis=1)"
   ]
  },
  {
   "cell_type": "markdown",
   "metadata": {},
   "source": [
    "Pour répéter la matrice, il faut utiliser `tile`"
   ]
  },
  {
   "cell_type": "code",
   "execution_count": 115,
   "metadata": {},
   "outputs": [
    {
     "data": {
      "text/plain": [
       "array([[1, 2, 1, 2, 1, 2],\n",
       "       [3, 4, 3, 4, 3, 4]])"
      ]
     },
     "execution_count": 115,
     "metadata": {},
     "output_type": "execute_result"
    }
   ],
   "source": [
    "# répéter la matrice 3 fois\n",
    "np.tile(a, 3)"
   ]
  },
  {
   "cell_type": "markdown",
   "metadata": {},
   "source": [
    "#### concatenate"
   ]
  },
  {
   "cell_type": "code",
   "execution_count": 116,
   "metadata": {},
   "outputs": [],
   "source": [
    "b = np.array([[5, 6]])"
   ]
  },
  {
   "cell_type": "code",
   "execution_count": 117,
   "metadata": {},
   "outputs": [
    {
     "data": {
      "text/plain": [
       "array([[1, 2],\n",
       "       [3, 4],\n",
       "       [5, 6]])"
      ]
     },
     "execution_count": 117,
     "metadata": {},
     "output_type": "execute_result"
    }
   ],
   "source": [
    "np.concatenate((a, b), axis=0)"
   ]
  },
  {
   "cell_type": "code",
   "execution_count": 118,
   "metadata": {},
   "outputs": [
    {
     "data": {
      "text/plain": [
       "array([[1, 2, 5],\n",
       "       [3, 4, 6]])"
      ]
     },
     "execution_count": 118,
     "metadata": {},
     "output_type": "execute_result"
    }
   ],
   "source": [
    "np.concatenate((a, b.T), axis=1)"
   ]
  },
  {
   "cell_type": "markdown",
   "metadata": {},
   "source": [
    "#### hstack et vstack"
   ]
  },
  {
   "cell_type": "code",
   "execution_count": 119,
   "metadata": {},
   "outputs": [
    {
     "data": {
      "text/plain": [
       "array([[1, 2],\n",
       "       [3, 4],\n",
       "       [5, 6]])"
      ]
     },
     "execution_count": 119,
     "metadata": {},
     "output_type": "execute_result"
    }
   ],
   "source": [
    "np.vstack((a, b))"
   ]
  },
  {
   "cell_type": "code",
   "execution_count": 120,
   "metadata": {},
   "outputs": [
    {
     "data": {
      "text/plain": [
       "array([[1, 2, 5],\n",
       "       [3, 4, 6]])"
      ]
     },
     "execution_count": 120,
     "metadata": {},
     "output_type": "execute_result"
    }
   ],
   "source": [
    "np.hstack((a, b.T))"
   ]
  },
  {
   "cell_type": "markdown",
   "metadata": {},
   "source": [
    "## Itérer sur les éléments d'un *array*\n",
    "\n",
    " * Dans la mesure du possible, il faut éviter l'itération sur les éléments d'un *array* : c'est beaucoup plus lent que les opérations vectorisées\n",
    " * Mais il arrive que l'on n'ait pas le choix..."
   ]
  },
  {
   "cell_type": "code",
   "execution_count": 121,
   "metadata": {},
   "outputs": [
    {
     "name": "stdout",
     "output_type": "stream",
     "text": [
      "0\n",
      "1\n",
      "2\n",
      "3\n"
     ]
    }
   ],
   "source": [
    "v = np.arange(4)\n",
    "\n",
    "for element in v:\n",
    "    print(element)"
   ]
  },
  {
   "cell_type": "code",
   "execution_count": 122,
   "metadata": {},
   "outputs": [
    {
     "name": "stdout",
     "output_type": "stream",
     "text": [
      "row [1 2]\n",
      "1\n",
      "2\n",
      "row [3 4]\n",
      "3\n",
      "4\n"
     ]
    }
   ],
   "source": [
    "M = np.array([[1, 2], [3, 4]])\n",
    "\n",
    "for row in M:\n",
    "    print(\"row\", row)\n",
    "    \n",
    "    for element in row:\n",
    "        print(element)"
   ]
  },
  {
   "cell_type": "markdown",
   "metadata": {},
   "source": [
    "Pour obtenir les indices des éléments sur lesquels on itère (par exemple, pour pouvoir les modifier en même temps) on peut utiliser `enumerate` :"
   ]
  },
  {
   "cell_type": "code",
   "execution_count": 123,
   "metadata": {},
   "outputs": [
    {
     "name": "stdout",
     "output_type": "stream",
     "text": [
      "row_idx 0 row [1 2]\n",
      "col_idx 0 element 1\n",
      "col_idx 1 element 2\n",
      "row_idx 1 row [3 4]\n",
      "col_idx 0 element 3\n",
      "col_idx 1 element 4\n"
     ]
    }
   ],
   "source": [
    "for row_idx, row in enumerate(M):\n",
    "    print(\"row_idx\", row_idx, \"row\", row)\n",
    "    \n",
    "    for col_idx, element in enumerate(row):\n",
    "        print(\"col_idx\", col_idx, \"element\", element)\n",
    "       \n",
    "        # update the matrix M: square each element\n",
    "        M[row_idx, col_idx] = element ** 2"
   ]
  },
  {
   "cell_type": "code",
   "execution_count": 124,
   "metadata": {},
   "outputs": [
    {
     "data": {
      "text/plain": [
       "array([[ 1,  4],\n",
       "       [ 9, 16]])"
      ]
     },
     "execution_count": 124,
     "metadata": {},
     "output_type": "execute_result"
    }
   ],
   "source": [
    "# chaque élément de M a maintenant été élevé au carré\n",
    "M"
   ]
  },
  {
   "cell_type": "markdown",
   "metadata": {},
   "source": [
    "## Utilisation d'*arrays* dans des conditions\n",
    "\n",
    "Losqu'on s'intéresse à des conditions sur tout on une partie d'un *array*, on peut utiliser `any` ou `all` :"
   ]
  },
  {
   "cell_type": "code",
   "execution_count": 125,
   "metadata": {},
   "outputs": [
    {
     "data": {
      "text/plain": [
       "array([[ 1,  4],\n",
       "       [ 9, 16]])"
      ]
     },
     "execution_count": 125,
     "metadata": {},
     "output_type": "execute_result"
    }
   ],
   "source": [
    "M"
   ]
  },
  {
   "cell_type": "code",
   "execution_count": 126,
   "metadata": {},
   "outputs": [
    {
     "name": "stdout",
     "output_type": "stream",
     "text": [
      "au moins un élément de M est plus grand que 5\n"
     ]
    }
   ],
   "source": [
    "if (M > 5).any():\n",
    "    print(\"au moins un élément de M est plus grand que 5\")\n",
    "else:\n",
    "    print(\"aucun élément de M n'est plus grand que 5\")"
   ]
  },
  {
   "cell_type": "code",
   "execution_count": 127,
   "metadata": {},
   "outputs": [
    {
     "name": "stdout",
     "output_type": "stream",
     "text": [
      "tous les éléments de M sont plus petits que 5\n"
     ]
    }
   ],
   "source": [
    "if (M > 5).all():\n",
    "    print(\"tous les éléments de M sont plus grands que 5\")\n",
    "else:\n",
    "    print(\"tous les éléments de M sont plus petits que 5\")"
   ]
  },
  {
   "cell_type": "markdown",
   "metadata": {},
   "source": [
    "## *Type casting*\n",
    "\n",
    "On peut créer une vue d'un autre type que l'original pour un *array*"
   ]
  },
  {
   "cell_type": "code",
   "execution_count": 129,
   "metadata": {},
   "outputs": [
    {
     "data": {
      "text/plain": [
       "dtype('int64')"
      ]
     },
     "execution_count": 129,
     "metadata": {},
     "output_type": "execute_result"
    }
   ],
   "source": [
    "M = np.array([[-1,2], [0,4]])\n",
    "M.dtype"
   ]
  },
  {
   "cell_type": "code",
   "execution_count": 130,
   "metadata": {},
   "outputs": [
    {
     "data": {
      "text/plain": [
       "array([[-1.,  2.],\n",
       "       [ 0.,  4.]])"
      ]
     },
     "execution_count": 130,
     "metadata": {},
     "output_type": "execute_result"
    }
   ],
   "source": [
    "M2 = M.astype(float)\n",
    "M2"
   ]
  },
  {
   "cell_type": "code",
   "execution_count": 131,
   "metadata": {},
   "outputs": [
    {
     "data": {
      "text/plain": [
       "dtype('float64')"
      ]
     },
     "execution_count": 131,
     "metadata": {},
     "output_type": "execute_result"
    }
   ],
   "source": [
    "M2.dtype"
   ]
  },
  {
   "cell_type": "code",
   "execution_count": 132,
   "metadata": {},
   "outputs": [
    {
     "data": {
      "text/plain": [
       "array([[ True,  True],\n",
       "       [False,  True]], dtype=bool)"
      ]
     },
     "execution_count": 132,
     "metadata": {},
     "output_type": "execute_result"
    }
   ],
   "source": [
    "M3 = M.astype(bool)\n",
    "M3"
   ]
  },
  {
   "cell_type": "markdown",
   "metadata": {},
   "source": []
  },
  {
   "cell_type": "markdown",
   "metadata": {},
   "source": [
    "## Pour aller plus loin\n",
    "\n",
    "* http://numpy.scipy.org\n",
    "* http://scipy.org/Tentative_NumPy_Tutorial\n",
    "* http://scipy.org/NumPy_for_Matlab_Users - Un guide pour les utilisateurs de MATLAB."
   ]
  }
 ],
 "metadata": {
  "kernelspec": {
   "display_name": "hypnogram",
   "language": "python",
   "name": "hypnogram"
  },
  "language_info": {
   "codemirror_mode": {
    "name": "ipython",
    "version": 3
   },
   "file_extension": ".py",
   "mimetype": "text/x-python",
   "name": "python",
   "nbconvert_exporter": "python",
   "pygments_lexer": "ipython3",
   "version": "3.5.2"
  }
 },
 "nbformat": 4,
 "nbformat_minor": 1
}
