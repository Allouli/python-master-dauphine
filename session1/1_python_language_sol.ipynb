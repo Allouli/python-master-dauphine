{
 "cells": [
  {
   "cell_type": "markdown",
   "metadata": {},
   "source": [
    "# Introduction au language python"
   ]
  },
  {
   "cell_type": "markdown",
   "metadata": {
    "collapsed": true
   },
   "source": [
    "Dans cette section, nous allons:\n",
    "* Découvrir l'environnement de développement en Python pour le calcul scientifique\n",
    "* Se familiariser avec le language Python\n",
    "\n",
    "Cette section est adaptée des Scipy lecture notes [\"Getting started with Python for science\"](http://www.scipy-lectures.org/intro)"
   ]
  },
  {
   "cell_type": "markdown",
   "metadata": {},
   "source": [
    "## L'environnement de développement en Python pour la programmation scientifique\n",
    "\n",
    "### Les modules Python pour la programmation scientifique\n",
    "\n",
    "Pour obtenir un environnement de programmation scientifique, Python peut être combiné avec les modules de base suivants:  \n",
    "* [Numpy](http://www.numpy.org/): permet la définition et la manipulation de tableaux N-dimensionnel.  \n",
    "* [Scipy](http://www.scipy.org/): contient des routines haut niveau de traitement de données (optmisation, regression, interpolation, ...). \n",
    "* [Matplotlib](http://matplotlib.org/): contient des outils de visualisation.  \n",
    "\n",
    "De nombreux autres modules sont disponibles en fonction des besoins, tels que [Pandas](http://pandas.pydata.org/) pour l'analyse de données, [scikit-learn](http://scikit-learn.org/stable/) ou [keras](https://keras.io/) pour le machine learning, [pytest](https://docs.pytest.org/en/latest/) pour les tests, ... \n",
    "\n",
    "\n",
    "### Comment préparer votre environnement de travail Python?\n",
    "\n",
    "[Anaconda](https://www.continuum.io/downloads) est une distribution Python qui inclut de nombreux packages python pour la programmation scientifique. C'est une façon pratique pour installer et mettre en place son environnement de travail sous n'importe quel système d'exploitation.  \n",
    "Les [packages](http://conda.pydata.org/docs/using/pkgs.html) et les [environnements](http://conda.pydata.org/docs/using/envs.html) peuvent être gérés avec la commande `conda` (`conda --help` et `conda env --help`). \n",
    "  \n",
    "Une autre solution est: \n",
    "1. installer Python, puis les packages nécessaires pour gérer les packages python ([Setuptools](https://pythonhosted.org/setuptools/) et [pip](https://pip.pypa.io/en/stable/)).  \n",
    "[Lien](http://docs.python-guide.org/en/latest/starting/installation/) sur comment faire une installation propre de Python en fonction de son système d'exploitation.\n",
    "2. de gérer ses environnement virtuels avec [virtualenv](https://virtualenv.pypa.io/en/latest/) et [virtualenvwrapper](http://virtualenvwrapper.readthedocs.io/en/latest/). \n",
    "\n",
    "\n",
    "La plupart des **éditeurs de texte** pour la programmation fournissent au moins un support rudimentaire pour Python. Deux options populaires sont [sublime](https://realpython.com/blog/python/setting-up-sublime-text-3-for-full-stack-python-development/) et [vim](https://realpython.com/blog/python/vim-and-python-a-match-made-in-heaven/).\n",
    "\n",
    "Avec Anaconda est fourni [Spyder](https://github.com/spyder-ide/spyder), qui est une environnement de développement intéractif puissant, incluant notamment un éditeur mais aussi une console.\n",
    "\n",
    "### Comment exécuter du code?\n",
    "\n",
    "1. Python  \n",
    "`$ python script.py`\n",
    "\n",
    "2. IPython: shell interactif   \n",
    "`$ ipython`  \n",
    "REPL model. Très pratique pour tester des algorithmes, explorer des données,... [Documentation ici](http://ipython.readthedocs.io/en/stable/).  \n",
    "\n",
    "3. Jupyter notebook  \n",
    "Application web qui permet de créer des documents contenant du code, du texte, et des visualisations.  \n",
    "Utilise le kernel IPython. [Documentation ici](http://jupyter-notebook.readthedocs.io/en/latest/)   \n",
    "Note: [lien utile](http://help.pythonanywhere.com/pages/IPythonNotebookVirtualenvs) pour utiliser Jupyter notebook dans un environnement virtuel.\n",
    "\n",
    "### Quelques astuces pour l'utilisation de IPython"
   ]
  },
  {
   "cell_type": "code",
   "execution_count": 15,
   "metadata": {},
   "outputs": [],
   "source": [
    "#  donne une overview des fonctionnalités IPython\n",
    "?"
   ]
  },
  {
   "cell_type": "code",
   "execution_count": 16,
   "metadata": {},
   "outputs": [
    {
     "name": "stdout",
     "output_type": "stream",
     "text": [
      "1_python_language_sol.ipynb\r\n"
     ]
    }
   ],
   "source": [
    "!ls"
   ]
  },
  {
   "cell_type": "code",
   "execution_count": 17,
   "metadata": {},
   "outputs": [],
   "source": [
    "# quick reference\n",
    "%quickref"
   ]
  },
  {
   "cell_type": "code",
   "execution_count": 18,
   "metadata": {},
   "outputs": [
    {
     "name": "stdout",
     "output_type": "stream",
     "text": [
      "Help on built-in function sum in module builtins:\n",
      "\n",
      "sum(iterable, start=0, /)\n",
      "    Return the sum of a 'start' value (default: 0) plus an iterable of numbers\n",
      "    \n",
      "    When the iterable is empty, return the start value.\n",
      "    This function is intended specifically for use with numeric values and may\n",
      "    reject non-numeric types.\n",
      "\n"
     ]
    }
   ],
   "source": [
    "# aide Python\n",
    "help(sum)"
   ]
  },
  {
   "cell_type": "code",
   "execution_count": 19,
   "metadata": {},
   "outputs": [],
   "source": [
    "# Détails sur l'object sum\n",
    "sum?"
   ]
  },
  {
   "cell_type": "code",
   "execution_count": 20,
   "metadata": {},
   "outputs": [],
   "source": [
    "x = 5\n",
    "x?"
   ]
  },
  {
   "cell_type": "markdown",
   "metadata": {},
   "source": [
    "IPython a un ensemble de \"fonctions magiques\":\n",
    "* \"Line magics\" qui ont pour préfixe le signe % et reçoivent comme argument le reste de la ligne\n",
    "* \"Cell magics\" qui ont pour préfixe le signe %% et reçoivent comme argument la cellule.\n",
    "\n",
    "Les \"magics\" incluent:\n",
    "* des fonctions en relation avec du code: `%run`, `%debug`, `%load_ext`, ...  \n",
    "* des fonctions qui affectent le shell: `%colors`, `%automagic`, `%matplotlib inline`, ...  \n",
    "* d'autres fonctions telles que `%reset`, `%timeit`, `%%writefile`, `%paste`, `%whos`, `%hist`, ...\n"
   ]
  },
  {
   "cell_type": "code",
   "execution_count": 21,
   "metadata": {},
   "outputs": [
    {
     "name": "stdout",
     "output_type": "stream",
     "text": [
      "Variable   Type    Data/Info\n",
      "----------------------------\n",
      "x          int     5\n"
     ]
    }
   ],
   "source": [
    "%whos"
   ]
  },
  {
   "cell_type": "code",
   "execution_count": 22,
   "metadata": {},
   "outputs": [
    {
     "name": "stdout",
     "output_type": "stream",
     "text": [
      "11.5 ns ± 0.232 ns per loop (mean ± std. dev. of 7 runs, 100000000 loops each)\n"
     ]
    }
   ],
   "source": [
    "%timeit 10 + 11"
   ]
  },
  {
   "cell_type": "markdown",
   "metadata": {
    "collapsed": true
   },
   "source": [
    "## Les bases du langage Python"
   ]
  },
  {
   "cell_type": "code",
   "execution_count": 23,
   "metadata": {},
   "outputs": [
    {
     "name": "stdout",
     "output_type": "stream",
     "text": [
      "The Zen of Python, by Tim Peters\n",
      "\n",
      "Beautiful is better than ugly.\n",
      "Explicit is better than implicit.\n",
      "Simple is better than complex.\n",
      "Complex is better than complicated.\n",
      "Flat is better than nested.\n",
      "Sparse is better than dense.\n",
      "Readability counts.\n",
      "Special cases aren't special enough to break the rules.\n",
      "Although practicality beats purity.\n",
      "Errors should never pass silently.\n",
      "Unless explicitly silenced.\n",
      "In the face of ambiguity, refuse the temptation to guess.\n",
      "There should be one-- and preferably only one --obvious way to do it.\n",
      "Although that way may not be obvious at first unless you're Dutch.\n",
      "Now is better than never.\n",
      "Although never is often better than *right* now.\n",
      "If the implementation is hard to explain, it's a bad idea.\n",
      "If the implementation is easy to explain, it may be a good idea.\n",
      "Namespaces are one honking great idea -- let's do more of those!\n"
     ]
    }
   ],
   "source": [
    "import this"
   ]
  },
  {
   "cell_type": "markdown",
   "metadata": {},
   "source": [
    "### Les types de bases\n",
    "\n",
    "#### 1. Les types numériques"
   ]
  },
  {
   "cell_type": "code",
   "execution_count": 24,
   "metadata": {},
   "outputs": [
    {
     "data": {
      "text/plain": [
       "int"
      ]
     },
     "execution_count": 24,
     "metadata": {},
     "output_type": "execute_result"
    }
   ],
   "source": [
    "a = 4\n",
    "type(a)"
   ]
  },
  {
   "cell_type": "code",
   "execution_count": 25,
   "metadata": {},
   "outputs": [
    {
     "data": {
      "text/plain": [
       "float"
      ]
     },
     "execution_count": 25,
     "metadata": {},
     "output_type": "execute_result"
    }
   ],
   "source": [
    "b = 4.6\n",
    "type(b)"
   ]
  },
  {
   "cell_type": "code",
   "execution_count": 26,
   "metadata": {},
   "outputs": [
    {
     "name": "stdout",
     "output_type": "stream",
     "text": [
      "2.2\n",
      "0.8\n"
     ]
    },
    {
     "data": {
      "text/plain": [
       "complex"
      ]
     },
     "execution_count": 26,
     "metadata": {},
     "output_type": "execute_result"
    }
   ],
   "source": [
    "c = 2.2 + 0.8j\n",
    "print(c.real)\n",
    "print(c.imag)\n",
    "type(c)"
   ]
  },
  {
   "cell_type": "code",
   "execution_count": 27,
   "metadata": {},
   "outputs": [
    {
     "data": {
      "text/plain": [
       "bool"
      ]
     },
     "execution_count": 27,
     "metadata": {},
     "output_type": "execute_result"
    }
   ],
   "source": [
    "d = 4 > 6\n",
    "type(d)"
   ]
  },
  {
   "cell_type": "markdown",
   "metadata": {},
   "source": [
    "Les opérations arithmétiques de base `+`, `-`, `*`, `/`, `%` (modulo) sont implémentées nativement.  "
   ]
  },
  {
   "cell_type": "code",
   "execution_count": 28,
   "metadata": {},
   "outputs": [
    {
     "name": "stdout",
     "output_type": "stream",
     "text": [
      "96\n",
      "1024\n",
      "2\n"
     ]
    }
   ],
   "source": [
    "print(24 * 4)\n",
    "print(2**10)\n",
    "print(12 % 5)"
   ]
  },
  {
   "cell_type": "markdown",
   "metadata": {},
   "source": [
    "**Attention à la division d'entier!**\n",
    "\n",
    "En Python 2:\n",
    "\n",
    "```\n",
    "In: 11 / 2\n",
    "Out: 5\n",
    "```\n",
    "Par contre, en python 3, on obtient 5.5... Pour être tranquille, il vaut mieux utiliser des floats\n",
    "```\n",
    "In: 11 / 2.\n",
    "Out: 5.5\n",
    "```\n",
    "Pour toujours obenir le comportement de Python 3:\n",
    "```\n",
    "In: from __future__ import division\n",
    "    11 / 2\n",
    "Out: 5.5\n",
    "```"
   ]
  },
  {
   "cell_type": "markdown",
   "metadata": {},
   "source": [
    "La division d'entier est obtenue avec `//`"
   ]
  },
  {
   "cell_type": "code",
   "execution_count": 29,
   "metadata": {},
   "outputs": [
    {
     "data": {
      "text/plain": [
       "5"
      ]
     },
     "execution_count": 29,
     "metadata": {},
     "output_type": "execute_result"
    }
   ],
   "source": [
    "11 // 2"
   ]
  },
  {
   "cell_type": "markdown",
   "metadata": {},
   "source": [
    "#### 2. Les containeurs\n",
    "\n",
    "**Attention l'indexage commence à 0**  \n",
    "\n",
    "##### 2.2 Les listes"
   ]
  },
  {
   "cell_type": "code",
   "execution_count": 30,
   "metadata": {},
   "outputs": [
    {
     "data": {
      "text/plain": [
       "list"
      ]
     },
     "execution_count": 30,
     "metadata": {},
     "output_type": "execute_result"
    }
   ],
   "source": [
    "semaine = ['lundi', 'mardi', 'mercredi', 'jeudi', 'vendredi']\n",
    "type(semaine)"
   ]
  },
  {
   "cell_type": "code",
   "execution_count": 31,
   "metadata": {},
   "outputs": [
    {
     "data": {
      "text/plain": [
       "'lundi'"
      ]
     },
     "execution_count": 31,
     "metadata": {},
     "output_type": "execute_result"
    }
   ],
   "source": [
    "semaine[0]"
   ]
  },
  {
   "cell_type": "code",
   "execution_count": 32,
   "metadata": {},
   "outputs": [
    {
     "data": {
      "text/plain": [
       "'vendredi'"
      ]
     },
     "execution_count": 32,
     "metadata": {},
     "output_type": "execute_result"
    }
   ],
   "source": [
    "semaine[-1]"
   ]
  },
  {
   "cell_type": "code",
   "execution_count": 33,
   "metadata": {},
   "outputs": [
    {
     "data": {
      "text/plain": [
       "'mercredi'"
      ]
     },
     "execution_count": 33,
     "metadata": {},
     "output_type": "execute_result"
    }
   ],
   "source": [
    "semaine[2]"
   ]
  },
  {
   "cell_type": "markdown",
   "metadata": {},
   "source": [
    "Slicing fait référence à la syntaxe `semaine[start:stop:stride]` (tous les paramètres du slicing sont optionnels), cela permet d'extraire une partie de la liste"
   ]
  },
  {
   "cell_type": "code",
   "execution_count": 34,
   "metadata": {},
   "outputs": [
    {
     "data": {
      "text/plain": [
       "['mardi', 'mercredi', 'jeudi', 'vendredi']"
      ]
     },
     "execution_count": 34,
     "metadata": {},
     "output_type": "execute_result"
    }
   ],
   "source": [
    "semaine[1:5]"
   ]
  },
  {
   "cell_type": "code",
   "execution_count": 35,
   "metadata": {},
   "outputs": [
    {
     "data": {
      "text/plain": [
       "['lundi', 'mercredi', 'vendredi']"
      ]
     },
     "execution_count": 35,
     "metadata": {},
     "output_type": "execute_result"
    }
   ],
   "source": [
    "semaine[::2]"
   ]
  },
  {
   "cell_type": "code",
   "execution_count": 36,
   "metadata": {},
   "outputs": [
    {
     "data": {
      "text/plain": [
       "['vendredi', 'jeudi', 'mercredi', 'mardi', 'lundi']"
      ]
     },
     "execution_count": 36,
     "metadata": {},
     "output_type": "execute_result"
    }
   ],
   "source": [
    "semaine[::-1]"
   ]
  },
  {
   "cell_type": "markdown",
   "metadata": {},
   "source": [
    "Les éléments d'une liste peuvent avoir des types différents."
   ]
  },
  {
   "cell_type": "code",
   "execution_count": 37,
   "metadata": {},
   "outputs": [],
   "source": [
    "jour = ['samedi', '23']"
   ]
  },
  {
   "cell_type": "markdown",
   "metadata": {},
   "source": [
    "Pour ajouter ou enlever des éléments d'une liste:"
   ]
  },
  {
   "cell_type": "code",
   "execution_count": 38,
   "metadata": {},
   "outputs": [
    {
     "name": "stdout",
     "output_type": "stream",
     "text": [
      "['lundi', 'mardi', 'mercredi', 'jeudi', 'vendredi', 'samedi']\n"
     ]
    }
   ],
   "source": [
    "semaine.append('samedi')\n",
    "print(semaine)"
   ]
  },
  {
   "cell_type": "code",
   "execution_count": 39,
   "metadata": {},
   "outputs": [
    {
     "name": "stdout",
     "output_type": "stream",
     "text": [
      "['lundi', 'mardi', 'mercredi', 'jeudi', 'vendredi']\n"
     ]
    }
   ],
   "source": [
    "semaine.pop() \n",
    "print(semaine)"
   ]
  },
  {
   "cell_type": "code",
   "execution_count": 40,
   "metadata": {},
   "outputs": [
    {
     "name": "stdout",
     "output_type": "stream",
     "text": [
      "['lundi', 'mardi', 'mercredi', 'jeudi', 'vendredi', 'samedi', 'dimanche']\n"
     ]
    }
   ],
   "source": [
    "semaine.extend(['samedi', 'dimanche'])\n",
    "print(semaine)"
   ]
  },
  {
   "cell_type": "code",
   "execution_count": 41,
   "metadata": {},
   "outputs": [
    {
     "name": "stdout",
     "output_type": "stream",
     "text": [
      "['mercredi', 'jeudi', 'vendredi', 'samedi', 'dimanche']\n"
     ]
    }
   ],
   "source": [
    "semaine = semaine[2::]\n",
    "print(semaine)"
   ]
  },
  {
   "cell_type": "markdown",
   "metadata": {},
   "source": [
    "Pour concaténer et répéter une liste:"
   ]
  },
  {
   "cell_type": "code",
   "execution_count": 42,
   "metadata": {},
   "outputs": [
    {
     "data": {
      "text/plain": [
       "['mercredi', 'jeudi', 'vendredi', 'samedi', 'dimanche', 'samedi', '23']"
      ]
     },
     "execution_count": 42,
     "metadata": {},
     "output_type": "execute_result"
    }
   ],
   "source": [
    "semaine + jour"
   ]
  },
  {
   "cell_type": "code",
   "execution_count": 43,
   "metadata": {},
   "outputs": [
    {
     "data": {
      "text/plain": [
       "['samedi', '23', 'samedi', '23']"
      ]
     },
     "execution_count": 43,
     "metadata": {},
     "output_type": "execute_result"
    }
   ],
   "source": [
    "jour * 2"
   ]
  },
  {
   "cell_type": "markdown",
   "metadata": {},
   "source": [
    "Pour trier:"
   ]
  },
  {
   "cell_type": "code",
   "execution_count": 44,
   "metadata": {},
   "outputs": [
    {
     "data": {
      "text/plain": [
       "['dimanche', 'jeudi', 'mercredi', 'samedi', 'vendredi']"
      ]
     },
     "execution_count": 44,
     "metadata": {},
     "output_type": "execute_result"
    }
   ],
   "source": [
    "sorted(semaine)"
   ]
  },
  {
   "cell_type": "code",
   "execution_count": 45,
   "metadata": {},
   "outputs": [
    {
     "name": "stdout",
     "output_type": "stream",
     "text": [
      "['mercredi', 'jeudi', 'vendredi', 'samedi', 'dimanche']\n",
      "['dimanche', 'jeudi', 'mercredi', 'samedi', 'vendredi']\n"
     ]
    }
   ],
   "source": [
    "print(semaine)\n",
    "semaine.sort()\n",
    "print(semaine)"
   ]
  },
  {
   "cell_type": "markdown",
   "metadata": {},
   "source": [
    "La notation semaine.method() (`comme semaine.append()`, `semaine.sort()`) est un exemple de la programmation orientée objet. Comme `semaine` est une `list`, elle a la méthode `xxx` appelée avec la notation `.`.\n",
    "\n",
    "Pour découvrir les méthodes disponibles, on peut utiliser la tab-completion:"
   ]
  },
  {
   "cell_type": "code",
   "execution_count": 46,
   "metadata": {},
   "outputs": [
    {
     "ename": "SyntaxError",
     "evalue": "invalid syntax (<ipython-input-46-0387e9d0306b>, line 1)",
     "output_type": "error",
     "traceback": [
      "\u001b[0;36m  File \u001b[0;32m\"<ipython-input-46-0387e9d0306b>\"\u001b[0;36m, line \u001b[0;32m1\u001b[0m\n\u001b[0;31m    semaine.\u001b[0m\n\u001b[0m            ^\u001b[0m\n\u001b[0;31mSyntaxError\u001b[0m\u001b[0;31m:\u001b[0m invalid syntax\n"
     ]
    }
   ],
   "source": [
    "semaine."
   ]
  },
  {
   "cell_type": "markdown",
   "metadata": {},
   "source": [
    "##### 2.2 Les strings"
   ]
  },
  {
   "cell_type": "code",
   "execution_count": 47,
   "metadata": {},
   "outputs": [
    {
     "name": "stdout",
     "output_type": "stream",
     "text": [
      "Hello, how are you?\n",
      "Hi, what's up\n",
      "Hello,                 \n",
      "       how are you\n",
      "Hi,\n",
      "what's up?\n"
     ]
    }
   ],
   "source": [
    "s = 'Hello, how are you?'\n",
    "print(s)\n",
    "s = \"Hi, what's up\"\n",
    "print(s)\n",
    "s = '''Hello,                 \n",
    "       how are you'''\n",
    "print(s)\n",
    "s = \"\"\"Hi,\n",
    "what's up?\"\"\"\n",
    "print(s)"
   ]
  },
  {
   "cell_type": "code",
   "execution_count": 48,
   "metadata": {},
   "outputs": [
    {
     "data": {
      "text/plain": [
       "'H'"
      ]
     },
     "execution_count": 48,
     "metadata": {},
     "output_type": "execute_result"
    }
   ],
   "source": [
    "s[0]"
   ]
  },
  {
   "cell_type": "code",
   "execution_count": 49,
   "metadata": {},
   "outputs": [
    {
     "data": {
      "text/plain": [
       "\"H,wa' p\""
      ]
     },
     "execution_count": 49,
     "metadata": {},
     "output_type": "execute_result"
    }
   ],
   "source": [
    "s[0::2]"
   ]
  },
  {
   "cell_type": "markdown",
   "metadata": {},
   "source": [
    "Un string est un object immutable."
   ]
  },
  {
   "cell_type": "code",
   "execution_count": 50,
   "metadata": {},
   "outputs": [
    {
     "ename": "TypeError",
     "evalue": "'str' object does not support item assignment",
     "output_type": "error",
     "traceback": [
      "\u001b[0;31m---------------------------------------------------------------------------\u001b[0m",
      "\u001b[0;31mTypeError\u001b[0m                                 Traceback (most recent call last)",
      "\u001b[0;32m<ipython-input-50-b2b520b7f3f5>\u001b[0m in \u001b[0;36m<module>\u001b[0;34m()\u001b[0m\n\u001b[1;32m      1\u001b[0m \u001b[0ms\u001b[0m \u001b[0;34m=\u001b[0m \u001b[0;34m\"hello Babar\"\u001b[0m\u001b[0;34m\u001b[0m\u001b[0m\n\u001b[0;32m----> 2\u001b[0;31m \u001b[0ms\u001b[0m\u001b[0;34m[\u001b[0m\u001b[0;36m1\u001b[0m\u001b[0;34m]\u001b[0m \u001b[0;34m=\u001b[0m \u001b[0;34m'a'\u001b[0m\u001b[0;34m\u001b[0m\u001b[0m\n\u001b[0m",
      "\u001b[0;31mTypeError\u001b[0m: 'str' object does not support item assignment"
     ]
    }
   ],
   "source": [
    "s = \"hello Babar\"\n",
    "s[1] = 'a'"
   ]
  },
  {
   "cell_type": "code",
   "execution_count": 51,
   "metadata": {},
   "outputs": [
    {
     "name": "stdout",
     "output_type": "stream",
     "text": [
      "hallo Babar\n"
     ]
    }
   ],
   "source": [
    "s = s.replace('e', 'a', 1)\n",
    "print(s)"
   ]
  },
  {
   "cell_type": "code",
   "execution_count": 52,
   "metadata": {},
   "outputs": [
    {
     "name": "stdout",
     "output_type": "stream",
     "text": [
      "hollo Bobor\n"
     ]
    }
   ],
   "source": [
    "s = s.replace('a', 'o')\n",
    "print(s)"
   ]
  },
  {
   "cell_type": "markdown",
   "metadata": {},
   "source": [
    "Formattage des strings:"
   ]
  },
  {
   "cell_type": "code",
   "execution_count": 53,
   "metadata": {},
   "outputs": [
    {
     "data": {
      "text/plain": [
       "'An integer: 1; a float: 0.100000; another string: string'"
      ]
     },
     "execution_count": 53,
     "metadata": {},
     "output_type": "execute_result"
    }
   ],
   "source": [
    "'An integer: %i; a float: %f; another string: %s' % (1, 0.1, 'string')"
   ]
  },
  {
   "cell_type": "code",
   "execution_count": 59,
   "metadata": {},
   "outputs": [
    {
     "data": {
      "text/plain": [
       "'An integer: 1; a float:      0.100; another string: string'"
      ]
     },
     "execution_count": 59,
     "metadata": {},
     "output_type": "execute_result"
    }
   ],
   "source": [
    "'An integer: %i; a float: %10.3f; another string: %s' % (1, 0.1, 'string')"
   ]
  },
  {
   "cell_type": "markdown",
   "metadata": {},
   "source": [
    "##### 2.3 Les dictionnaires"
   ]
  },
  {
   "cell_type": "code",
   "execution_count": 60,
   "metadata": {},
   "outputs": [],
   "source": [
    "dd = {'jour': 19, 'mois': 'Octobre'}"
   ]
  },
  {
   "cell_type": "code",
   "execution_count": 61,
   "metadata": {},
   "outputs": [],
   "source": [
    "dd['annees'] = [2017, 2018]"
   ]
  },
  {
   "cell_type": "code",
   "execution_count": 62,
   "metadata": {},
   "outputs": [
    {
     "data": {
      "text/plain": [
       "{'annees': [2017, 2018], 'jour': 19, 'mois': 'Octobre'}"
      ]
     },
     "execution_count": 62,
     "metadata": {},
     "output_type": "execute_result"
    }
   ],
   "source": [
    "dd"
   ]
  },
  {
   "cell_type": "code",
   "execution_count": 63,
   "metadata": {},
   "outputs": [
    {
     "data": {
      "text/plain": [
       "dict_keys(['mois', 'annees', 'jour'])"
      ]
     },
     "execution_count": 63,
     "metadata": {},
     "output_type": "execute_result"
    }
   ],
   "source": [
    "dd.keys()"
   ]
  },
  {
   "cell_type": "code",
   "execution_count": 64,
   "metadata": {},
   "outputs": [
    {
     "data": {
      "text/plain": [
       "dict_values(['Octobre', [2017, 2018], 19])"
      ]
     },
     "execution_count": 64,
     "metadata": {},
     "output_type": "execute_result"
    }
   ],
   "source": [
    "dd.values()"
   ]
  },
  {
   "cell_type": "code",
   "execution_count": 65,
   "metadata": {},
   "outputs": [
    {
     "data": {
      "text/plain": [
       "dict_items([('mois', 'Octobre'), ('annees', [2017, 2018]), ('jour', 19)])"
      ]
     },
     "execution_count": 65,
     "metadata": {},
     "output_type": "execute_result"
    }
   ],
   "source": [
    "dd.items()"
   ]
  },
  {
   "cell_type": "markdown",
   "metadata": {},
   "source": [
    "##### 2.4 Les tuples\n",
    "\n",
    "Les tuples sont des listes immutables."
   ]
  },
  {
   "cell_type": "code",
   "execution_count": 66,
   "metadata": {},
   "outputs": [],
   "source": [
    "t = 'blabla', 2, 'blibli'"
   ]
  },
  {
   "cell_type": "code",
   "execution_count": 67,
   "metadata": {},
   "outputs": [
    {
     "data": {
      "text/plain": [
       "('blabla', 2, 'blibli')"
      ]
     },
     "execution_count": 67,
     "metadata": {},
     "output_type": "execute_result"
    }
   ],
   "source": [
    "t"
   ]
  },
  {
   "cell_type": "code",
   "execution_count": 68,
   "metadata": {},
   "outputs": [
    {
     "data": {
      "text/plain": [
       "'blabla'"
      ]
     },
     "execution_count": 68,
     "metadata": {},
     "output_type": "execute_result"
    }
   ],
   "source": [
    "t[0]"
   ]
  },
  {
   "cell_type": "code",
   "execution_count": 69,
   "metadata": {},
   "outputs": [],
   "source": [
    "u = ('blabla', 2, 'blibli')"
   ]
  },
  {
   "cell_type": "code",
   "execution_count": 70,
   "metadata": {},
   "outputs": [
    {
     "data": {
      "text/plain": [
       "('blabla', 2, 'blibli')"
      ]
     },
     "execution_count": 70,
     "metadata": {},
     "output_type": "execute_result"
    }
   ],
   "source": [
    "u"
   ]
  },
  {
   "cell_type": "markdown",
   "metadata": {},
   "source": [
    "##### 2.4 Les sets"
   ]
  },
  {
   "cell_type": "code",
   "execution_count": 71,
   "metadata": {},
   "outputs": [],
   "source": [
    "s = set(('blabla', 'blibli', 2, 'blabla'))"
   ]
  },
  {
   "cell_type": "code",
   "execution_count": 72,
   "metadata": {},
   "outputs": [
    {
     "data": {
      "text/plain": [
       "{2, 'blabla', 'blibli'}"
      ]
     },
     "execution_count": 72,
     "metadata": {},
     "output_type": "execute_result"
    }
   ],
   "source": [
    "s"
   ]
  },
  {
   "cell_type": "code",
   "execution_count": 75,
   "metadata": {},
   "outputs": [
    {
     "data": {
      "text/plain": [
       "{'blabla'}"
      ]
     },
     "execution_count": 75,
     "metadata": {},
     "output_type": "execute_result"
    }
   ],
   "source": [
    "s.difference(('blibli', 2))"
   ]
  },
  {
   "cell_type": "markdown",
   "metadata": {},
   "source": [
    "### L'assignement\n",
    "\n",
    "**Attention: un object peut avoir plusieurs noms attachés**"
   ]
  },
  {
   "cell_type": "code",
   "execution_count": 76,
   "metadata": {},
   "outputs": [],
   "source": [
    "a = [2, 4, 6]"
   ]
  },
  {
   "cell_type": "code",
   "execution_count": 77,
   "metadata": {},
   "outputs": [],
   "source": [
    "b = a"
   ]
  },
  {
   "cell_type": "code",
   "execution_count": 78,
   "metadata": {},
   "outputs": [
    {
     "data": {
      "text/plain": [
       "[2, 4, 6]"
      ]
     },
     "execution_count": 78,
     "metadata": {},
     "output_type": "execute_result"
    }
   ],
   "source": [
    "a"
   ]
  },
  {
   "cell_type": "code",
   "execution_count": 79,
   "metadata": {},
   "outputs": [
    {
     "data": {
      "text/plain": [
       "[2, 4, 6]"
      ]
     },
     "execution_count": 79,
     "metadata": {},
     "output_type": "execute_result"
    }
   ],
   "source": [
    "b"
   ]
  },
  {
   "cell_type": "code",
   "execution_count": 80,
   "metadata": {},
   "outputs": [
    {
     "data": {
      "text/plain": [
       "True"
      ]
     },
     "execution_count": 80,
     "metadata": {},
     "output_type": "execute_result"
    }
   ],
   "source": [
    "a is b"
   ]
  },
  {
   "cell_type": "code",
   "execution_count": 81,
   "metadata": {},
   "outputs": [],
   "source": [
    "b[2] = 12"
   ]
  },
  {
   "cell_type": "code",
   "execution_count": 82,
   "metadata": {},
   "outputs": [
    {
     "data": {
      "text/plain": [
       "[2, 4, 12]"
      ]
     },
     "execution_count": 82,
     "metadata": {},
     "output_type": "execute_result"
    }
   ],
   "source": [
    "a "
   ]
  },
  {
   "cell_type": "code",
   "execution_count": 83,
   "metadata": {},
   "outputs": [
    {
     "data": {
      "text/plain": [
       "140309535842248"
      ]
     },
     "execution_count": 83,
     "metadata": {},
     "output_type": "execute_result"
    }
   ],
   "source": [
    "id(a)"
   ]
  },
  {
   "cell_type": "code",
   "execution_count": 84,
   "metadata": {},
   "outputs": [
    {
     "data": {
      "text/plain": [
       "140309535842248"
      ]
     },
     "execution_count": 84,
     "metadata": {},
     "output_type": "execute_result"
    }
   ],
   "source": [
    "id(b)"
   ]
  },
  {
   "cell_type": "markdown",
   "metadata": {},
   "source": [
    "### Les structures de contrôle"
   ]
  },
  {
   "cell_type": "markdown",
   "metadata": {},
   "source": [
    "* **If/elif/else structure**"
   ]
  },
  {
   "cell_type": "code",
   "execution_count": 85,
   "metadata": {},
   "outputs": [
    {
     "name": "stdout",
     "output_type": "stream",
     "text": [
      "Hi!\n",
      "b smaller than 4\n"
     ]
    }
   ],
   "source": [
    "a = 4\n",
    "b = 3\n",
    "\n",
    "if a > b:\n",
    "    print('Hi!')\n",
    "else:\n",
    "    print('Bybye')\n",
    "\n",
    "if (a == 4 and a > b):\n",
    "    print('b smaller than 4')\n",
    "elif (a == 4 and a <= b):\n",
    "    print('b is greater than 4')\n",
    "else:\n",
    "    print('a does not equal 4')"
   ]
  },
  {
   "cell_type": "markdown",
   "metadata": {},
   "source": [
    "* **for loop**\n",
    "\n",
    "On peut itérer en utilisant un index:"
   ]
  },
  {
   "cell_type": "code",
   "execution_count": 86,
   "metadata": {},
   "outputs": [
    {
     "name": "stdout",
     "output_type": "stream",
     "text": [
      "0\n",
      "1\n",
      "2\n",
      "3\n",
      "4\n",
      "5\n",
      "6\n",
      "7\n",
      "8\n",
      "9\n"
     ]
    }
   ],
   "source": [
    "for i in range(10):\n",
    "    print(i)"
   ]
  },
  {
   "cell_type": "markdown",
   "metadata": {},
   "source": [
    "Assez souvent, il est préférable d'itérer sur des valeurs:"
   ]
  },
  {
   "cell_type": "code",
   "execution_count": 87,
   "metadata": {},
   "outputs": [
    {
     "name": "stdout",
     "output_type": "stream",
     "text": [
      "Python is cool\n",
      "Python is powerful\n",
      "Python is readable\n"
     ]
    }
   ],
   "source": [
    "for word in ('cool', 'powerful', 'readable'):\n",
    "    print('Python is %s' % word)"
   ]
  },
  {
   "cell_type": "markdown",
   "metadata": {},
   "source": [
    "On peut itérer sur n'importe quelle séquence (string, listes, keys d'un dictionnaire, lignes d'un fichier, ...)"
   ]
  },
  {
   "cell_type": "code",
   "execution_count": 88,
   "metadata": {},
   "outputs": [
    {
     "name": "stdout",
     "output_type": "stream",
     "text": [
      "o\n",
      "e\n",
      "u\n"
     ]
    }
   ],
   "source": [
    "vowels = 'aeiouy'\n",
    "for i in 'powerful':\n",
    "    if i in vowels:\n",
    "        print(i)"
   ]
  },
  {
   "cell_type": "code",
   "execution_count": 89,
   "metadata": {},
   "outputs": [
    {
     "name": "stdout",
     "output_type": "stream",
     "text": [
      "Hello\n",
      "how\n",
      "are\n",
      "you?\n"
     ]
    }
   ],
   "source": [
    "message = \"Hello how are you?\"\n",
    "message.split() # returns a list\n",
    "for word in message.split():\n",
    "    print(word)"
   ]
  },
  {
   "cell_type": "markdown",
   "metadata": {},
   "source": [
    "On peut utiliser `enumerate` pour obtenir l'indice et la valeur correspondante de la séquence:"
   ]
  },
  {
   "cell_type": "code",
   "execution_count": 90,
   "metadata": {},
   "outputs": [
    {
     "name": "stdout",
     "output_type": "stream",
     "text": [
      "(0, 'cool')\n",
      "(1, 'powerful')\n",
      "(2, 'readable')\n"
     ]
    }
   ],
   "source": [
    "words = ('cool', 'powerful', 'readable')\n",
    "for i in range(0, len(words)):\n",
    "    print((i, words[i]))"
   ]
  },
  {
   "cell_type": "code",
   "execution_count": 91,
   "metadata": {},
   "outputs": [
    {
     "name": "stdout",
     "output_type": "stream",
     "text": [
      "(0, 'cool')\n",
      "(1, 'powerful')\n",
      "(2, 'readable')\n"
     ]
    }
   ],
   "source": [
    "for index, item in enumerate(words):\n",
    "    print((index, item))"
   ]
  },
  {
   "cell_type": "markdown",
   "metadata": {},
   "source": [
    "On peut itérer sur un dictionnaire:"
   ]
  },
  {
   "cell_type": "code",
   "execution_count": 92,
   "metadata": {},
   "outputs": [
    {
     "name": "stdout",
     "output_type": "stream",
     "text": [
      "Key: a has value: 1\n",
      "Key: b has value: 1.2\n",
      "Key: c has value: 1j\n"
     ]
    }
   ],
   "source": [
    "d = {'a': 1, 'b':1.2, 'c':1j}\n",
    "for key, val in sorted(d.items()):\n",
    "    print('Key: %s has value: %s' % (key, val))"
   ]
  },
  {
   "cell_type": "markdown",
   "metadata": {},
   "source": [
    "Pour itérer sur deux objects en parallèle:"
   ]
  },
  {
   "cell_type": "code",
   "execution_count": 93,
   "metadata": {},
   "outputs": [
    {
     "name": "stdout",
     "output_type": "stream",
     "text": [
      "cat = chat\n",
      "dog = chien\n",
      "crow = corbeau\n",
      "mouse = souris\n"
     ]
    }
   ],
   "source": [
    "list_animal_en = ['cat', 'dog', 'crow', 'mouse']\n",
    "list_animal_fr = ['chat', 'chien', 'corbeau', 'souris']\n",
    "for il1, il2 in zip(list_animal_en, list_animal_fr):\n",
    "    print('%s = %s' % (il1, il2))"
   ]
  },
  {
   "cell_type": "markdown",
   "metadata": {},
   "source": [
    "Exercice: Compter le nombre d'occurences de chaque charactère dans la chaîne de caractères \"HelLo WorLd!!\" On renverra un dictionaire qui à la lettre associe son nombre d'occurences."
   ]
  },
  {
   "cell_type": "code",
   "execution_count": 94,
   "metadata": {},
   "outputs": [],
   "source": [
    "s = \"HelLo WorLd!!\""
   ]
  },
  {
   "cell_type": "code",
   "execution_count": 95,
   "metadata": {},
   "outputs": [
    {
     "name": "stdout",
     "output_type": "stream",
     "text": [
      "{' ': 1, 'W': 1, 'o': 2, 'l': 1, 'r': 1, 'L': 2, 'e': 1, '!': 2, 'd': 1, 'H': 1}\n"
     ]
    }
   ],
   "source": [
    "d = {}\n",
    "for l in s:\n",
    "    if l in d.keys():\n",
    "        d[l] += 1\n",
    "    else:\n",
    "        d[l] = 1\n",
    "print(d)"
   ]
  },
  {
   "cell_type": "markdown",
   "metadata": {},
   "source": [
    "**\"List comprehension\"**: une façon \"pythonesque\" de générer une liste"
   ]
  },
  {
   "cell_type": "code",
   "execution_count": 96,
   "metadata": {},
   "outputs": [
    {
     "data": {
      "text/plain": [
       "['ha', 'indeed', 'piggip']"
      ]
     },
     "execution_count": 96,
     "metadata": {},
     "output_type": "execute_result"
    }
   ],
   "source": [
    "[x for x in ['ha', 'indeed', 'piggip']]"
   ]
  },
  {
   "cell_type": "markdown",
   "metadata": {},
   "source": [
    "* **while condition**"
   ]
  },
  {
   "cell_type": "code",
   "execution_count": 97,
   "metadata": {},
   "outputs": [
    {
     "data": {
      "text/plain": [
       "(-134+352j)"
      ]
     },
     "execution_count": 97,
     "metadata": {},
     "output_type": "execute_result"
    }
   ],
   "source": [
    "z = 1 + 1j\n",
    "while abs(z) < 100:\n",
    "    z = z**2 + 1\n",
    "z"
   ]
  },
  {
   "cell_type": "markdown",
   "metadata": {},
   "source": [
    "Exercice: Calculer une approximation de π par la formule de Wallis:\n",
    "![Wallis](./wallis.png)"
   ]
  },
  {
   "cell_type": "code",
   "execution_count": 107,
   "metadata": {},
   "outputs": [
    {
     "data": {
      "text/plain": [
       "3.06003454712689"
      ]
     },
     "execution_count": 107,
     "metadata": {},
     "output_type": "execute_result"
    }
   ],
   "source": [
    "def wallis(n):\n",
    "    pi = 0.0   \n",
    "    for i in range(1, n):\n",
    "        x = 4 * (i ** 2)\n",
    "        y = x - 1\n",
    "        z = float(x) / float(y)\n",
    "        if (i == 1):\n",
    "            pi = z\n",
    "        else:\n",
    "            pi *= z\n",
    "    pi *= 2\n",
    "    return pi\n",
    "wallis(10)"
   ]
  },
  {
   "cell_type": "markdown",
   "metadata": {},
   "source": [
    "### Les functions"
   ]
  },
  {
   "cell_type": "code",
   "execution_count": 108,
   "metadata": {},
   "outputs": [],
   "source": [
    "def say_multiple_hello(n):\n",
    "    '''Print hello n times'''\n",
    "    for i in range(n):\n",
    "        print('hello')"
   ]
  },
  {
   "cell_type": "code",
   "execution_count": 109,
   "metadata": {},
   "outputs": [],
   "source": [
    "def add(a, b):\n",
    "    '''Return the sum of two numbers a and b (float)'''\n",
    "    return a + b"
   ]
  },
  {
   "cell_type": "markdown",
   "metadata": {},
   "source": [
    "Remarque: par défaut, les fonctions renvoient `None`"
   ]
  },
  {
   "cell_type": "markdown",
   "metadata": {},
   "source": [
    "Pour utiliser comme input des variables optionnelles:"
   ]
  },
  {
   "cell_type": "code",
   "execution_count": 110,
   "metadata": {},
   "outputs": [],
   "source": [
    "def double_it(x=2):\n",
    "    return x * 2"
   ]
  },
  {
   "cell_type": "code",
   "execution_count": 111,
   "metadata": {},
   "outputs": [
    {
     "data": {
      "text/plain": [
       "4"
      ]
     },
     "execution_count": 111,
     "metadata": {},
     "output_type": "execute_result"
    }
   ],
   "source": [
    "double_it()"
   ]
  },
  {
   "cell_type": "code",
   "execution_count": 112,
   "metadata": {},
   "outputs": [
    {
     "data": {
      "text/plain": [
       "6"
      ]
     },
     "execution_count": 112,
     "metadata": {},
     "output_type": "execute_result"
    }
   ],
   "source": [
    "double_it(3)"
   ]
  },
  {
   "cell_type": "markdown",
   "metadata": {},
   "source": [
    "**Attention:** si une valeur d'input d'une fonction est \"immutable\", elle ne va pas être modifiée par la fonction. Par contre, si elle est \"mutable\", il se peut qu'elle soit modifiée, comme dans l'exemple ci-dessous:"
   ]
  },
  {
   "cell_type": "code",
   "execution_count": 113,
   "metadata": {},
   "outputs": [
    {
     "name": "stdout",
     "output_type": "stream",
     "text": [
      "23\n",
      "[99, 42]\n",
      "[99]\n",
      "77\n",
      "[99, 42]\n",
      "[28]\n"
     ]
    }
   ],
   "source": [
    "def try_to_modify(x, y, z):\n",
    "    x = 23\n",
    "    y.append(42)\n",
    "    z = [99] # new reference\n",
    "    print(x)\n",
    "    print(y)\n",
    "    print(z)\n",
    "a = 77    # immutable variable\n",
    "b = [99]  # mutable variable\n",
    "c = [28]\n",
    "try_to_modify(a, b, c)\n",
    "print(a)\n",
    "print(b)\n",
    "print(c)"
   ]
  },
  {
   "cell_type": "markdown",
   "metadata": {},
   "source": [
    "**Remarque:** Les fonctions sont des **objects**, qui peuvent:\n",
    "* être assignées à une variable  \n",
    "* un élément d'une liste  \n",
    "* être utilisée comme argument d'une autre fonction"
   ]
  },
  {
   "cell_type": "code",
   "execution_count": 114,
   "metadata": {},
   "outputs": [
    {
     "name": "stdout",
     "output_type": "stream",
     "text": [
      "<class 'function'>\n"
     ]
    },
    {
     "data": {
      "text/plain": [
       "12"
      ]
     },
     "execution_count": 114,
     "metadata": {},
     "output_type": "execute_result"
    }
   ],
   "source": [
    "a = double_it\n",
    "print(type(a))\n",
    "a(6)"
   ]
  },
  {
   "cell_type": "markdown",
   "metadata": {},
   "source": [
    "### Les modules"
   ]
  },
  {
   "cell_type": "markdown",
   "metadata": {},
   "source": [
    "L'import des modules se fait en tête d'un script Python. Il est recommandé d'importer en premier les modules qui sont le plus bas niveau. "
   ]
  },
  {
   "cell_type": "code",
   "execution_count": 115,
   "metadata": {},
   "outputs": [],
   "source": [
    "import os"
   ]
  },
  {
   "cell_type": "code",
   "execution_count": 116,
   "metadata": {},
   "outputs": [
    {
     "data": {
      "text/plain": [
       "['.ipynb_checkpoints', 'wallis.png', '1_python_language_sol.ipynb']"
      ]
     },
     "execution_count": 116,
     "metadata": {},
     "output_type": "execute_result"
    }
   ],
   "source": [
    "os.listdir('.')"
   ]
  },
  {
   "cell_type": "code",
   "execution_count": 117,
   "metadata": {},
   "outputs": [
    {
     "data": {
      "text/plain": [
       "['.ipynb_checkpoints', 'wallis.png', '1_python_language_sol.ipynb']"
      ]
     },
     "execution_count": 117,
     "metadata": {},
     "output_type": "execute_result"
    }
   ],
   "source": [
    "from os import listdir\n",
    "listdir('.')"
   ]
  },
  {
   "cell_type": "code",
   "execution_count": 118,
   "metadata": {},
   "outputs": [
    {
     "ename": "ImportError",
     "evalue": "No module named 'numpy'",
     "output_type": "error",
     "traceback": [
      "\u001b[0;31m---------------------------------------------------------------------------\u001b[0m",
      "\u001b[0;31mImportError\u001b[0m                               Traceback (most recent call last)",
      "\u001b[0;32m<ipython-input-118-0aa0b027fcb6>\u001b[0m in \u001b[0;36m<module>\u001b[0;34m()\u001b[0m\n\u001b[0;32m----> 1\u001b[0;31m \u001b[0;32mimport\u001b[0m \u001b[0mnumpy\u001b[0m \u001b[0;32mas\u001b[0m \u001b[0mnp\u001b[0m\u001b[0;34m\u001b[0m\u001b[0m\n\u001b[0m",
      "\u001b[0;31mImportError\u001b[0m: No module named 'numpy'"
     ]
    }
   ],
   "source": [
    "import numpy as np"
   ]
  },
  {
   "cell_type": "markdown",
   "metadata": {
    "collapsed": true
   },
   "source": [
    "**On peut aussi créer des modules.**"
   ]
  },
  {
   "cell_type": "code",
   "execution_count": 122,
   "metadata": {},
   "outputs": [
    {
     "name": "stdout",
     "output_type": "stream",
     "text": [
      "Overwriting demo.py\n"
     ]
    }
   ],
   "source": [
    "%%writefile demo.py\n",
    "\"A demo module.\"\n",
    "\n",
    "def print_b():\n",
    "    \"Prints b.\"\n",
    "    print('b')\n",
    "\n",
    "def print_a():\n",
    "    \"Prints a.\"\n",
    "    print('a')\n",
    "\n",
    "c = 2\n",
    "d = 2"
   ]
  },
  {
   "cell_type": "markdown",
   "metadata": {},
   "source": [
    "On peut ensuite utiliser ce module:"
   ]
  },
  {
   "cell_type": "code",
   "execution_count": 123,
   "metadata": {},
   "outputs": [],
   "source": [
    "import demo"
   ]
  },
  {
   "cell_type": "code",
   "execution_count": 124,
   "metadata": {},
   "outputs": [
    {
     "name": "stdout",
     "output_type": "stream",
     "text": [
      "a\n"
     ]
    }
   ],
   "source": [
    "demo.print_a()"
   ]
  },
  {
   "cell_type": "markdown",
   "metadata": {},
   "source": [
    "On a alors accès aux objets du module (variables, fonctions et classes):"
   ]
  },
  {
   "cell_type": "code",
   "execution_count": 125,
   "metadata": {},
   "outputs": [],
   "source": [
    "demo?"
   ]
  },
  {
   "cell_type": "code",
   "execution_count": 126,
   "metadata": {},
   "outputs": [
    {
     "name": "stdout",
     "output_type": "stream",
     "text": [
      "Variable             Type                          Data/Info\n",
      "------------------------------------------------------------\n",
      "a                    function                      <function double_it at 0x7f9c4ebaa7b8>\n",
      "add                  function                      <function add at 0x7f9c4ebaa158>\n",
      "b                    list                          n=2\n",
      "c                    list                          n=1\n",
      "d                    dict                          n=10\n",
      "dd                   dict                          n=3\n",
      "demo                 module                        <module 'demo' from '/hom<...>ine/TP/session1/demo.py'>\n",
      "double_it            function                      <function double_it at 0x7f9c4ebaa7b8>\n",
      "element              int                           4\n",
      "i                    int                           2\n",
      "il1                  str                           mouse\n",
      "il2                  str                           souris\n",
      "index                int                           2\n",
      "item                 str                           readable\n",
      "jour                 list                          n=2\n",
      "key                  str                           c\n",
      "l                    str                           !\n",
      "list_animal_en       list                          n=4\n",
      "list_animal_fr       list                          n=4\n",
      "listdir              builtin_function_or_method    <built-in function listdir>\n",
      "message              str                           Hello how are you?\n",
      "os                   module                        <module 'os' from '/home/<...>ine/lib/python3.5/os.py'>\n",
      "s                    str                           HelLo WorLd!!\n",
      "say_multiple_hello   function                      <function say_multiple_hello at 0x7f9c4ebaa620>\n",
      "semaine              list                          n=5\n",
      "t                    tuple                         n=3\n",
      "this                 module                        <module 'this' from '/usr/lib/python3.5/this.py'>\n",
      "try_to_modify        function                      <function try_to_modify at 0x7f9c5c0711e0>\n",
      "u                    tuple                         n=3\n",
      "val                  complex                       1j\n",
      "vowels               str                           aeiouy\n",
      "wallis               function                      <function wallis at 0x7f9c5c048620>\n",
      "word                 str                           you?\n",
      "words                tuple                         n=3\n",
      "x                    int                           5\n",
      "z                    complex                       (-134+352j)\n"
     ]
    }
   ],
   "source": [
    "%whos"
   ]
  },
  {
   "cell_type": "code",
   "execution_count": null,
   "metadata": {},
   "outputs": [],
   "source": [
    "demo."
   ]
  },
  {
   "cell_type": "markdown",
   "metadata": {},
   "source": [
    "Afin d'exécuter du code directement quand un module est chargé, on peut utiliser **`__main__`**:"
   ]
  },
  {
   "cell_type": "code",
   "execution_count": 129,
   "metadata": {},
   "outputs": [
    {
     "name": "stdout",
     "output_type": "stream",
     "text": [
      "Overwriting demo2.py\n"
     ]
    }
   ],
   "source": [
    "%%writefile demo2.py\n",
    "def print_b():\n",
    "    \"Prints b.\"\n",
    "    print('b')\n",
    "\n",
    "def print_a():\n",
    "    \"Prints a.\"\n",
    "    print('a')\n",
    "\n",
    "# print_b() runs on import\n",
    "print_b()\n",
    "\n",
    "if __name__ == '__main__':\n",
    "    # print_a() is only executed when the module is run directly.\n",
    "    print_a()"
   ]
  },
  {
   "cell_type": "code",
   "execution_count": 130,
   "metadata": {},
   "outputs": [
    {
     "name": "stdout",
     "output_type": "stream",
     "text": [
      "b\n"
     ]
    }
   ],
   "source": [
    "import demo2"
   ]
  },
  {
   "cell_type": "code",
   "execution_count": 131,
   "metadata": {},
   "outputs": [
    {
     "name": "stdout",
     "output_type": "stream",
     "text": [
      "b\n",
      "a\n"
     ]
    }
   ],
   "source": [
    "%run demo2"
   ]
  },
  {
   "cell_type": "markdown",
   "metadata": {},
   "source": [
    "Exercice: implémenter quicksort\n",
    "\n",
    "La [page wikipedia](https://en.wikipedia.org/wiki/Quicksort) décrivant l’algorithme de tri quicksort donne le pseudo-code suivant:\n",
    "```\n",
    "function quicksort('array')\n",
    "   if length('array') <= 1\n",
    "        return 'array'\n",
    "   select and remove a pivot value 'pivot' from 'array'\n",
    "   create empty lists 'less' and 'greater'\n",
    "   for each 'x' in 'array'\n",
    "       if 'x' <= 'pivot' then append 'x' to 'less'\n",
    "       else append 'x' to 'greater'\n",
    "   return concatenate(quicksort('less'), 'pivot', quicksort('greater'))\n",
    "```\n",
    "Transformer ce pseudo-code en code valide Python.\n",
    "\n",
    "Des indices:\n",
    "* la longueur d’une liste est donnée par `len(l)`\n",
    "* deux listes peuvent être concaténées avec `l1 + l2`\n",
    "\n",
    "Attention: une liste est mutable...\n",
    "\n",
    "Il vous suffit de compléter cette ébauche:"
   ]
  },
  {
   "cell_type": "code",
   "execution_count": null,
   "metadata": {},
   "outputs": [],
   "source": [
    "def quicksort(ll):\n",
    "    # ...\n",
    "    return \n",
    "\n",
    "quicksort([-2, 3, 5, 1, 3])"
   ]
  },
  {
   "cell_type": "code",
   "execution_count": 132,
   "metadata": {},
   "outputs": [
    {
     "data": {
      "text/plain": [
       "[-2, 1, 3, 3, 5]"
      ]
     },
     "execution_count": 132,
     "metadata": {},
     "output_type": "execute_result"
    }
   ],
   "source": [
    "def quicksort(ll):\n",
    "    less = []\n",
    "    equal = []\n",
    "    greater = []\n",
    "\n",
    "    if len(ll) > 1:\n",
    "        pivot = ll[0]\n",
    "        for x in ll:\n",
    "            if x < pivot:\n",
    "                less.append(x)\n",
    "            if x == pivot:\n",
    "                equal.append(x)\n",
    "            if x > pivot:\n",
    "                greater.append(x)\n",
    "        return quicksort(less) + equal + quicksort(greater)  \n",
    "    else:  # You need to hande the part at the end of the recursion - when you only have one element in your array, just return the array.\n",
    "        return ll\n",
    "\n",
    "quicksort([-2, 3, 5, 1, 3])"
   ]
  },
  {
   "cell_type": "markdown",
   "metadata": {},
   "source": [
    "### Les classes\n",
    "\n",
    "* Les classes sont les éléments centraux de la programmation orientée objet.\n",
    "* Classe: structure qui sert à représenter un objet et l'ensemble des opérations qui peuvent êtres effectuées sur ce dernier.\n",
    "\n",
    "Dans Python une classe contient des attributs (variables) et des méthodes (fonctions). Elle est définie de manière analogue aux fonctions mais en utilisant le mot clé class. La définition d'une classe contient généralement un certain nombre de méthodes de classe (des fonctions dans la classe).\n",
    "\n",
    "* Le premier argument d'un méthode doit être self: argument obligatoire. Cet objet self est une auto-référence.\n",
    "* Certains noms de méthodes ont un sens particulier, par exemple :  \n",
    "  * __init__: nom de la méthode invoquée à la création de l'objet  \n",
    "  * __str__ : méthode invoquée lorsque une représentation de la classe sous forme de chaîne de caractères est demandée, par exemple quand la classe est passée à print  "
   ]
  },
  {
   "cell_type": "code",
   "execution_count": 133,
   "metadata": {},
   "outputs": [],
   "source": [
    "class CoursPython:\n",
    "    \n",
    "    language = 'Python'\n",
    "    \n",
    "    def __init__(self, names, date):\n",
    "        self.names = names\n",
    "        self.date = date\n",
    "        \n",
    "    def show_course(self):\n",
    "        print('%s sont a la formation Python du %s' %\n",
    "              (self.names, self.date))"
   ]
  },
  {
   "cell_type": "code",
   "execution_count": 134,
   "metadata": {},
   "outputs": [],
   "source": [
    "cours_python = CoursPython('Patrick, Chantal', '19/10/17')"
   ]
  },
  {
   "cell_type": "code",
   "execution_count": 135,
   "metadata": {},
   "outputs": [
    {
     "name": "stdout",
     "output_type": "stream",
     "text": [
      "Patrick, Chantal sont a la formation Python du 19/10/17\n"
     ]
    }
   ],
   "source": [
    "cours_python.show_course()"
   ]
  },
  {
   "cell_type": "code",
   "execution_count": 137,
   "metadata": {},
   "outputs": [
    {
     "data": {
      "text/plain": [
       "'Python'"
      ]
     },
     "execution_count": 137,
     "metadata": {},
     "output_type": "execute_result"
    }
   ],
   "source": [
    "cours_python.language"
   ]
  },
  {
   "cell_type": "markdown",
   "metadata": {},
   "source": [
    "**Attention:** différence entre la définition d'un attribut de la classe et son instantiation à la création de la classe."
   ]
  },
  {
   "cell_type": "code",
   "execution_count": 138,
   "metadata": {},
   "outputs": [],
   "source": [
    "class A:\n",
    "    foo = []\n",
    "\n",
    "class B:\n",
    "    def __init__(self):\n",
    "        self.foo = []"
   ]
  },
  {
   "cell_type": "code",
   "execution_count": 139,
   "metadata": {},
   "outputs": [],
   "source": [
    "a = A()\n",
    "b = A()"
   ]
  },
  {
   "cell_type": "code",
   "execution_count": 140,
   "metadata": {},
   "outputs": [],
   "source": [
    "a.foo.append(4)"
   ]
  },
  {
   "cell_type": "code",
   "execution_count": 141,
   "metadata": {},
   "outputs": [
    {
     "data": {
      "text/plain": [
       "[4]"
      ]
     },
     "execution_count": 141,
     "metadata": {},
     "output_type": "execute_result"
    }
   ],
   "source": [
    "b.foo"
   ]
  },
  {
   "cell_type": "code",
   "execution_count": 142,
   "metadata": {},
   "outputs": [],
   "source": [
    "a = B()\n",
    "b = B()"
   ]
  },
  {
   "cell_type": "code",
   "execution_count": 143,
   "metadata": {},
   "outputs": [],
   "source": [
    "a.foo.append(4)"
   ]
  },
  {
   "cell_type": "code",
   "execution_count": 144,
   "metadata": {},
   "outputs": [
    {
     "data": {
      "text/plain": [
       "[]"
      ]
     },
     "execution_count": 144,
     "metadata": {},
     "output_type": "execute_result"
    }
   ],
   "source": [
    "b.foo"
   ]
  },
  {
   "cell_type": "markdown",
   "metadata": {},
   "source": [
    "Exercice: Définir une classe `Satellite()` qui permette d'instancier des objets simulant des satellites artificiels lancés dans l'espace, autour de la terre. \n",
    "\n",
    "Le constructeur de cette classe initialisera les attributs d'instance suivants, avec les valeurs par défaut indiquées:   \n",
    "* masse = 100 \n",
    "* vitesse = 0  \n",
    "\n",
    "Lorsque l'on instanciera un nouvel objet `Satellite()`, on pourra choisir son nom, sa masse et sa vitesse. \n",
    "\n",
    "Les méthodes suivantes seront définies : \n",
    "* `impulsion(force, duree)` permettra de faire varier la vitesse du satellite. La variation de vitesse \n",
    "${\\displaystyle \\Delta v}$ subie par un objet de masse $m$ soumis à l'action d'une force $F$ pendant un temps $t$ vaut $${\\displaystyle \\Delta v={\\frac {F\\times \\Delta t}{m}}}$$\n",
    "Par exemple : un satellite de 300 kg qui subit une force de 600 Newtons pendant 10 secondes voit sa vitesse augmenter (ou diminuer) de 20 m/s. \n",
    "* `affiche_vitesse()` affichera le nom du satellite et sa vitesse courante. \n",
    "* `energie()` renverra au programme appelant la valeur de l'énergie cinétique du satellite. L'énergie cinétique ${\\displaystyle E_{c}}$ se calcule à l'aide de la formule $${\\displaystyle E_{c}={\\frac {1}{2}}mv^{2}}$$ \n",
    "\n",
    "\n",
    "Exemples d'utilisation de cette classe :\n",
    "```\n",
    ">>> s1 = Satellite('Zoé', masse =250, vitesse =10)\n",
    ">>> s1.impulsion(500, 15)\n",
    ">>> s1.affiche_vitesse()\n",
    "vitesse du satellite Zoé = 40 m/s.\n",
    ">>> print s1.energie()\n",
    "200000\n",
    ">>> s1.impulsion(500, 15)\n",
    ">>> s1.affiche_vitesse()\n",
    "vitesse du satellite Zoé = 70 m/s.\n",
    ">>> print s1.energie()\n",
    "612500\n",
    "```"
   ]
  },
  {
   "cell_type": "code",
   "execution_count": 147,
   "metadata": {},
   "outputs": [
    {
     "name": "stdout",
     "output_type": "stream",
     "text": [
      "Vitesse du satellite Zoé = 40.0 m/s\n",
      "200000.0\n",
      "Vitesse du satellite Zoé = 70.0 m/s\n",
      "612500.0\n"
     ]
    }
   ],
   "source": [
    "class Satellite:\n",
    "    def __init__(self, nom, masse =100, vitesse =0):\n",
    "        self.nom, self.masse, self.vitesse = nom, masse, vitesse\n",
    "             \n",
    "    def impulsion(self, force, duree):\n",
    "        self.vitesse = self.vitesse + force * duree / self.masse\n",
    "            \n",
    "    def energie(self):\n",
    "        return self.masse * self.vitesse**2 / 2    \n",
    "                   \n",
    "    def affiche_vitesse(self):\n",
    "        print(\"Vitesse du satellite %s = %s m/s\" \n",
    "             % (self.nom, self.vitesse))\n",
    "\n",
    "# Programme de test :\n",
    "s1 = Satellite('Zoé', masse=250, vitesse=10)\n",
    "s1.impulsion(500, 15)\n",
    "s1.affiche_vitesse()\n",
    "print(s1.energie())\n",
    "s1.impulsion(500, 15)\n",
    "s1.affiche_vitesse()\n",
    "print(s1.energie())"
   ]
  },
  {
   "cell_type": "code",
   "execution_count": null,
   "metadata": {},
   "outputs": [],
   "source": []
  }
 ],
 "metadata": {
  "kernelspec": {
   "display_name": "Python 3",
   "language": "python",
   "name": "python3"
  },
  "language_info": {
   "codemirror_mode": {
    "name": "ipython",
    "version": 3
   },
   "file_extension": ".py",
   "mimetype": "text/x-python",
   "name": "python",
   "nbconvert_exporter": "python",
   "pygments_lexer": "ipython3",
   "version": "3.5.2"
  }
 },
 "nbformat": 4,
 "nbformat_minor": 1
}
